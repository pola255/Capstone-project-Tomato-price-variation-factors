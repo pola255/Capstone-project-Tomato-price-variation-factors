{
 "cells": [
  {
   "cell_type": "markdown",
   "metadata": {},
   "source": [
    "Time series, tomato price predicted with random forest:\n"
   ]
  },
  {
   "cell_type": "code",
   "execution_count": 27,
   "metadata": {},
   "outputs": [],
   "source": [
    "import pandas as pd\n",
    "import numpy as np\n",
    "from sklearn.pipeline import Pipeline, FeatureUnion\n",
    "from sklearn import preprocessing\n",
    "from sklearn.preprocessing import StandardScaler\n",
    "from sklearn.preprocessing import MinMaxScaler, FunctionTransformer, PolynomialFeatures\n",
    "from sklearn.decomposition import PCA\n",
    "import matplotlib.pyplot as plt\n",
    "import seaborn as sns\n",
    "import eli5\n",
    "from sklearn.compose import ColumnTransformer\n",
    "from sklearn.model_selection import train_test_split, GridSearchCV\n",
    "from sklearn.tree import DecisionTreeClassifier\n",
    "from sklearn.ensemble import RandomForestClassifier\n",
    "import sklearn.metrics\n",
    "from sklearn.metrics import classification_report\n",
    "from sklearn.metrics import confusion_matrix, roc_auc_score\n",
    "from sklearn.metrics import roc_curve\n",
    "\n",
    "\n"
   ]
  },
  {
   "cell_type": "code",
   "execution_count": 2,
   "metadata": {},
   "outputs": [
    {
     "data": {
      "text/html": [
       "<div>\n",
       "<style scoped>\n",
       "    .dataframe tbody tr th:only-of-type {\n",
       "        vertical-align: middle;\n",
       "    }\n",
       "\n",
       "    .dataframe tbody tr th {\n",
       "        vertical-align: top;\n",
       "    }\n",
       "\n",
       "    .dataframe thead th {\n",
       "        text-align: right;\n",
       "    }\n",
       "</style>\n",
       "<table border=\"1\" class=\"dataframe\">\n",
       "  <thead>\n",
       "    <tr style=\"text-align: right;\">\n",
       "      <th></th>\n",
       "      <th>day</th>\n",
       "      <th>temperature_max</th>\n",
       "      <th>temperature_min</th>\n",
       "      <th>humidity</th>\n",
       "      <th>precip_intensity</th>\n",
       "      <th>precip_intensity_max</th>\n",
       "      <th>pressure</th>\n",
       "      <th>visibility</th>\n",
       "      <th>wind_speed</th>\n",
       "      <th>oil_price</th>\n",
       "      <th>lettuce_price</th>\n",
       "      <th>onion_price</th>\n",
       "      <th>tomato_price</th>\n",
       "    </tr>\n",
       "  </thead>\n",
       "  <tbody>\n",
       "    <tr>\n",
       "      <th>0</th>\n",
       "      <td>2015-01-31 00:00:00+00:00</td>\n",
       "      <td>0.86</td>\n",
       "      <td>0.22</td>\n",
       "      <td>0.866429</td>\n",
       "      <td>2.21</td>\n",
       "      <td>2.45</td>\n",
       "      <td>101.42</td>\n",
       "      <td>450.37</td>\n",
       "      <td>0.55</td>\n",
       "      <td>31.509143</td>\n",
       "      <td>0.3320</td>\n",
       "      <td>0.3620</td>\n",
       "      <td>0.3900</td>\n",
       "    </tr>\n",
       "    <tr>\n",
       "      <th>1</th>\n",
       "      <td>2015-02-28 00:00:00+00:00</td>\n",
       "      <td>0.80</td>\n",
       "      <td>0.19</td>\n",
       "      <td>0.842143</td>\n",
       "      <td>0.01</td>\n",
       "      <td>0.02</td>\n",
       "      <td>101.66</td>\n",
       "      <td>559.40</td>\n",
       "      <td>0.42</td>\n",
       "      <td>33.266871</td>\n",
       "      <td>0.3325</td>\n",
       "      <td>0.3325</td>\n",
       "      <td>0.3325</td>\n",
       "    </tr>\n",
       "    <tr>\n",
       "      <th>2</th>\n",
       "      <td>2015-03-31 00:00:00+00:00</td>\n",
       "      <td>1.12</td>\n",
       "      <td>0.38</td>\n",
       "      <td>0.791875</td>\n",
       "      <td>0.00</td>\n",
       "      <td>0.02</td>\n",
       "      <td>102.05</td>\n",
       "      <td>487.51</td>\n",
       "      <td>0.49</td>\n",
       "      <td>31.995306</td>\n",
       "      <td>0.3225</td>\n",
       "      <td>0.7225</td>\n",
       "      <td>1.1600</td>\n",
       "    </tr>\n",
       "  </tbody>\n",
       "</table>\n",
       "</div>"
      ],
      "text/plain": [
       "                         day  temperature_max  temperature_min  humidity  \\\n",
       "0  2015-01-31 00:00:00+00:00             0.86             0.22  0.866429   \n",
       "1  2015-02-28 00:00:00+00:00             0.80             0.19  0.842143   \n",
       "2  2015-03-31 00:00:00+00:00             1.12             0.38  0.791875   \n",
       "\n",
       "   precip_intensity  precip_intensity_max  pressure  visibility  wind_speed  \\\n",
       "0              2.21                  2.45    101.42      450.37        0.55   \n",
       "1              0.01                  0.02    101.66      559.40        0.42   \n",
       "2              0.00                  0.02    102.05      487.51        0.49   \n",
       "\n",
       "   oil_price  lettuce_price  onion_price  tomato_price  \n",
       "0  31.509143         0.3320       0.3620        0.3900  \n",
       "1  33.266871         0.3325       0.3325        0.3325  \n",
       "2  31.995306         0.3225       0.7225        1.1600  "
      ]
     },
     "execution_count": 2,
     "metadata": {},
     "output_type": "execute_result"
    }
   ],
   "source": [
    "# Load data\n",
    "data = pd.read_csv(\"data/all_data.csv\")\n",
    "data.head(3)\n"
   ]
  },
  {
   "cell_type": "code",
   "execution_count": 3,
   "metadata": {},
   "outputs": [
    {
     "data": {
      "text/plain": [
       "(60, 13)"
      ]
     },
     "execution_count": 3,
     "metadata": {},
     "output_type": "execute_result"
    }
   ],
   "source": [
    "# I check the shape\n",
    "data.shape"
   ]
  },
  {
   "cell_type": "code",
   "execution_count": 4,
   "metadata": {},
   "outputs": [],
   "source": [
    "# round and reemplace missing values for mean\n",
    "data = data.round(2)\n",
    "data = data.fillna(value=round(data.mean(), 2))\n"
   ]
  },
  {
   "cell_type": "code",
   "execution_count": 5,
   "metadata": {},
   "outputs": [
    {
     "data": {
      "text/plain": [
       "Text(0.5, 0, 'Tomato price feature')"
      ]
     },
     "execution_count": 5,
     "metadata": {},
     "output_type": "execute_result"
    },
    {
     "data": {
      "image/png": "[encoded data removed]",
      "text/plain": [
       "<Figure size 432x288 with 1 Axes>"
      ]
     },
     "metadata": {
      "needs_background": "light"
     },
     "output_type": "display_data"
    }
   ],
   "source": [
    "# Display histogram of the price scores\n",
    "data['tomato_price'].hist()\n",
    "plt.xlabel('Tomato price feature')"
   ]
  },
  {
   "cell_type": "code",
   "execution_count": 6,
   "metadata": {},
   "outputs": [],
   "source": [
    "# the histogram seems to be unbalanced\n"
   ]
  },
  {
   "cell_type": "code",
   "execution_count": 7,
   "metadata": {},
   "outputs": [
    {
     "data": {
      "text/plain": [
       "-1    33\n",
       " 1    27\n",
       "Name: tomato_price, dtype: int64"
      ]
     },
     "execution_count": 7,
     "metadata": {},
     "output_type": "execute_result"
    }
   ],
   "source": [
    "# I build a function to balance the tomato_price column\n",
    "\n",
    "def transform(col):\n",
    "    col = round(col, 2)\n",
    "    if col < 0.89:\n",
    "        return -1\n",
    "    elif col > 0.89:\n",
    "        return 1\n",
    "    else: \n",
    "        return 0\n",
    "data['tomato_price'] = data['tomato_price'].apply(transform)\n",
    "\n",
    "data.tomato_price.value_counts()"
   ]
  },
  {
   "cell_type": "code",
   "execution_count": 8,
   "metadata": {},
   "outputs": [
    {
     "data": {
      "text/plain": [
       "Text(0.5, 0, 'Tomato price feature')"
      ]
     },
     "execution_count": 8,
     "metadata": {},
     "output_type": "execute_result"
    },
    {
     "data": {
      "image/png": "[encoded data removed]",
      "text/plain": [
       "<Figure size 432x288 with 1 Axes>"
      ]
     },
     "metadata": {
      "needs_background": "light"
     },
     "output_type": "display_data"
    }
   ],
   "source": [
    "\n",
    "data['tomato_price'].hist()\n",
    "plt.xlabel('Tomato price feature')\n"
   ]
  },
  {
   "cell_type": "code",
   "execution_count": 9,
   "metadata": {},
   "outputs": [],
   "source": [
    "# the histogram seems balanced"
   ]
  },
  {
   "cell_type": "code",
   "execution_count": 10,
   "metadata": {},
   "outputs": [
    {
     "data": {
      "text/html": [
       "<div>\n",
       "<style scoped>\n",
       "    .dataframe tbody tr th:only-of-type {\n",
       "        vertical-align: middle;\n",
       "    }\n",
       "\n",
       "    .dataframe tbody tr th {\n",
       "        vertical-align: top;\n",
       "    }\n",
       "\n",
       "    .dataframe thead th {\n",
       "        text-align: right;\n",
       "    }\n",
       "</style>\n",
       "<table border=\"1\" class=\"dataframe\">\n",
       "  <thead>\n",
       "    <tr style=\"text-align: right;\">\n",
       "      <th></th>\n",
       "      <th>temperature_max</th>\n",
       "      <th>temperature_min</th>\n",
       "      <th>humidity</th>\n",
       "      <th>precip_intensity</th>\n",
       "      <th>precip_intensity_max</th>\n",
       "      <th>pressure</th>\n",
       "      <th>visibility</th>\n",
       "      <th>wind_speed</th>\n",
       "      <th>oil_price</th>\n",
       "      <th>lettuce_price</th>\n",
       "      <th>onion_price</th>\n",
       "      <th>tomato_price</th>\n",
       "      <th>year</th>\n",
       "      <th>month</th>\n",
       "      <th>days</th>\n",
       "    </tr>\n",
       "  </thead>\n",
       "  <tbody>\n",
       "    <tr>\n",
       "      <th>0</th>\n",
       "      <td>0.86</td>\n",
       "      <td>0.22</td>\n",
       "      <td>0.87</td>\n",
       "      <td>2.21</td>\n",
       "      <td>2.45</td>\n",
       "      <td>101.42</td>\n",
       "      <td>450.37</td>\n",
       "      <td>0.55</td>\n",
       "      <td>31.51</td>\n",
       "      <td>0.33</td>\n",
       "      <td>0.36</td>\n",
       "      <td>-1</td>\n",
       "      <td>2015</td>\n",
       "      <td>1</td>\n",
       "      <td>31</td>\n",
       "    </tr>\n",
       "    <tr>\n",
       "      <th>1</th>\n",
       "      <td>0.80</td>\n",
       "      <td>0.19</td>\n",
       "      <td>0.84</td>\n",
       "      <td>0.01</td>\n",
       "      <td>0.02</td>\n",
       "      <td>101.66</td>\n",
       "      <td>559.40</td>\n",
       "      <td>0.42</td>\n",
       "      <td>33.27</td>\n",
       "      <td>0.33</td>\n",
       "      <td>0.33</td>\n",
       "      <td>-1</td>\n",
       "      <td>2015</td>\n",
       "      <td>2</td>\n",
       "      <td>28</td>\n",
       "    </tr>\n",
       "    <tr>\n",
       "      <th>2</th>\n",
       "      <td>1.12</td>\n",
       "      <td>0.38</td>\n",
       "      <td>0.79</td>\n",
       "      <td>0.00</td>\n",
       "      <td>0.02</td>\n",
       "      <td>102.05</td>\n",
       "      <td>487.51</td>\n",
       "      <td>0.49</td>\n",
       "      <td>32.00</td>\n",
       "      <td>0.32</td>\n",
       "      <td>0.72</td>\n",
       "      <td>1</td>\n",
       "      <td>2015</td>\n",
       "      <td>3</td>\n",
       "      <td>31</td>\n",
       "    </tr>\n",
       "  </tbody>\n",
       "</table>\n",
       "</div>"
      ],
      "text/plain": [
       "   temperature_max  temperature_min  humidity  precip_intensity  \\\n",
       "0             0.86             0.22      0.87              2.21   \n",
       "1             0.80             0.19      0.84              0.01   \n",
       "2             1.12             0.38      0.79              0.00   \n",
       "\n",
       "   precip_intensity_max  pressure  visibility  wind_speed  oil_price  \\\n",
       "0                  2.45    101.42      450.37        0.55      31.51   \n",
       "1                  0.02    101.66      559.40        0.42      33.27   \n",
       "2                  0.02    102.05      487.51        0.49      32.00   \n",
       "\n",
       "   lettuce_price  onion_price  tomato_price  year  month  days  \n",
       "0           0.33         0.36            -1  2015      1    31  \n",
       "1           0.33         0.33            -1  2015      2    28  \n",
       "2           0.32         0.72             1  2015      3    31  "
      ]
     },
     "execution_count": 10,
     "metadata": {},
     "output_type": "execute_result"
    }
   ],
   "source": [
    "# I split the column of the day into days, months and years and add to the dataset\n",
    "data[\"day\"] = pd.to_datetime(data[\"day\"])\n",
    "data[\"years\"] = data[\"day\"].dt.year\n",
    "data[\"months\"] = data[\"day\"].dt.month\n",
    "data[\"days\"] = data[\"day\"].dt.day\n",
    "del data[\"day\"]\n",
    "data.head(3)"
   ]
  },
  {
   "cell_type": "code",
   "execution_count": 11,
   "metadata": {},
   "outputs": [],
   "source": [
    "\n",
    "# I Scale/Normalize the numerical values\n",
    "\n",
    "num_features = ['temperature_max', 'temperature_min', 'humidity',\n",
    "       'precip_intensity', 'precip_intensity_max', 'pressure', 'visibility',\n",
    "       'wind_speed', 'oil_price', 'lettuce_price',\n",
    "       'onion_price', 'year', 'month', 'days']\n",
    "\n",
    "\n",
    "numerical_transformer = Pipeline([\n",
    "            ('scaler', MinMaxScaler()),\n",
    "            ('PCA', PCA(n_components=0.8)),\n",
    "            ('poly', PolynomialFeatures(2, include_bias=False))\n",
    "        ])\n",
    "columns_transformer = ColumnTransformer([(\"numerical\", numerical_transformer, num_features)])\n",
    "\n"
   ]
  },
  {
   "cell_type": "code",
   "execution_count": 12,
   "metadata": {},
   "outputs": [],
   "source": [
    "# I divide the data set y: tomato price column and the rest X\n",
    "y = data['tomato_price']\n",
    "simplified_df = data.copy()\n",
    "del simplified_df['tomato_price']\n",
    "X = simplified_df.copy()\n",
    "X = columns_transformer.fit_transform(X).astype('int32')\n",
    "# I split the dataset into train and test.\n",
    "X_train, X_test, y_train, y_test = train_test_split(X,\n",
    "                                                    y,\n",
    "                                                    random_state=50)\n",
    "\n"
   ]
  },
  {
   "cell_type": "markdown",
   "metadata": {},
   "source": [
    "# Baseline model"
   ]
  },
  {
   "cell_type": "code",
   "execution_count": 13,
   "metadata": {},
   "outputs": [
    {
     "data": {
      "text/plain": [
       "0.6666666666666666"
      ]
     },
     "execution_count": 13,
     "metadata": {},
     "output_type": "execute_result"
    }
   ],
   "source": [
    "# Setting up a baseline model with DecisionTreeClassifier to compare with Random Forest model\n",
    "\n",
    "dtc = DecisionTreeClassifier(max_depth=None)\n",
    "\n",
    "dtc.fit(X_train, y_train)\n",
    "y_pred_dtc = dtc.predict(X_test)\n",
    "\n",
    "metrics = (y_test==y_pred_dtc).mean()\n",
    "metrics"
   ]
  },
  {
   "cell_type": "markdown",
   "metadata": {},
   "source": [
    "# Random Forest model"
   ]
  },
  {
   "cell_type": "code",
   "execution_count": 14,
   "metadata": {},
   "outputs": [],
   "source": [
    "# Random Forest model\n",
    "rf_model = RandomForestClassifier(class_weight=\"balanced\", n_estimators=200, n_jobs=-1, max_depth=15)\n"
   ]
  },
  {
   "cell_type": "code",
   "execution_count": 15,
   "metadata": {},
   "outputs": [
    {
     "name": "stdout",
     "output_type": "stream",
     "text": [
      "{'max_depth': 10, 'min_samples_split': 0.005}\n"
     ]
    }
   ],
   "source": [
    "#Use grid search to find the best parameters for your rf_model\n",
    "\n",
    "gs = GridSearchCV(rf_model, {\"max_depth\": [10, 15, 20, 30],\n",
    "                             \"min_samples_split\": [.005, .01, .05]}, \n",
    "                  n_jobs=-1, cv=5, scoring=\"balanced_accuracy\")\n",
    "\n",
    "gs.fit(X_train, y_train)\n",
    "print(gs.best_params_)"
   ]
  },
  {
   "cell_type": "code",
   "execution_count": 34,
   "metadata": {},
   "outputs": [
    {
     "name": "stdout",
     "output_type": "stream",
     "text": [
      "              precision    recall  f1-score   support\n",
      "\n",
      "          -1       0.67      1.00      0.80        10\n",
      "           1       0.00      0.00      0.00         5\n",
      "\n",
      "    accuracy                           0.67        15\n",
      "   macro avg       0.33      0.50      0.40        15\n",
      "weighted avg       0.44      0.67      0.53        15\n",
      "\n"
     ]
    },
    {
     "name": "stderr",
     "output_type": "stream",
     "text": [
      "/Users/pola/miniconda3/envs/ads10/lib/python3.7/site-packages/sklearn/metrics/_classification.py:1272: UndefinedMetricWarning: Precision and F-score are ill-defined and being set to 0.0 in labels with no predicted samples. Use `zero_division` parameter to control this behavior.\n",
      "  _warn_prf(average, modifier, msg_start, len(result))\n"
     ]
    }
   ],
   "source": [
    "# Retrain the rf with the best parameters\n",
    "rf_model.set_params(**gs.best_params_)\n",
    "rf_model.fit(X_train, y_train)\n",
    "\n",
    "# Generate predictions\n",
    "y_pred_rfc = rf_model.predict(X_test)\n",
    "\n",
    "# Look at the classification report on test data\n",
    "print(classification_report(y_test, y_pred_rfc))"
   ]
  },
  {
   "cell_type": "code",
   "execution_count": 35,
   "metadata": {},
   "outputs": [
    {
     "data": {
      "text/plain": [
       "0.6666666666666666"
      ]
     },
     "execution_count": 35,
     "metadata": {},
     "output_type": "execute_result"
    }
   ],
   "source": [
    "metrics = (y_test==y_pred_rfc).mean()\n",
    "metrics\n"
   ]
  },
  {
   "cell_type": "markdown",
   "metadata": {},
   "source": [
    "# Evaluation metrics"
   ]
  },
  {
   "cell_type": "code",
   "execution_count": 30,
   "metadata": {},
   "outputs": [
    {
     "data": {
      "text/plain": [
       "array([[10,  0],\n",
       "       [ 5,  0]])"
      ]
     },
     "execution_count": 30,
     "metadata": {},
     "output_type": "execute_result"
    }
   ],
   "source": [
    "# I build confusion_matrix\n",
    "cm = confusion_matrix(y_test, y_pred_rfc)\n",
    "cm"
   ]
  },
  {
   "cell_type": "code",
   "execution_count": 31,
   "metadata": {},
   "outputs": [
    {
     "data": {
      "image/png": "[encoded data removed]",
      "text/plain": [
       "<Figure size 432x288 with 2 Axes>"
      ]
     },
     "metadata": {
      "needs_background": "light"
     },
     "output_type": "display_data"
    }
   ],
   "source": [
    "\n",
    "sns.heatmap(cm, annot=True, fmt='d')\n",
    "plt.xlabel(...)\n",
    "plt.ylabel(...)\n",
    "plt.xlabel('Predicted label')\n",
    "plt.ylabel('True label')\n",
    "plt.show()\n",
    "\n"
   ]
  },
  {
   "cell_type": "markdown",
   "metadata": {},
   "source": [
    "# ROC curves"
   ]
  },
  {
   "cell_type": "code",
   "execution_count": 32,
   "metadata": {},
   "outputs": [
    {
     "data": {
      "image/png": "[encoded data removed]",
      "text/plain": [
       "<Figure size 432x288 with 1 Axes>"
      ]
     },
     "metadata": {
      "needs_background": "light"
     },
     "output_type": "display_data"
    }
   ],
   "source": [
    "# I build ROC curve to see false positive rate, true positive rate of Decision Tree model and random forest model\n",
    "classifiers = {\n",
    "    \n",
    "    'dtc': dtc,\n",
    "    'rf': rf_model\n",
    "\n",
    "}\n",
    "\n",
    "for name, clf in classifiers.items():\n",
    "    y_pred = clf.predict_proba(X_test)[:,1]\n",
    "    fpr, tpr, thresh = roc_curve(y_test, y_pred)\n",
    "    auc = roc_auc_score(y_test, y_pred)\n",
    "    plt.plot(fpr, tpr, 'o-', label=f\"{name} (AUC={auc:.3f})\")\n",
    "\n",
    "plt.legend()\n",
    "plt.xlabel('false positive rate')\n",
    "plt.ylabel('true positive rate')\n",
    "plt.show()\n"
   ]
  },
  {
   "cell_type": "code",
   "execution_count": 33,
   "metadata": {},
   "outputs": [
    {
     "data": {
      "text/plain": [
       "0.5"
      ]
     },
     "execution_count": 33,
     "metadata": {},
     "output_type": "execute_result"
    }
   ],
   "source": [
    "roc_auc_score(y_test, y_pred_rfc)"
   ]
  },
  {
   "cell_type": "markdown",
   "metadata": {},
   "source": [
    "# Interpretation"
   ]
  },
  {
   "cell_type": "code",
   "execution_count": 22,
   "metadata": {},
   "outputs": [
    {
     "data": {
      "text/html": [
       "<div>\n",
       "<style scoped>\n",
       "    .dataframe tbody tr th:only-of-type {\n",
       "        vertical-align: middle;\n",
       "    }\n",
       "\n",
       "    .dataframe tbody tr th {\n",
       "        vertical-align: top;\n",
       "    }\n",
       "\n",
       "    .dataframe thead th {\n",
       "        text-align: right;\n",
       "    }\n",
       "</style>\n",
       "<table border=\"1\" class=\"dataframe\">\n",
       "  <thead>\n",
       "    <tr style=\"text-align: right;\">\n",
       "      <th></th>\n",
       "      <th>feature</th>\n",
       "      <th>importance</th>\n",
       "    </tr>\n",
       "  </thead>\n",
       "  <tbody>\n",
       "    <tr>\n",
       "      <th>0</th>\n",
       "      <td>temperature_max</td>\n",
       "      <td>0.204920</td>\n",
       "    </tr>\n",
       "    <tr>\n",
       "      <th>1</th>\n",
       "      <td>temperature_min</td>\n",
       "      <td>0.100167</td>\n",
       "    </tr>\n",
       "    <tr>\n",
       "      <th>2</th>\n",
       "      <td>humidity</td>\n",
       "      <td>0.120930</td>\n",
       "    </tr>\n",
       "    <tr>\n",
       "      <th>3</th>\n",
       "      <td>precip_intensity</td>\n",
       "      <td>0.077928</td>\n",
       "    </tr>\n",
       "    <tr>\n",
       "      <th>4</th>\n",
       "      <td>precip_intensity_max</td>\n",
       "      <td>0.037703</td>\n",
       "    </tr>\n",
       "    <tr>\n",
       "      <th>5</th>\n",
       "      <td>pressure</td>\n",
       "      <td>0.051726</td>\n",
       "    </tr>\n",
       "    <tr>\n",
       "      <th>6</th>\n",
       "      <td>visibility</td>\n",
       "      <td>0.067458</td>\n",
       "    </tr>\n",
       "    <tr>\n",
       "      <th>7</th>\n",
       "      <td>wind_speed</td>\n",
       "      <td>0.052017</td>\n",
       "    </tr>\n",
       "    <tr>\n",
       "      <th>8</th>\n",
       "      <td>oil_price</td>\n",
       "      <td>0.058905</td>\n",
       "    </tr>\n",
       "    <tr>\n",
       "      <th>9</th>\n",
       "      <td>lettuce_price</td>\n",
       "      <td>0.060395</td>\n",
       "    </tr>\n",
       "    <tr>\n",
       "      <th>10</th>\n",
       "      <td>onion_price</td>\n",
       "      <td>0.045336</td>\n",
       "    </tr>\n",
       "    <tr>\n",
       "      <th>11</th>\n",
       "      <td>year</td>\n",
       "      <td>0.024580</td>\n",
       "    </tr>\n",
       "    <tr>\n",
       "      <th>12</th>\n",
       "      <td>month</td>\n",
       "      <td>0.087749</td>\n",
       "    </tr>\n",
       "    <tr>\n",
       "      <th>13</th>\n",
       "      <td>days</td>\n",
       "      <td>0.010186</td>\n",
       "    </tr>\n",
       "  </tbody>\n",
       "</table>\n",
       "</div>"
      ],
      "text/plain": [
       "                 feature  importance\n",
       "0        temperature_max    0.204920\n",
       "1        temperature_min    0.100167\n",
       "2               humidity    0.120930\n",
       "3       precip_intensity    0.077928\n",
       "4   precip_intensity_max    0.037703\n",
       "5               pressure    0.051726\n",
       "6             visibility    0.067458\n",
       "7             wind_speed    0.052017\n",
       "8              oil_price    0.058905\n",
       "9          lettuce_price    0.060395\n",
       "10           onion_price    0.045336\n",
       "11                  year    0.024580\n",
       "12                 month    0.087749\n",
       "13                  days    0.010186"
      ]
     },
     "execution_count": 22,
     "metadata": {},
     "output_type": "execute_result"
    }
   ],
   "source": [
    "# To look the features importance\n",
    "X_train_, X_test_, y_train_, y_test_ = train_test_split(simplified_df,\n",
    "                                                    data['tomato_price'],\n",
    "                                                    random_state=50)\n",
    "gsv = GridSearchCV(rf_model, {\"max_depth\": [10, 15, 20, 30],\n",
    "                             \"min_samples_split\": [.005, .01, .05]}, \n",
    "                  n_jobs=-1, cv=5, scoring=\"balanced_accuracy\")\n",
    "\n",
    "gsv.fit(X_train_, y_train_)\n",
    "gsv.best_estimator_.predict(X_train_)\n",
    "importances = pd.DataFrame({\n",
    "    'feature':  X_train_.columns,\n",
    "    'importance': gsv.best_estimator_.feature_importances_\n",
    "})\n",
    "importances.sort_values('importance', ascending=False)\n",
    "importances"
   ]
  },
  {
   "cell_type": "markdown",
   "metadata": {},
   "source": [
    "We can see that the maximum temperature and the minimum temperature are the features that most affects the variation of price of tomato."
   ]
  }
 ],
 "metadata": {
  "kernelspec": {
   "display_name": "Python 3",
   "language": "python",
   "name": "python3"
  },
  "language_info": {
   "codemirror_mode": {
    "name": "ipython",
    "version": 3
   },
   "file_extension": ".py",
   "mimetype": "text/x-python",
   "name": "python",
   "nbconvert_exporter": "python",
   "pygments_lexer": "ipython3",
   "version": "3.7.6"
  }
 },
 "nbformat": 4,
 "nbformat_minor": 2
}
