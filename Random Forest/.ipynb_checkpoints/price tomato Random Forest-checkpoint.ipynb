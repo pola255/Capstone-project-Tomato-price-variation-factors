{
 "cells": [
  {
   "cell_type": "markdown",
   "metadata": {},
   "source": [
    "Random Forest with time series:\n",
    "\n",
    "Can’t use Random Forest to forecast into more than 1 value or indefinitely into the future as one can with linear model. What this means is that when I’m trying to predict 6 months into the future, I’ll need to actually use 6 months of past data as the input.\n",
    "\n",
    "As an example, if my model is able to predict 6 months into the future; to predict the traffic at 1 July 2019 I will need to use the data points on for 1 Jan 2019 (for simplification, I assume all months have 30 days in a month). To predict for 2 July 2019, I’ll use 2 Jan 2019. And so on, until 30th June 2019, which gives me prediction for 30th Dec 2019."
   ]
  },
  {
   "cell_type": "code",
   "execution_count": 1,
   "metadata": {},
   "outputs": [],
   "source": [
    "import pandas as pd\n",
    "import numpy as np\n",
    "from sklearn.pipeline import Pipeline\n",
    "from sklearn.preprocessing import StandardScaler\n",
    "from sklearn.preprocessing import MinMaxScaler\n",
    "from sklearn.decomposition import PCA\n",
    "import matplotlib.pyplot as plt\n",
    "from sklearn import metrics\n",
    "from sklearn.compose import ColumnTransformer\n",
    "from sklearn.model_selection import train_test_split, GridSearchCV\n",
    "from sklearn.ensemble import RandomForestClassifier\n"
   ]
  },
  {
   "cell_type": "code",
   "execution_count": 2,
   "metadata": {},
   "outputs": [
    {
     "data": {
      "text/html": [
       "<div>\n",
       "<style scoped>\n",
       "    .dataframe tbody tr th:only-of-type {\n",
       "        vertical-align: middle;\n",
       "    }\n",
       "\n",
       "    .dataframe tbody tr th {\n",
       "        vertical-align: top;\n",
       "    }\n",
       "\n",
       "    .dataframe thead th {\n",
       "        text-align: right;\n",
       "    }\n",
       "</style>\n",
       "<table border=\"1\" class=\"dataframe\">\n",
       "  <thead>\n",
       "    <tr style=\"text-align: right;\">\n",
       "      <th></th>\n",
       "      <th>day</th>\n",
       "      <th>temperature_max</th>\n",
       "      <th>temperature_min</th>\n",
       "      <th>humidity</th>\n",
       "      <th>precip_intensity</th>\n",
       "      <th>precip_intensity_max</th>\n",
       "      <th>pressure</th>\n",
       "      <th>visibility</th>\n",
       "      <th>wind_speed</th>\n",
       "      <th>oil_price</th>\n",
       "      <th>lettuce_price</th>\n",
       "      <th>onion_price</th>\n",
       "      <th>tomato_price</th>\n",
       "    </tr>\n",
       "  </thead>\n",
       "  <tbody>\n",
       "    <tr>\n",
       "      <th>0</th>\n",
       "      <td>2015-01-31 00:00:00+00:00</td>\n",
       "      <td>8.573571</td>\n",
       "      <td>2.237857</td>\n",
       "      <td>0.866429</td>\n",
       "      <td>22.079243</td>\n",
       "      <td>24.485486</td>\n",
       "      <td>1014.221429</td>\n",
       "      <td>4503.658571</td>\n",
       "      <td>5.548571</td>\n",
       "      <td>47.759500</td>\n",
       "      <td>0.330</td>\n",
       "      <td>0.3125</td>\n",
       "      <td>0.4975</td>\n",
       "    </tr>\n",
       "    <tr>\n",
       "      <th>1</th>\n",
       "      <td>2015-02-28 00:00:00+00:00</td>\n",
       "      <td>7.955000</td>\n",
       "      <td>1.872143</td>\n",
       "      <td>0.842143</td>\n",
       "      <td>0.050907</td>\n",
       "      <td>0.226479</td>\n",
       "      <td>1016.628571</td>\n",
       "      <td>5594.000000</td>\n",
       "      <td>4.152857</td>\n",
       "      <td>58.095500</td>\n",
       "      <td>0.326</td>\n",
       "      <td>0.3400</td>\n",
       "      <td>0.5680</td>\n",
       "    </tr>\n",
       "    <tr>\n",
       "      <th>2</th>\n",
       "      <td>2015-03-31 00:00:00+00:00</td>\n",
       "      <td>11.156250</td>\n",
       "      <td>3.781250</td>\n",
       "      <td>0.791875</td>\n",
       "      <td>0.011969</td>\n",
       "      <td>0.152994</td>\n",
       "      <td>1020.506250</td>\n",
       "      <td>4875.121250</td>\n",
       "      <td>4.885000</td>\n",
       "      <td>55.885455</td>\n",
       "      <td>0.318</td>\n",
       "      <td>0.6760</td>\n",
       "      <td>1.1420</td>\n",
       "    </tr>\n",
       "    <tr>\n",
       "      <th>3</th>\n",
       "      <td>2015-04-30 00:00:00+00:00</td>\n",
       "      <td>15.607333</td>\n",
       "      <td>4.617333</td>\n",
       "      <td>0.766000</td>\n",
       "      <td>0.003860</td>\n",
       "      <td>3.970053</td>\n",
       "      <td>1021.640000</td>\n",
       "      <td>5087.544000</td>\n",
       "      <td>4.008667</td>\n",
       "      <td>59.524286</td>\n",
       "      <td>0.310</td>\n",
       "      <td>0.2300</td>\n",
       "      <td>0.7825</td>\n",
       "    </tr>\n",
       "    <tr>\n",
       "      <th>4</th>\n",
       "      <td>2015-05-31 00:00:00+00:00</td>\n",
       "      <td>16.108750</td>\n",
       "      <td>8.606250</td>\n",
       "      <td>0.780625</td>\n",
       "      <td>0.053781</td>\n",
       "      <td>35.143356</td>\n",
       "      <td>1015.562500</td>\n",
       "      <td>6042.000000</td>\n",
       "      <td>4.691250</td>\n",
       "      <td>64.075000</td>\n",
       "      <td>0.300</td>\n",
       "      <td>0.2350</td>\n",
       "      <td>0.8625</td>\n",
       "    </tr>\n",
       "  </tbody>\n",
       "</table>\n",
       "</div>"
      ],
      "text/plain": [
       "                         day  temperature_max  temperature_min  humidity  \\\n",
       "0  2015-01-31 00:00:00+00:00         8.573571         2.237857  0.866429   \n",
       "1  2015-02-28 00:00:00+00:00         7.955000         1.872143  0.842143   \n",
       "2  2015-03-31 00:00:00+00:00        11.156250         3.781250  0.791875   \n",
       "3  2015-04-30 00:00:00+00:00        15.607333         4.617333  0.766000   \n",
       "4  2015-05-31 00:00:00+00:00        16.108750         8.606250  0.780625   \n",
       "\n",
       "   precip_intensity  precip_intensity_max     pressure   visibility  \\\n",
       "0         22.079243             24.485486  1014.221429  4503.658571   \n",
       "1          0.050907              0.226479  1016.628571  5594.000000   \n",
       "2          0.011969              0.152994  1020.506250  4875.121250   \n",
       "3          0.003860              3.970053  1021.640000  5087.544000   \n",
       "4          0.053781             35.143356  1015.562500  6042.000000   \n",
       "\n",
       "   wind_speed  oil_price  lettuce_price  onion_price  tomato_price  \n",
       "0    5.548571  47.759500          0.330       0.3125        0.4975  \n",
       "1    4.152857  58.095500          0.326       0.3400        0.5680  \n",
       "2    4.885000  55.885455          0.318       0.6760        1.1420  \n",
       "3    4.008667  59.524286          0.310       0.2300        0.7825  \n",
       "4    4.691250  64.075000          0.300       0.2350        0.8625  "
      ]
     },
     "execution_count": 2,
     "metadata": {},
     "output_type": "execute_result"
    }
   ],
   "source": [
    "# Load data\n",
    "data = pd.read_csv(\"data/all_data.csv\")\n",
    "data.head()"
   ]
  },
  {
   "cell_type": "code",
   "execution_count": 3,
   "metadata": {},
   "outputs": [
    {
     "data": {
      "text/plain": [
       "(60, 13)"
      ]
     },
     "execution_count": 3,
     "metadata": {},
     "output_type": "execute_result"
    }
   ],
   "source": [
    "# I check the shape\n",
    "data.shape"
   ]
  },
  {
   "cell_type": "code",
   "execution_count": 4,
   "metadata": {},
   "outputs": [],
   "source": [
    "# round and reemplace missing values for mean\n",
    "data = data.round(2)\n",
    "data = data.fillna(value=round(data.mean(), 2))\n"
   ]
  },
  {
   "cell_type": "code",
   "execution_count": 5,
   "metadata": {},
   "outputs": [
    {
     "data": {
      "text/plain": [
       "<matplotlib.axes._subplots.AxesSubplot at 0x1a1c05cc10>"
      ]
     },
     "execution_count": 5,
     "metadata": {},
     "output_type": "execute_result"
    },
    {
     "data": {
      "image/png": "[encoded data removed]",
      "text/plain": [
       "<Figure size 432x288 with 1 Axes>"
      ]
     },
     "metadata": {
      "needs_background": "light"
     },
     "output_type": "display_data"
    }
   ],
   "source": [
    "# Display histogram of the price scores\n",
    "data['tomato_price'].hist()"
   ]
  },
  {
   "cell_type": "code",
   "execution_count": 6,
   "metadata": {},
   "outputs": [],
   "source": [
    "# the histogram seem to be unbalanced\n"
   ]
  },
  {
   "cell_type": "code",
   "execution_count": 7,
   "metadata": {},
   "outputs": [
    {
     "data": {
      "text/plain": [
       "-1    37\n",
       " 1    23\n",
       "Name: tomato_price, dtype: int64"
      ]
     },
     "execution_count": 7,
     "metadata": {},
     "output_type": "execute_result"
    }
   ],
   "source": [
    "# I build a histogram to balance the tomato_price column\n",
    "\n",
    "def transform(col):\n",
    "    col = round(col, 2)\n",
    "    if col < 0.89:\n",
    "        return -1\n",
    "    elif col > 0.89:\n",
    "        return 1\n",
    "    else: \n",
    "        return 0\n",
    "data['tomato_price'] = data['tomato_price'].apply(transform)\n",
    "\n",
    "data.tomato_price.value_counts()"
   ]
  },
  {
   "cell_type": "code",
   "execution_count": 8,
   "metadata": {},
   "outputs": [
    {
     "data": {
      "text/plain": [
       "Index(['day', 'temperature_max', 'temperature_min', 'humidity',\n",
       "       'precip_intensity', 'precip_intensity_max', 'pressure', 'visibility',\n",
       "       'wind_speed', 'oil_price', 'lettuce_price', 'onion_price',\n",
       "       'tomato_price'],\n",
       "      dtype='object')"
      ]
     },
     "execution_count": 8,
     "metadata": {},
     "output_type": "execute_result"
    },
    {
     "data": {
      "image/png": "[encoded data removed]",
      "text/plain": [
       "<Figure size 432x288 with 1 Axes>"
      ]
     },
     "metadata": {
      "needs_background": "light"
     },
     "output_type": "display_data"
    }
   ],
   "source": [
    "data['tomato_price'].hist()\n",
    "data.columns"
   ]
  },
  {
   "cell_type": "code",
   "execution_count": 13,
   "metadata": {},
   "outputs": [
    {
     "ename": "ValueError",
     "evalue": "bad input shape (60, 13)",
     "output_type": "error",
     "traceback": [
      "\u001b[0;31m---------------------------------------------------------------------------\u001b[0m",
      "\u001b[0;31mValueError\u001b[0m                                Traceback (most recent call last)",
      "\u001b[0;32m<ipython-input-13-60a3a05476d5>\u001b[0m in \u001b[0;36m<module>\u001b[0;34m\u001b[0m\n\u001b[1;32m     19\u001b[0m \u001b[0;31m# Apply scaling and cast to DataFrame\u001b[0m\u001b[0;34m\u001b[0m\u001b[0;34m\u001b[0m\u001b[0;34m\u001b[0m\u001b[0m\n\u001b[1;32m     20\u001b[0m data_scaled = pd.DataFrame(\n\u001b[0;32m---> 21\u001b[0;31m                     \u001b[0mlab_enc\u001b[0m\u001b[0;34m.\u001b[0m\u001b[0mfit_transform\u001b[0m\u001b[0;34m(\u001b[0m\u001b[0mdata\u001b[0m\u001b[0;34m)\u001b[0m\u001b[0;34m,\u001b[0m\u001b[0;34m\u001b[0m\u001b[0;34m\u001b[0m\u001b[0m\n\u001b[0m\u001b[1;32m     22\u001b[0m                     \u001b[0mcolumns\u001b[0m \u001b[0;34m=\u001b[0m \u001b[0mdata\u001b[0m\u001b[0;34m.\u001b[0m\u001b[0mcolumns\u001b[0m\u001b[0;34m[\u001b[0m\u001b[0;36m1\u001b[0m\u001b[0;34m:\u001b[0m\u001b[0;34m]\u001b[0m\u001b[0;34m,\u001b[0m\u001b[0;34m\u001b[0m\u001b[0;34m\u001b[0m\u001b[0m\n\u001b[1;32m     23\u001b[0m                     index = data.index)\n",
      "\u001b[0;32m~/miniconda3/envs/ads04/lib/python3.7/site-packages/sklearn/preprocessing/label.py\u001b[0m in \u001b[0;36mfit_transform\u001b[0;34m(self, y)\u001b[0m\n\u001b[1;32m    233\u001b[0m         \u001b[0my\u001b[0m \u001b[0;34m:\u001b[0m \u001b[0marray\u001b[0m\u001b[0;34m-\u001b[0m\u001b[0mlike\u001b[0m \u001b[0mof\u001b[0m \u001b[0mshape\u001b[0m \u001b[0;34m[\u001b[0m\u001b[0mn_samples\u001b[0m\u001b[0;34m]\u001b[0m\u001b[0;34m\u001b[0m\u001b[0;34m\u001b[0m\u001b[0m\n\u001b[1;32m    234\u001b[0m         \"\"\"\n\u001b[0;32m--> 235\u001b[0;31m         \u001b[0my\u001b[0m \u001b[0;34m=\u001b[0m \u001b[0mcolumn_or_1d\u001b[0m\u001b[0;34m(\u001b[0m\u001b[0my\u001b[0m\u001b[0;34m,\u001b[0m \u001b[0mwarn\u001b[0m\u001b[0;34m=\u001b[0m\u001b[0;32mTrue\u001b[0m\u001b[0;34m)\u001b[0m\u001b[0;34m\u001b[0m\u001b[0;34m\u001b[0m\u001b[0m\n\u001b[0m\u001b[1;32m    236\u001b[0m         \u001b[0mself\u001b[0m\u001b[0;34m.\u001b[0m\u001b[0mclasses_\u001b[0m\u001b[0;34m,\u001b[0m \u001b[0my\u001b[0m \u001b[0;34m=\u001b[0m \u001b[0m_encode\u001b[0m\u001b[0;34m(\u001b[0m\u001b[0my\u001b[0m\u001b[0;34m,\u001b[0m \u001b[0mencode\u001b[0m\u001b[0;34m=\u001b[0m\u001b[0;32mTrue\u001b[0m\u001b[0;34m)\u001b[0m\u001b[0;34m\u001b[0m\u001b[0;34m\u001b[0m\u001b[0m\n\u001b[1;32m    237\u001b[0m         \u001b[0;32mreturn\u001b[0m \u001b[0my\u001b[0m\u001b[0;34m\u001b[0m\u001b[0;34m\u001b[0m\u001b[0m\n",
      "\u001b[0;32m~/miniconda3/envs/ads04/lib/python3.7/site-packages/sklearn/utils/validation.py\u001b[0m in \u001b[0;36mcolumn_or_1d\u001b[0;34m(y, warn)\u001b[0m\n\u001b[1;32m    758\u001b[0m         \u001b[0;32mreturn\u001b[0m \u001b[0mnp\u001b[0m\u001b[0;34m.\u001b[0m\u001b[0mravel\u001b[0m\u001b[0;34m(\u001b[0m\u001b[0my\u001b[0m\u001b[0;34m)\u001b[0m\u001b[0;34m\u001b[0m\u001b[0;34m\u001b[0m\u001b[0m\n\u001b[1;32m    759\u001b[0m \u001b[0;34m\u001b[0m\u001b[0m\n\u001b[0;32m--> 760\u001b[0;31m     \u001b[0;32mraise\u001b[0m \u001b[0mValueError\u001b[0m\u001b[0;34m(\u001b[0m\u001b[0;34m\"bad input shape {0}\"\u001b[0m\u001b[0;34m.\u001b[0m\u001b[0mformat\u001b[0m\u001b[0;34m(\u001b[0m\u001b[0mshape\u001b[0m\u001b[0;34m)\u001b[0m\u001b[0;34m)\u001b[0m\u001b[0;34m\u001b[0m\u001b[0;34m\u001b[0m\u001b[0m\n\u001b[0m\u001b[1;32m    761\u001b[0m \u001b[0;34m\u001b[0m\u001b[0m\n\u001b[1;32m    762\u001b[0m \u001b[0;34m\u001b[0m\u001b[0m\n",
      "\u001b[0;31mValueError\u001b[0m: bad input shape (60, 13)"
     ]
    }
   ],
   "source": [
    "from sklearn import preprocessing\n",
    "# I Scale/Normalize the numerical values\n",
    "\"\"\"\n",
    "num_features = ['temperature_max', 'temperature_min', 'humidity',\n",
    "       'precip_intensity', 'precip_intensity_max', 'pressure', 'visibility',\n",
    "       'wind_speed', 'tomato_price', 'oil_price', 'lettuce_price',\n",
    "       'onion_price']\n",
    "\n",
    "numerical_transformer = Pipeline([\n",
    "            ('payment_scaler', StandardScaler())\n",
    "        ])\n",
    "\"\"\"\n",
    "lab_enc = preprocessing.LabelEncoder()\n",
    "\n",
    "#columns_transformer = ColumnTransformer([(\"numerical\", lab_enc, num_features)])\n",
    "\n",
    "\n",
    "\n",
    "# Apply scaling and cast to DataFrame \n",
    "data_scaled = pd.DataFrame(\n",
    "                    lab_enc.fit_transform(data), \n",
    "                    columns = data.columns[1:], \n",
    "                    index = data.index)\n"
   ]
  },
  {
   "cell_type": "code",
   "execution_count": null,
   "metadata": {},
   "outputs": [],
   "source": [
    "# I split the dataset into train and test.\n",
    "y = data_scaled['tomato_price']\n",
    "simplified_df = data_scaled.copy()\n",
    "del simplified_df['tomato_price']\n",
    "#del simplified_df['day']\n",
    "X = simplified_df.copy()\n",
    "X_train, X_test, y_train, y_test = train_test_split(X,\n",
    "                                                    y,\n",
    "                                                    random_state=50)\n",
    "\n",
    "\n"
   ]
  },
  {
   "cell_type": "code",
   "execution_count": null,
   "metadata": {},
   "outputs": [],
   "source": [
    "# Random Forest model\n",
    "rf_model = RandomForestClassifier(class_weight=\"balanced\", n_estimators=150, n_jobs=-1)"
   ]
  },
  {
   "cell_type": "code",
   "execution_count": null,
   "metadata": {},
   "outputs": [],
   "source": [
    "#Use grid search to find the best parameters for your rf_model\n",
    "gs = GridSearchCV(rf_model, {\"max_depth\": [10, 15, 20],\n",
    "                             \"min_samples_split\": [.005, .01, .05]}, \n",
    "                  n_jobs=-1, cv=5, scoring=\"balanced_accuracy\")\n",
    "\n",
    "gs.fit(X_train, y_train)"
   ]
  },
  {
   "cell_type": "code",
   "execution_count": null,
   "metadata": {},
   "outputs": [],
   "source": [
    "print(gs.best_params_)"
   ]
  },
  {
   "cell_type": "code",
   "execution_count": null,
   "metadata": {},
   "outputs": [],
   "source": [
    "# Random Forest model with the best parameters\n",
    "rf_model = gs.best_estimator_\n",
    "gs = GridSearchCV(rf_model, {\"max_depth\": [10],\n",
    "                             \"min_samples_split\": [.05]}, \n",
    "                  n_jobs=-1, cv=5, scoring=\"balanced_accuracy\")\n",
    "\n",
    "gs.fit(X_train, y_train)"
   ]
  },
  {
   "cell_type": "code",
   "execution_count": null,
   "metadata": {},
   "outputs": [],
   "source": [
    "print(gs.best_score_)"
   ]
  },
  {
   "cell_type": "code",
   "execution_count": null,
   "metadata": {},
   "outputs": [],
   "source": [
    "y_pred = rf_model.predict(X_test)\n",
    "metrics.accuracy_score(y_test, y_pred)"
   ]
  },
  {
   "cell_type": "code",
   "execution_count": null,
   "metadata": {},
   "outputs": [],
   "source": [
    "\n"
   ]
  },
  {
   "cell_type": "code",
   "execution_count": null,
   "metadata": {},
   "outputs": [],
   "source": []
  }
 ],
 "metadata": {
  "kernelspec": {
   "display_name": "Python 3",
   "language": "python",
   "name": "python3"
  },
  "language_info": {
   "codemirror_mode": {
    "name": "ipython",
    "version": 3
   },
   "file_extension": ".py",
   "mimetype": "text/x-python",
   "name": "python",
   "nbconvert_exporter": "python",
   "pygments_lexer": "ipython3",
   "version": "3.7.4"
  }
 },
 "nbformat": 4,
 "nbformat_minor": 2
}
