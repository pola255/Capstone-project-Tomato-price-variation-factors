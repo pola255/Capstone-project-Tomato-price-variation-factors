{
 "cells": [
  {
   "cell_type": "markdown",
   "metadata": {},
   "source": [
    "Random Forest with time series:\n",
    "\n",
    "Can’t use Random Forest to forecast into more than 1 value or indefinitely into the future as one can with linear model. What this means is that when I’m trying to predict 6 months into the future, I’ll need to actually use 6 months of past data as the input.\n",
    "\n",
    "As an example, if my model is able to predict 6 months into the future; to predict the traffic at 1 July 2019 I will need to use the data points on for 1 Jan 2019 (for simplification, I assume all months have 30 days in a month). To predict for 2 July 2019, I’ll use 2 Jan 2019. And so on, until 30th June 2019, which gives me prediction for 30th Dec 2019."
   ]
  },
  {
   "cell_type": "code",
   "execution_count": 1,
   "metadata": {},
   "outputs": [],
   "source": [
    "import pandas as pd\n",
    "import numpy as np\n",
    "from sklearn.pipeline import Pipeline\n",
    "from sklearn.preprocessing import StandardScaler\n",
    "from sklearn.preprocessing import MinMaxScaler\n",
    "from sklearn.decomposition import PCA\n",
    "import matplotlib.pyplot as plt\n",
    "from sklearn import metrics\n",
    "from sklearn.compose import ColumnTransformer\n",
    "from sklearn.model_selection import train_test_split, GridSearchCV\n",
    "from sklearn.ensemble import RandomForestClassifier\n"
   ]
  },
  {
   "cell_type": "code",
   "execution_count": 2,
   "metadata": {},
   "outputs": [
    {
     "data": {
      "text/html": [
       "<div>\n",
       "<style scoped>\n",
       "    .dataframe tbody tr th:only-of-type {\n",
       "        vertical-align: middle;\n",
       "    }\n",
       "\n",
       "    .dataframe tbody tr th {\n",
       "        vertical-align: top;\n",
       "    }\n",
       "\n",
       "    .dataframe thead th {\n",
       "        text-align: right;\n",
       "    }\n",
       "</style>\n",
       "<table border=\"1\" class=\"dataframe\">\n",
       "  <thead>\n",
       "    <tr style=\"text-align: right;\">\n",
       "      <th></th>\n",
       "      <th>day</th>\n",
       "      <th>temperature_max</th>\n",
       "      <th>temperature_min</th>\n",
       "      <th>humidity</th>\n",
       "      <th>precip_intensity</th>\n",
       "      <th>precip_intensity_max</th>\n",
       "      <th>pressure</th>\n",
       "      <th>visibility</th>\n",
       "      <th>wind_speed</th>\n",
       "      <th>oil_price</th>\n",
       "      <th>lettuce_price</th>\n",
       "      <th>onion_price</th>\n",
       "      <th>tomato_price</th>\n",
       "    </tr>\n",
       "  </thead>\n",
       "  <tbody>\n",
       "    <tr>\n",
       "      <th>0</th>\n",
       "      <td>2015-01-31 00:00:00+00:00</td>\n",
       "      <td>0.86</td>\n",
       "      <td>0.22</td>\n",
       "      <td>0.866429</td>\n",
       "      <td>2.21</td>\n",
       "      <td>2.45</td>\n",
       "      <td>101.42</td>\n",
       "      <td>450.37</td>\n",
       "      <td>0.55</td>\n",
       "      <td>31.509143</td>\n",
       "      <td>0.3320</td>\n",
       "      <td>0.3620</td>\n",
       "      <td>0.3900</td>\n",
       "    </tr>\n",
       "    <tr>\n",
       "      <th>1</th>\n",
       "      <td>2015-02-28 00:00:00+00:00</td>\n",
       "      <td>0.80</td>\n",
       "      <td>0.19</td>\n",
       "      <td>0.842143</td>\n",
       "      <td>0.01</td>\n",
       "      <td>0.02</td>\n",
       "      <td>101.66</td>\n",
       "      <td>559.40</td>\n",
       "      <td>0.42</td>\n",
       "      <td>33.266871</td>\n",
       "      <td>0.3325</td>\n",
       "      <td>0.3325</td>\n",
       "      <td>0.3325</td>\n",
       "    </tr>\n",
       "    <tr>\n",
       "      <th>2</th>\n",
       "      <td>2015-03-31 00:00:00+00:00</td>\n",
       "      <td>1.12</td>\n",
       "      <td>0.38</td>\n",
       "      <td>0.791875</td>\n",
       "      <td>0.00</td>\n",
       "      <td>0.02</td>\n",
       "      <td>102.05</td>\n",
       "      <td>487.51</td>\n",
       "      <td>0.49</td>\n",
       "      <td>31.995306</td>\n",
       "      <td>0.3225</td>\n",
       "      <td>0.7225</td>\n",
       "      <td>1.1600</td>\n",
       "    </tr>\n",
       "    <tr>\n",
       "      <th>3</th>\n",
       "      <td>2015-04-30 00:00:00+00:00</td>\n",
       "      <td>1.56</td>\n",
       "      <td>0.46</td>\n",
       "      <td>0.766000</td>\n",
       "      <td>0.00</td>\n",
       "      <td>0.40</td>\n",
       "      <td>102.16</td>\n",
       "      <td>508.75</td>\n",
       "      <td>0.40</td>\n",
       "      <td>36.371543</td>\n",
       "      <td>0.3150</td>\n",
       "      <td>0.4075</td>\n",
       "      <td>1.1300</td>\n",
       "    </tr>\n",
       "    <tr>\n",
       "      <th>4</th>\n",
       "      <td>2015-05-31 00:00:00+00:00</td>\n",
       "      <td>1.61</td>\n",
       "      <td>0.86</td>\n",
       "      <td>0.780625</td>\n",
       "      <td>0.01</td>\n",
       "      <td>3.51</td>\n",
       "      <td>101.56</td>\n",
       "      <td>604.20</td>\n",
       "      <td>0.47</td>\n",
       "      <td>38.657158</td>\n",
       "      <td>0.3080</td>\n",
       "      <td>0.2420</td>\n",
       "      <td>0.9140</td>\n",
       "    </tr>\n",
       "  </tbody>\n",
       "</table>\n",
       "</div>"
      ],
      "text/plain": [
       "                         day  temperature_max  temperature_min  humidity  \\\n",
       "0  2015-01-31 00:00:00+00:00             0.86             0.22  0.866429   \n",
       "1  2015-02-28 00:00:00+00:00             0.80             0.19  0.842143   \n",
       "2  2015-03-31 00:00:00+00:00             1.12             0.38  0.791875   \n",
       "3  2015-04-30 00:00:00+00:00             1.56             0.46  0.766000   \n",
       "4  2015-05-31 00:00:00+00:00             1.61             0.86  0.780625   \n",
       "\n",
       "   precip_intensity  precip_intensity_max  pressure  visibility  wind_speed  \\\n",
       "0              2.21                  2.45    101.42      450.37        0.55   \n",
       "1              0.01                  0.02    101.66      559.40        0.42   \n",
       "2              0.00                  0.02    102.05      487.51        0.49   \n",
       "3              0.00                  0.40    102.16      508.75        0.40   \n",
       "4              0.01                  3.51    101.56      604.20        0.47   \n",
       "\n",
       "   oil_price  lettuce_price  onion_price  tomato_price  \n",
       "0  31.509143         0.3320       0.3620        0.3900  \n",
       "1  33.266871         0.3325       0.3325        0.3325  \n",
       "2  31.995306         0.3225       0.7225        1.1600  \n",
       "3  36.371543         0.3150       0.4075        1.1300  \n",
       "4  38.657158         0.3080       0.2420        0.9140  "
      ]
     },
     "execution_count": 2,
     "metadata": {},
     "output_type": "execute_result"
    }
   ],
   "source": [
    "# Load data\n",
    "data = pd.read_csv(\"data/all_data.csv\")\n",
    "data.head()"
   ]
  },
  {
   "cell_type": "code",
   "execution_count": 3,
   "metadata": {},
   "outputs": [
    {
     "data": {
      "text/plain": [
       "(60, 13)"
      ]
     },
     "execution_count": 3,
     "metadata": {},
     "output_type": "execute_result"
    }
   ],
   "source": [
    "# I check the shape\n",
    "data.shape"
   ]
  },
  {
   "cell_type": "code",
   "execution_count": 4,
   "metadata": {},
   "outputs": [],
   "source": [
    "# round and reemplace missing values for mean\n",
    "data = data.round(2)\n",
    "data = data.fillna(value=round(data.mean(), 2))\n"
   ]
  },
  {
   "cell_type": "code",
   "execution_count": 5,
   "metadata": {},
   "outputs": [
    {
     "data": {
      "text/plain": [
       "<matplotlib.axes._subplots.AxesSubplot at 0x1a25588910>"
      ]
     },
     "execution_count": 5,
     "metadata": {},
     "output_type": "execute_result"
    },
    {
     "data": {
      "image/png": "[encoded data removed]",
      "text/plain": [
       "<Figure size 432x288 with 1 Axes>"
      ]
     },
     "metadata": {
      "needs_background": "light"
     },
     "output_type": "display_data"
    }
   ],
   "source": [
    "# Display histogram of the price scores\n",
    "data['tomato_price'].hist()"
   ]
  },
  {
   "cell_type": "code",
   "execution_count": 6,
   "metadata": {},
   "outputs": [],
   "source": [
    "# the histogram seem to be unbalanced\n"
   ]
  },
  {
   "cell_type": "code",
   "execution_count": 7,
   "metadata": {},
   "outputs": [
    {
     "data": {
      "text/plain": [
       "-1    33\n",
       " 1    27\n",
       "Name: tomato_price, dtype: int64"
      ]
     },
     "execution_count": 7,
     "metadata": {},
     "output_type": "execute_result"
    }
   ],
   "source": [
    "# I build a histogram to balance the tomato_price column\n",
    "\n",
    "def transform(col):\n",
    "    col = round(col, 2)\n",
    "    if col < 0.89:\n",
    "        return -1\n",
    "    elif col > 0.89:\n",
    "        return 1\n",
    "    else: \n",
    "        return 0\n",
    "data['tomato_price'] = data['tomato_price'].apply(transform)\n",
    "\n",
    "data.tomato_price.value_counts()"
   ]
  },
  {
   "cell_type": "code",
   "execution_count": 8,
   "metadata": {},
   "outputs": [
    {
     "data": {
      "text/plain": [
       "Index(['day', 'temperature_max', 'temperature_min', 'humidity',\n",
       "       'precip_intensity', 'precip_intensity_max', 'pressure', 'visibility',\n",
       "       'wind_speed', 'oil_price', 'lettuce_price', 'onion_price',\n",
       "       'tomato_price'],\n",
       "      dtype='object')"
      ]
     },
     "execution_count": 8,
     "metadata": {},
     "output_type": "execute_result"
    },
    {
     "data": {
      "image/png": "[encoded data removed]",
      "text/plain": [
       "<Figure size 432x288 with 1 Axes>"
      ]
     },
     "metadata": {
      "needs_background": "light"
     },
     "output_type": "display_data"
    }
   ],
   "source": [
    "data['tomato_price'].hist()\n",
    "data.columns"
   ]
  },
  {
   "cell_type": "code",
   "execution_count": 9,
   "metadata": {},
   "outputs": [
    {
     "data": {
      "text/plain": [
       "array([[-1.33650365e+00, -1.43834588e+00,  1.11650317e+00,\n",
       "         1.26212920e+00, -1.38279126e-01, -3.80219714e-01,\n",
       "         7.46119198e-02, -3.30201718e-01, -9.04534034e-01,\n",
       "        -1.01703076e+00, -4.95417845e-01, -9.31395892e-03],\n",
       "       [-1.45657885e+00, -1.50864245e+00,  4.90426624e-01,\n",
       "        -4.99726282e-01, -5.62902054e-01,  1.59737276e-01,\n",
       "         7.87567116e-01, -6.34643018e-01, -9.04534034e-01,\n",
       "        -7.91304180e-01, -4.95417845e-01, -1.76965220e-01],\n",
       "       [-8.16177799e-01, -1.06343086e+00, -5.53034279e-01,\n",
       "        -5.07734716e-01, -5.62902054e-01,  1.03716739e+00,\n",
       "         3.17473114e-01, -4.70713087e-01,  1.10554160e+00,\n",
       "        -9.54186426e-01, -6.77780242e-01,  2.00250117e+00],\n",
       "       [ 6.43736474e-02, -8.75973341e-01, -9.70418640e-01,\n",
       "        -5.07734716e-01, -4.96500114e-01,  1.28464767e+00,\n",
       "         4.56363038e-01, -6.81480141e-01,  1.10554160e+00,\n",
       "        -3.93717596e-01, -6.77780242e-01,  2.70104809e-01],\n",
       "       [ 1.64436312e-01,  6.13142285e-02, -7.61726459e-01,\n",
       "        -4.99726282e-01,  4.69473360e-02, -6.52448031e-02,\n",
       "         1.08051761e+00, -5.17550210e-01,  1.10554160e+00,\n",
       "        -1.00016539e-01, -8.60142639e-01, -6.79919001e-01],\n",
       "       [ 1.18507549e+00,  6.47118960e-01, -1.80518736e+00,\n",
       "        -5.07734716e-01, -4.30098175e-01,  9.92170971e-01,\n",
       "         1.13538044e+00, -7.04898703e-01, -9.04534034e-01,\n",
       "        -1.43622810e-01, -1.04250504e+00, -6.79919001e-01],\n",
       "       [ 1.24511309e+00,  9.51737420e-01, -9.70418640e-01,\n",
       "        -4.19641942e-01, -5.64649473e-01, -2.00234051e-01,\n",
       "         8.70221007e-01, -5.40968772e-01, -9.04534034e-01,\n",
       "        -8.24650152e-01, -8.60142639e-01, -6.79919001e-01],\n",
       "       [ 1.12503789e+00,  1.11576274e+00,  2.81734444e-01,\n",
       "         8.48894005e-02,  2.55274683e+00, -2.90226883e-01,\n",
       "         2.20498652e-01, -7.28317264e-01, -9.04534034e-01,\n",
       "        -1.50824257e+00, -1.04250504e+00, -7.35802755e-01],\n",
       "       [ 5.84699502e-01,  2.01907364e-01, -1.35649917e-01,\n",
       "        -5.07734716e-01, -5.48922698e-01,  5.64705020e-01,\n",
       "         7.18972234e-01, -8.21991510e-01,  1.10554160e+00,\n",
       "        -1.26199539e+00, -8.60142639e-01, -7.35802755e-01],\n",
       "       [-7.57140827e-02,  8.47464178e-02,  1.11650317e+00,\n",
       "        -4.99726282e-01, -5.62902054e-01,  3.62221148e-01,\n",
       "         2.16117473e-01, -9.85921441e-01,  1.10554160e+00,\n",
       "        -1.16324002e+00, -1.04250504e+00, -7.35802755e-01],\n",
       "       [-3.95914609e-01,  6.13142285e-02,  1.53388753e+00,\n",
       "        -4.03625074e-01, -3.77675591e-01,  2.27231900e-01,\n",
       "         2.03954796e-01, -3.30201718e-01, -9.04534034e-01,\n",
       "        -1.42487764e+00, -1.04250504e+00, -7.35802755e-01],\n",
       "       [-4.15927142e-01,  3.19068310e-01,  1.11650317e+00,\n",
       "        -4.99726282e-01, -8.41091231e-02,  6.09701435e-01,\n",
       "         6.49134928e-01,  6.79138285e-02, -9.04534034e-01,\n",
       "        -1.84939751e+00, -1.04250504e+00, -7.35802755e-01],\n",
       "       [-1.17640339e+00, -1.06343086e+00,  1.32519535e+00,\n",
       "         7.57597858e-01,  1.92542325e+00, -1.52762832e+00,\n",
       "         4.97232248e-01, -3.77038841e-01, -9.04534034e-01,\n",
       "        -2.15977155e+00, -1.30693051e-01, -2.88732727e-01],\n",
       "       [-1.19641592e+00, -1.22745618e+00, -1.35649917e-01,\n",
       "        -5.07734716e-01, -5.61154634e-01, -1.39263907e+00,\n",
       "         6.89546403e-01, -3.53620279e-01, -9.04534034e-01,\n",
       "        -2.26750469e+00,  5.16693458e-02, -2.88732727e-01],\n",
       "       [-8.36190332e-01, -1.08686304e+00, -5.53034279e-01,\n",
       "        -4.99726282e-01,  3.27093623e+00, -2.00234051e-01,\n",
       "         2.33576800e-01, -6.11224456e-01, -9.04534034e-01,\n",
       "        -1.60058526e+00, -3.13055448e-01, -2.88732727e-01],\n",
       "       [-4.95977273e-01, -9.69702098e-01, -1.17911082e+00,\n",
       "        -5.07734716e-01, -5.61154634e-01, -6.05201794e-01,\n",
       "         1.06573931e+00, -6.81480141e-01,  1.10554160e+00,\n",
       "        -1.36459838e+00, -1.30693051e-01, -2.88732727e-01],\n",
       "       [ 5.84699502e-01,  2.95636121e-01, -9.70418640e-01,\n",
       "        -5.07734716e-01, -5.61154634e-01, -3.80219714e-01,\n",
       "         8.12611768e-01, -7.98572949e-01, -9.04534034e-01,\n",
       "        -8.96472244e-01, -1.30693051e-01, -5.12267741e-01],\n",
       "       [ 8.64874963e-01,  1.02203399e+00,  2.81734444e-01,\n",
       "         2.13024345e-01, -5.57659795e-01, -4.02717922e-01,\n",
       "         6.53712280e-01, -7.98572949e-01, -9.04534034e-01,\n",
       "        -6.46377458e-01, -6.77780242e-01, -6.24035248e-01],\n",
       "       [ 1.40521335e+00,  1.32665245e+00, -5.53034279e-01,\n",
       "        -4.91717848e-01, -9.10988009e-02,  4.97210396e-01,\n",
       "         6.37626158e-01, -7.04898703e-01, -9.04534034e-01,\n",
       "        -6.47659995e-01, -8.60142639e-01, -6.24035248e-01],\n",
       "       [ 1.54530108e+00,  1.30322026e+00, -7.61726459e-01,\n",
       "        -1.92202416e-02, -5.61154634e-01,  6.77196059e-01,\n",
       "         1.02120822e+00, -7.28317264e-01,  1.10554160e+00,\n",
       "        -6.41247308e-01, -1.30693051e-01, -7.35802755e-01],\n",
       "       [ 1.12503789e+00,  9.98601798e-01,  2.81734444e-01,\n",
       "        -4.99726282e-01, -4.58056886e-01,  1.82235484e-01,\n",
       "         9.57975375e-01, -8.68828633e-01,  1.10554160e+00,\n",
       "        -6.51507607e-01, -1.30693051e-01, -7.35802755e-01],\n",
       "       [ 8.43861803e-02, -7.92789069e-02,  2.81734444e-01,\n",
       "        -5.07734716e-01, -5.64649473e-01,  1.39713871e+00,\n",
       "         3.39444401e-01, -1.03275856e+00,  1.10554160e+00,\n",
       "         1.12884664e-01, -4.95417845e-01, -7.35802755e-01],\n",
       "       [-9.76278062e-01, -1.08686304e+00,  4.90426624e-01,\n",
       "        -7.52792797e-02, -5.55912376e-01, -4.25216130e-01,\n",
       "         6.55935565e-01, -7.28317264e-01, -9.04534034e-01,\n",
       "        -3.52676401e-01, -1.30693051e-01, -8.47570262e-01],\n",
       "       [-1.09635326e+00, -1.06343086e+00,  1.53388753e+00,\n",
       "        -4.99726282e-01, -5.52417537e-01,  2.63454015e+00,\n",
       "        -2.99030747e-01, -9.62502880e-01, -9.04534034e-01,\n",
       "         3.39893778e-01,  5.16693458e-02,  2.00250117e+00],\n",
       "       [-1.53662898e+00, -1.67266778e+00,  1.32519535e+00,\n",
       "         2.08219284e-02, -5.59407215e-01,  1.62212079e+00,\n",
       "         6.99789862e-03, -8.92247195e-01, -9.04534034e-01,\n",
       "         4.43779305e-01,  1.51056852e+00,  4.37756069e-01],\n",
       "       [-1.15639086e+00, -8.99405530e-01,  1.11650317e+00,\n",
       "        -5.07734716e-01, -5.62902054e-01, -2.90226883e-01,\n",
       "        -1.00036928e-02, -4.94131649e-01, -9.04534034e-01,\n",
       "         4.55322141e-01,  3.33419249e+00,  9.96593605e-01],\n",
       "       [-4.35939675e-01, -4.07329556e-01,  2.81734444e-01,\n",
       "        -5.07734716e-01, -2.71083005e-01, -2.67728675e-01,\n",
       "         3.58015370e-01, -4.23875964e-01,  1.10554160e+00,\n",
       "         1.10319589e-01,  1.14584373e+00,  2.72898996e+00],\n",
       "       [-1.55764214e-01, -8.05676773e-01, -1.38780300e+00,\n",
       "        -5.07734716e-01, -5.64649473e-01,  1.48713155e+00,\n",
       "         9.54705838e-01, -8.92247195e-01,  1.10554160e+00,\n",
       "         1.42383023e-01,  5.98756537e-01, -3.44616480e-01],\n",
       "       [ 5.04649371e-01,  3.65932689e-01, -1.35649917e-01,\n",
       "        -4.99726282e-01,  2.37416057e-01,  3.17224732e-01,\n",
       "         6.95104616e-01, -7.75154387e-01,  1.10554160e+00,\n",
       "        -2.21857589e-01, -3.13055448e-01, -5.68151494e-01],\n",
       "       [ 1.26512562e+00,  1.06889837e+00, -7.61726459e-01,\n",
       "        -5.07734716e-01, -5.62902054e-01, -5.37707170e-01,\n",
       "         5.47452333e-01, -7.04898703e-01,  1.10554160e+00,\n",
       "        -5.20688796e-01, -3.13055448e-01, -5.12267741e-01],\n",
       "       [ 1.40521335e+00,  1.42038120e+00, -5.53034279e-01,\n",
       "        -5.07734716e-01,  4.01673485e-01, -4.02717922e-01,\n",
       "         1.06600087e+00, -7.28317264e-01,  1.10554160e+00,\n",
       "        -4.50149240e-01, -1.04250504e+00, -6.24035248e-01],\n",
       "       [ 1.24511309e+00,  1.09233056e+00, -1.35649917e-01,\n",
       "        -4.99726282e-01,  2.02467667e-01,  1.14740861e-01,\n",
       "         6.46126954e-01, -9.15665757e-01, -9.04534034e-01,\n",
       "        -2.87266995e-01, -6.77780242e-01, -6.24035248e-01],\n",
       "       [ 6.24724568e-01,  5.53390203e-01,  4.90426624e-01,\n",
       "        -4.99726282e-01, -4.42330111e-01, -3.57721506e-01,\n",
       "         5.74785661e-01, -7.75154387e-01,  1.10554160e+00,\n",
       "        -4.33476255e-01, -3.13055448e-01, -6.79919001e-01],\n",
       "       [ 2.44486443e-01,  3.89364878e-01,  6.99118805e-01,\n",
       "        -5.07734716e-01, -5.01742373e-01,  8.34683515e-01,\n",
       "         6.36841470e-01, -6.11224456e-01,  1.10554160e+00,\n",
       "        -3.58896707e-02, -6.77780242e-01, -6.24035248e-01],\n",
       "       [-7.36127668e-01, -8.99405530e-01,  6.99118805e-01,\n",
       "        -5.07734716e-01, -5.62902054e-01,  2.94726524e-01,\n",
       "         9.89372737e-02, -7.28317264e-01, -9.04534034e-01,\n",
       "         4.54039604e-01, -3.13055448e-01,  3.25988562e-01],\n",
       "       [-1.27646606e+00, -1.20402399e+00,  1.32519535e+00,\n",
       "         4.85311101e-01, -5.59407215e-01, -5.82703586e-01,\n",
       "         2.97398158e-01, -3.53620279e-01, -9.04534034e-01,\n",
       "         4.97645874e-01, -4.95417845e-01,  9.40709851e-01],\n",
       "       [-1.17640339e+00, -9.69702098e-01,  1.32519535e+00,\n",
       "        -4.99726282e-01, -5.59407215e-01, -8.52682081e-01,\n",
       "        -3.05363840e-02, -3.30201718e-01, -9.04534034e-01,\n",
       "         8.50343650e-01,  2.96946770e+00,  8.84826098e-01],\n",
       "       [-1.61667911e+00, -1.76639653e+00, -3.44342098e-01,\n",
       "         8.13656896e-01, -5.62902054e-01,  2.24982079e-03,\n",
       "         4.91216300e-01, -5.17550210e-01, -9.04534034e-01,\n",
       "         6.48985284e-01, -3.13055448e-01, -1.21081466e-01],\n",
       "       [-1.19641592e+00, -1.27432056e+00,  6.99118805e-01,\n",
       "        -4.99726282e-01, -1.15562673e-01, -3.16999750e+00,\n",
       "         7.12116016e-02, -4.94131649e-01, -9.04534034e-01,\n",
       "         7.24654988e-01, -4.95417845e-01, -1.76965220e-01],\n",
       "       [-9.57266156e-02, -1.73007664e-01,  6.99118805e-01,\n",
       "         6.85521951e-01, -5.62902054e-01, -1.25764982e+00,\n",
       "         4.31776121e-01, -5.17550210e-01,  1.10554160e+00,\n",
       "         9.92705298e-01, -6.77780242e-01,  1.66719865e+00],\n",
       "       [ 9.24912561e-01,  3.19068310e-01, -1.17911082e+00,\n",
       "        -3.07523866e-01,  1.00977546e+00,  2.49730108e-01,\n",
       "         1.23599390e-02, -3.77038841e-01,  1.10554160e+00,\n",
       "         1.59806294e+00, -3.13055448e-01, -5.12267741e-01],\n",
       "       [ 1.56531361e+00,  9.28305231e-01, -3.26603263e+00,\n",
       "         2.08219284e-02,  2.59783026e-02,  2.47480287e-02,\n",
       "         8.85260876e-01,  3.48936567e-01, -9.04534034e-01,\n",
       "         1.42876800e+00, -6.77780242e-01, -6.79919001e-01],\n",
       "       [ 1.78545148e+00,  1.74843185e+00, -1.59649518e+00,\n",
       "         2.99195095e+00, -1.87206871e-01,  4.29715772e-01,\n",
       "        -1.81066840e+00,  3.02099444e-01, -9.04534034e-01,\n",
       "         1.81096414e+00,  7.81118934e-01, -5.68151494e-01],\n",
       "       [ 1.24511309e+00,  1.46724558e+00, -7.61726459e-01,\n",
       "         4.67372209e+00, -5.55912376e-01,  5.64705020e-01,\n",
       "        -1.78287733e+00,  8.40726360e-01, -9.04534034e-01,\n",
       "         1.68399294e+00,  1.87529332e+00, -6.24035248e-01],\n",
       "       [ 8.24849897e-01,  8.11144284e-01, -1.59649518e+00,\n",
       "        -5.07734716e-01, -5.55912376e-01,  1.30714588e+00,\n",
       "        -2.49864433e+00,  1.28567903e+00,  1.10554160e+00,\n",
       "         1.83789742e+00,  9.63481331e-01, -5.68151494e-01],\n",
       "       [ 2.64498976e-01,  3.65932689e-01, -5.53034279e-01,\n",
       "         5.65395441e-01, -9.10988009e-02,  4.52213980e-01,\n",
       "        -2.04535575e+00,  1.12174910e+00,  1.10554160e+00,\n",
       "         1.90971952e+00, -3.13055448e-01, -6.79919001e-01],\n",
       "       [-6.36065003e-01, -7.92789069e-02,  4.90426624e-01,\n",
       "        -4.83709414e-01, -5.59407215e-01, -6.50198210e-01,\n",
       "        -1.99101605e+00,  2.03507300e+00, -9.04534034e-01,\n",
       "         5.92553640e-01, -4.95417845e-01,  6.05407330e-01],\n",
       "       [-9.16240464e-01, -2.90168610e-01,  6.99118805e-01,\n",
       "         2.40733526e+00,  1.51652710e+00,  7.22192475e-01,\n",
       "        -2.43448621e-01,  1.91798019e+00,  1.10554160e+00,\n",
       "        -1.02581614e-01,  2.96946770e+00,  2.78487372e+00],\n",
       "       [-1.45657885e+00, -1.39148150e+00,  6.99118805e-01,\n",
       "        -4.43667244e-01, -2.06428485e-01,  5.87203227e-01,\n",
       "        -1.28486149e+00,  1.56670177e+00, -9.04534034e-01,\n",
       "         6.41482440e-02,  7.81118934e-01,  2.39368744e+00],\n",
       "       [-9.56265530e-01, -5.71354881e-01,  1.32519535e+00,\n",
       "        -4.99726282e-01,  1.20373901e+00,  1.10466201e+00,\n",
       "        -2.15330604e-01,  1.66037601e+00, -9.04534034e-01,\n",
       "         3.86065123e-01,  1.32820612e+00,  3.81872316e-01],\n",
       "       [-5.96039938e-01, -4.77626124e-01, -1.35649917e-01,\n",
       "        -4.91717848e-01,  7.44167698e-01,  2.72228316e-01,\n",
       "        -5.17566587e-01,  2.08191012e+00,  1.10554160e+00,\n",
       "         6.02813938e-01,  5.16693458e-02,  2.72898996e+00],\n",
       "       [-2.35814346e-01, -2.90168610e-01, -1.38780300e+00,\n",
       "         1.77466898e+00, -3.14768491e-01, -3.57721506e-01,\n",
       "        -9.73797753e-01,  1.09833054e+00,  1.10554160e+00,\n",
       "         1.22227949e+00, -4.95417845e-01, -4.56383987e-01],\n",
       "       [ 1.44423779e-01,  1.78475175e-01, -9.70418640e-01,\n",
       "        -4.75700980e-01, -5.64649473e-01,  5.19708604e-01,\n",
       "        -3.76322597e-01,  6.29959306e-01, -9.04534034e-01,\n",
       "         1.01963858e+00, -6.77780242e-01, -5.12267741e-01],\n",
       "       [ 6.24724568e-01,  9.98601798e-01,  7.30422632e-02,\n",
       "        -6.72708457e-02,  2.88825137e+00, -8.77430110e-02,\n",
       "        -9.93022630e-01,  1.23884191e+00,  1.10554160e+00,\n",
       "         4.98928412e-01, -4.95417845e-01, -5.68151494e-01],\n",
       "       [ 1.24511309e+00,  1.56097434e+00, -5.53034279e-01,\n",
       "        -4.99726282e-01, -5.55912376e-01,  1.82235484e-01,\n",
       "        -1.31121395e+00,  7.93889237e-01,  1.10554160e+00,\n",
       "         8.63169024e-01, -1.30693051e-01, -5.68151494e-01],\n",
       "       [ 1.20508802e+00,  1.84216061e+00,  7.30422632e-02,\n",
       "        -5.07734716e-01, -5.64649473e-01, -1.32739427e-01,\n",
       "        -2.86385159e+00,  1.19200478e+00,  1.10554160e+00,\n",
       "         7.23372451e-01,  2.34031743e-01, -5.12267741e-01],\n",
       "       [ 1.30515069e+00,  1.91245718e+00, -1.35649917e-01,\n",
       "        -5.07734716e-01, -5.64649473e-01, -9.87671329e-01,\n",
       "        -2.86385159e+00,  2.22242149e+00,  1.10554160e+00,\n",
       "         8.50343650e-01,  9.63481331e-01, -5.68151494e-01],\n",
       "       [-1.56764841e-02,  3.89364878e-01,  4.90426624e-01,\n",
       "         1.94284609e+00,  3.44218334e+00, -9.42674913e-01,\n",
       "        -4.01694203e-01,  1.91798019e+00, -9.04534034e-01,\n",
       "         4.24541244e-01,  7.81118934e-01, -5.12267741e-01],\n",
       "       [-8.36190332e-01, -4.30761746e-01,  1.53388753e+00,\n",
       "         1.61450030e+00,  1.53574871e+00, -3.32748496e+00,\n",
       "         3.06291298e-01,  1.54328321e+00, -9.04534034e-01,\n",
       "         6.29747223e-01,  9.63481331e-01,  1.44366363e+00],\n",
       "       [-1.09635326e+00, -7.35380206e-01,  9.07810986e-01,\n",
       "        -4.99726282e-01, -5.41933020e-01, -1.64011936e+00,\n",
       "         1.37190854e-01,  2.05849156e+00, -9.04534034e-01,\n",
       "         7.92629469e-01,  1.14584373e+00,  8.84826098e-01]])"
      ]
     },
     "execution_count": 9,
     "metadata": {},
     "output_type": "execute_result"
    }
   ],
   "source": [
    "from sklearn import preprocessing\n",
    "# I Scale/Normalize the numerical values\n",
    "\n",
    "num_features = ['temperature_max', 'temperature_min', 'humidity',\n",
    "       'precip_intensity', 'precip_intensity_max', 'pressure', 'visibility',\n",
    "       'wind_speed', 'tomato_price', 'oil_price', 'lettuce_price',\n",
    "       'onion_price']\n",
    "\n",
    "numerical_transformer = Pipeline([\n",
    "            ('payment_scaler', StandardScaler())\n",
    "        ])\n",
    "\n",
    "\n",
    "\n",
    "del data['day']\n",
    "columns_transformer = ColumnTransformer([(\"numerical\", numerical_transformer, num_features)])\n",
    "\n",
    "columns_transformer.fit_transform(data)\n"
   ]
  },
  {
   "cell_type": "code",
   "execution_count": 10,
   "metadata": {},
   "outputs": [],
   "source": [
    "# I split the dataset into train and test.\n",
    "y = data['tomato_price']\n",
    "simplified_df = data.copy()\n",
    "del simplified_df['tomato_price']\n",
    "X = simplified_df.copy()\n",
    "X_train, X_test, y_train, y_test = train_test_split(X,\n",
    "                                                    y,\n",
    "                                                    random_state=50)\n",
    "\n",
    "\n"
   ]
  },
  {
   "cell_type": "code",
   "execution_count": 11,
   "metadata": {},
   "outputs": [
    {
     "name": "stderr",
     "output_type": "stream",
     "text": [
      "/Users/pola/miniconda3/envs/ads04/lib/python3.7/site-packages/sklearn/linear_model/logistic.py:432: FutureWarning: Default solver will be changed to 'lbfgs' in 0.22. Specify a solver to silence this warning.\n",
      "  FutureWarning)\n"
     ]
    },
    {
     "data": {
      "text/plain": [
       "0.5333333333333333"
      ]
     },
     "execution_count": 11,
     "metadata": {},
     "output_type": "execute_result"
    }
   ],
   "source": [
    "# Setting up a baseline model\n",
    "\n",
    "from sklearn.linear_model import LogisticRegression\n",
    "\n",
    "baseline = LogisticRegression(max_iter=1000)\n",
    "baseline.fit(X_train, y_train)\n",
    "y_pred_baseline = baseline.predict(X_test)\n",
    "metrics.accuracy_score(y_test, y_pred_baseline)"
   ]
  },
  {
   "cell_type": "code",
   "execution_count": 12,
   "metadata": {},
   "outputs": [],
   "source": [
    "# Random Forest model\n",
    "rf_model = RandomForestClassifier(class_weight=\"balanced\", n_estimators=150, n_jobs=-1)"
   ]
  },
  {
   "cell_type": "code",
   "execution_count": 13,
   "metadata": {},
   "outputs": [
    {
     "name": "stderr",
     "output_type": "stream",
     "text": [
      "/Users/pola/miniconda3/envs/ads04/lib/python3.7/site-packages/sklearn/model_selection/_search.py:814: DeprecationWarning: The default of the `iid` parameter will change from True to False in version 0.22 and will be removed in 0.24. This will change numeric results when test-set sizes are unequal.\n",
      "  DeprecationWarning)\n"
     ]
    },
    {
     "data": {
      "text/plain": [
       "GridSearchCV(cv=5, error_score='raise-deprecating',\n",
       "             estimator=RandomForestClassifier(bootstrap=True,\n",
       "                                              class_weight='balanced',\n",
       "                                              criterion='gini', max_depth=None,\n",
       "                                              max_features='auto',\n",
       "                                              max_leaf_nodes=None,\n",
       "                                              min_impurity_decrease=0.0,\n",
       "                                              min_impurity_split=None,\n",
       "                                              min_samples_leaf=1,\n",
       "                                              min_samples_split=2,\n",
       "                                              min_weight_fraction_leaf=0.0,\n",
       "                                              n_estimators=150, n_jobs=-1,\n",
       "                                              oob_score=False,\n",
       "                                              random_state=None, verbose=0,\n",
       "                                              warm_start=False),\n",
       "             iid='warn', n_jobs=-1,\n",
       "             param_grid={'max_depth': [10, 15, 20],\n",
       "                         'min_samples_split': [0.005, 0.01, 0.05]},\n",
       "             pre_dispatch='2*n_jobs', refit=True, return_train_score=False,\n",
       "             scoring='balanced_accuracy', verbose=0)"
      ]
     },
     "execution_count": 13,
     "metadata": {},
     "output_type": "execute_result"
    }
   ],
   "source": [
    "#Use grid search to find the best parameters for your rf_model\n",
    "gs = GridSearchCV(rf_model, {\"max_depth\": [10, 15, 20],\n",
    "                             \"min_samples_split\": [.005, .01, .05]}, \n",
    "                  n_jobs=-1, cv=5, scoring=\"balanced_accuracy\")\n",
    "\n",
    "gs.fit(X_train, y_train)"
   ]
  },
  {
   "cell_type": "code",
   "execution_count": 14,
   "metadata": {},
   "outputs": [
    {
     "name": "stdout",
     "output_type": "stream",
     "text": [
      "{'max_depth': 10, 'min_samples_split': 0.05}\n"
     ]
    }
   ],
   "source": [
    "print(gs.best_params_)"
   ]
  },
  {
   "cell_type": "code",
   "execution_count": 15,
   "metadata": {},
   "outputs": [
    {
     "name": "stderr",
     "output_type": "stream",
     "text": [
      "/Users/pola/miniconda3/envs/ads04/lib/python3.7/site-packages/sklearn/model_selection/_search.py:814: DeprecationWarning: The default of the `iid` parameter will change from True to False in version 0.22 and will be removed in 0.24. This will change numeric results when test-set sizes are unequal.\n",
      "  DeprecationWarning)\n"
     ]
    },
    {
     "data": {
      "text/plain": [
       "GridSearchCV(cv=5, error_score='raise-deprecating',\n",
       "             estimator=RandomForestClassifier(bootstrap=True,\n",
       "                                              class_weight='balanced',\n",
       "                                              criterion='gini', max_depth=10,\n",
       "                                              max_features='auto',\n",
       "                                              max_leaf_nodes=None,\n",
       "                                              min_impurity_decrease=0.0,\n",
       "                                              min_impurity_split=None,\n",
       "                                              min_samples_leaf=1,\n",
       "                                              min_samples_split=0.05,\n",
       "                                              min_weight_fraction_leaf=0.0,\n",
       "                                              n_estimators=150, n_jobs=-1,\n",
       "                                              oob_score=False,\n",
       "                                              random_state=None, verbose=0,\n",
       "                                              warm_start=False),\n",
       "             iid='warn', n_jobs=-1,\n",
       "             param_grid={'max_depth': [10], 'min_samples_split': [0.01]},\n",
       "             pre_dispatch='2*n_jobs', refit=True, return_train_score=False,\n",
       "             scoring='balanced_accuracy', verbose=0)"
      ]
     },
     "execution_count": 15,
     "metadata": {},
     "output_type": "execute_result"
    }
   ],
   "source": [
    "# Random Forest model with the best parameters\n",
    "rf_model = gs.best_estimator_\n",
    "gs = GridSearchCV(rf_model, {\"max_depth\": [10],\n",
    "                             \"min_samples_split\": [0.01]}, \n",
    "                  n_jobs=-1, cv=5, scoring=\"balanced_accuracy\")\n",
    "\n",
    "gs.fit(X_train, y_train)"
   ]
  },
  {
   "cell_type": "code",
   "execution_count": 16,
   "metadata": {},
   "outputs": [
    {
     "name": "stdout",
     "output_type": "stream",
     "text": [
      "0.755\n"
     ]
    }
   ],
   "source": [
    "print(gs.best_score_)"
   ]
  },
  {
   "cell_type": "code",
   "execution_count": 17,
   "metadata": {},
   "outputs": [
    {
     "data": {
      "text/plain": [
       "0.5333333333333333"
      ]
     },
     "execution_count": 17,
     "metadata": {},
     "output_type": "execute_result"
    }
   ],
   "source": [
    "y_pred = rf_model.predict(X_test)\n",
    "metrics.accuracy_score(y_test, y_pred)"
   ]
  },
  {
   "cell_type": "code",
   "execution_count": null,
   "metadata": {},
   "outputs": [],
   "source": [
    "\n"
   ]
  },
  {
   "cell_type": "code",
   "execution_count": null,
   "metadata": {},
   "outputs": [],
   "source": []
  }
 ],
 "metadata": {
  "kernelspec": {
   "display_name": "Python 3",
   "language": "python",
   "name": "python3"
  },
  "language_info": {
   "codemirror_mode": {
    "name": "ipython",
    "version": 3
   },
   "file_extension": ".py",
   "mimetype": "text/x-python",
   "name": "python",
   "nbconvert_exporter": "python",
   "pygments_lexer": "ipython3",
   "version": "3.7.4"
  }
 },
 "nbformat": 4,
 "nbformat_minor": 2
}
