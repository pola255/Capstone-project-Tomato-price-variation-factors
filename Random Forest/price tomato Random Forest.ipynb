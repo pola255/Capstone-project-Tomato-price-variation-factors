{
 "cells": [
  {
   "cell_type": "markdown",
   "metadata": {},
   "source": [
    "Random Forest with time series:\n",
    "\n",
    "Can’t use Random Forest to forecast into more than 1 value or indefinitely into the future as one can with linear model. What this means is that when I’m trying to predict 6 months into the future, I’ll need to actually use 6 months of past data as the input.\n",
    "\n",
    "As an example, if my model is able to predict 6 months into the future; to predict the traffic at 1 July 2019 I will need to use the data points on for 1 Jan 2019 (for simplification, I assume all months have 30 days in a month). To predict for 2 July 2019, I’ll use 2 Jan 2019. And so on, until 30th June 2019, which gives me prediction for 30th Dec 2019."
   ]
  },
  {
   "cell_type": "code",
   "execution_count": 1,
   "metadata": {},
   "outputs": [],
   "source": [
    "import pandas as pd\n",
    "import numpy as np\n",
    "from sklearn.pipeline import Pipeline\n",
    "from sklearn.preprocessing import StandardScaler\n",
    "from sklearn.preprocessing import MinMaxScaler\n",
    "from sklearn.decomposition import PCA\n",
    "import matplotlib.pyplot as plt\n",
    "from sklearn import metrics\n",
    "from sklearn.compose import ColumnTransformer\n",
    "from sklearn.model_selection import train_test_split, GridSearchCV\n",
    "from sklearn.ensemble import RandomForestClassifier\n"
   ]
  },
  {
   "cell_type": "code",
   "execution_count": 27,
   "metadata": {},
   "outputs": [
    {
     "data": {
      "text/html": [
       "<div>\n",
       "<style scoped>\n",
       "    .dataframe tbody tr th:only-of-type {\n",
       "        vertical-align: middle;\n",
       "    }\n",
       "\n",
       "    .dataframe tbody tr th {\n",
       "        vertical-align: top;\n",
       "    }\n",
       "\n",
       "    .dataframe thead th {\n",
       "        text-align: right;\n",
       "    }\n",
       "</style>\n",
       "<table border=\"1\" class=\"dataframe\">\n",
       "  <thead>\n",
       "    <tr style=\"text-align: right;\">\n",
       "      <th></th>\n",
       "      <th>day</th>\n",
       "      <th>temperature_max</th>\n",
       "      <th>temperature_min</th>\n",
       "      <th>humidity</th>\n",
       "      <th>precip_intensity</th>\n",
       "      <th>precip_intensity_max</th>\n",
       "      <th>pressure</th>\n",
       "      <th>visibility</th>\n",
       "      <th>wind_speed</th>\n",
       "      <th>tomato_price</th>\n",
       "      <th>oil_price</th>\n",
       "      <th>lettuce_price</th>\n",
       "      <th>onion_price</th>\n",
       "    </tr>\n",
       "  </thead>\n",
       "  <tbody>\n",
       "    <tr>\n",
       "      <th>0</th>\n",
       "      <td>2015-01-31 00:00:00+00:00</td>\n",
       "      <td>8.573571</td>\n",
       "      <td>2.237857</td>\n",
       "      <td>0.866429</td>\n",
       "      <td>22.079243</td>\n",
       "      <td>24.485486</td>\n",
       "      <td>1014.221429</td>\n",
       "      <td>4503.658571</td>\n",
       "      <td>5.548571</td>\n",
       "      <td>0.4975</td>\n",
       "      <td>47.759500</td>\n",
       "      <td>0.330</td>\n",
       "      <td>0.3125</td>\n",
       "    </tr>\n",
       "    <tr>\n",
       "      <th>1</th>\n",
       "      <td>2015-02-28 00:00:00+00:00</td>\n",
       "      <td>7.955000</td>\n",
       "      <td>1.872143</td>\n",
       "      <td>0.842143</td>\n",
       "      <td>0.050907</td>\n",
       "      <td>0.226479</td>\n",
       "      <td>1016.628571</td>\n",
       "      <td>5594.000000</td>\n",
       "      <td>4.152857</td>\n",
       "      <td>0.5680</td>\n",
       "      <td>58.095500</td>\n",
       "      <td>0.326</td>\n",
       "      <td>0.3400</td>\n",
       "    </tr>\n",
       "    <tr>\n",
       "      <th>2</th>\n",
       "      <td>2015-03-31 00:00:00+00:00</td>\n",
       "      <td>11.156250</td>\n",
       "      <td>3.781250</td>\n",
       "      <td>0.791875</td>\n",
       "      <td>0.011969</td>\n",
       "      <td>0.152994</td>\n",
       "      <td>1020.506250</td>\n",
       "      <td>4875.121250</td>\n",
       "      <td>4.885000</td>\n",
       "      <td>1.1420</td>\n",
       "      <td>55.885455</td>\n",
       "      <td>0.318</td>\n",
       "      <td>0.6760</td>\n",
       "    </tr>\n",
       "    <tr>\n",
       "      <th>3</th>\n",
       "      <td>2015-04-30 00:00:00+00:00</td>\n",
       "      <td>15.607333</td>\n",
       "      <td>4.617333</td>\n",
       "      <td>0.766000</td>\n",
       "      <td>0.003860</td>\n",
       "      <td>3.970053</td>\n",
       "      <td>1021.640000</td>\n",
       "      <td>5087.544000</td>\n",
       "      <td>4.008667</td>\n",
       "      <td>0.7825</td>\n",
       "      <td>59.524286</td>\n",
       "      <td>0.310</td>\n",
       "      <td>0.2300</td>\n",
       "    </tr>\n",
       "    <tr>\n",
       "      <th>4</th>\n",
       "      <td>2015-05-31 00:00:00+00:00</td>\n",
       "      <td>16.108750</td>\n",
       "      <td>8.606250</td>\n",
       "      <td>0.780625</td>\n",
       "      <td>0.053781</td>\n",
       "      <td>35.143356</td>\n",
       "      <td>1015.562500</td>\n",
       "      <td>6042.000000</td>\n",
       "      <td>4.691250</td>\n",
       "      <td>0.8625</td>\n",
       "      <td>64.075000</td>\n",
       "      <td>0.300</td>\n",
       "      <td>0.2350</td>\n",
       "    </tr>\n",
       "  </tbody>\n",
       "</table>\n",
       "</div>"
      ],
      "text/plain": [
       "                         day  temperature_max  temperature_min  humidity  \\\n",
       "0  2015-01-31 00:00:00+00:00         8.573571         2.237857  0.866429   \n",
       "1  2015-02-28 00:00:00+00:00         7.955000         1.872143  0.842143   \n",
       "2  2015-03-31 00:00:00+00:00        11.156250         3.781250  0.791875   \n",
       "3  2015-04-30 00:00:00+00:00        15.607333         4.617333  0.766000   \n",
       "4  2015-05-31 00:00:00+00:00        16.108750         8.606250  0.780625   \n",
       "\n",
       "   precip_intensity  precip_intensity_max     pressure   visibility  \\\n",
       "0         22.079243             24.485486  1014.221429  4503.658571   \n",
       "1          0.050907              0.226479  1016.628571  5594.000000   \n",
       "2          0.011969              0.152994  1020.506250  4875.121250   \n",
       "3          0.003860              3.970053  1021.640000  5087.544000   \n",
       "4          0.053781             35.143356  1015.562500  6042.000000   \n",
       "\n",
       "   wind_speed  tomato_price  oil_price  lettuce_price  onion_price  \n",
       "0    5.548571        0.4975  47.759500          0.330       0.3125  \n",
       "1    4.152857        0.5680  58.095500          0.326       0.3400  \n",
       "2    4.885000        1.1420  55.885455          0.318       0.6760  \n",
       "3    4.008667        0.7825  59.524286          0.310       0.2300  \n",
       "4    4.691250        0.8625  64.075000          0.300       0.2350  "
      ]
     },
     "execution_count": 27,
     "metadata": {},
     "output_type": "execute_result"
    }
   ],
   "source": [
    "# Load data\n",
    "data = pd.read_csv(\"data/all_data.csv\")\n",
    "data.head()"
   ]
  },
  {
   "cell_type": "code",
   "execution_count": 3,
   "metadata": {},
   "outputs": [
    {
     "data": {
      "text/plain": [
       "(60, 13)"
      ]
     },
     "execution_count": 3,
     "metadata": {},
     "output_type": "execute_result"
    }
   ],
   "source": [
    "# I check the shape\n",
    "data.shape"
   ]
  },
  {
   "cell_type": "code",
   "execution_count": 4,
   "metadata": {},
   "outputs": [],
   "source": [
    "# round and reemplace missing values for mean\n",
    "data = data.round(2)\n",
    "data = data.fillna(value=round(data.mean(), 2))\n"
   ]
  },
  {
   "cell_type": "code",
   "execution_count": 5,
   "metadata": {},
   "outputs": [
    {
     "data": {
      "text/plain": [
       "<matplotlib.axes._subplots.AxesSubplot at 0x1a214ca0d0>"
      ]
     },
     "execution_count": 5,
     "metadata": {},
     "output_type": "execute_result"
    },
    {
     "data": {
      "image/png": "[encoded data removed]",
      "text/plain": [
       "<Figure size 432x288 with 1 Axes>"
      ]
     },
     "metadata": {
      "needs_background": "light"
     },
     "output_type": "display_data"
    }
   ],
   "source": [
    "# Display histogram of the price scores\n",
    "data['tomato_price'].hist()"
   ]
  },
  {
   "cell_type": "code",
   "execution_count": 6,
   "metadata": {},
   "outputs": [],
   "source": [
    "# the histogram seem to be unbalanced\n"
   ]
  },
  {
   "cell_type": "code",
   "execution_count": 7,
   "metadata": {},
   "outputs": [
    {
     "data": {
      "text/plain": [
       "-1    37\n",
       " 1    23\n",
       "Name: tomato_price, dtype: int64"
      ]
     },
     "execution_count": 7,
     "metadata": {},
     "output_type": "execute_result"
    }
   ],
   "source": [
    "# I build a histogram to balance the tomato_price column\n",
    "\n",
    "def transform(col):\n",
    "    col = round(col, 2)\n",
    "    if col < 0.89:\n",
    "        return -1\n",
    "    elif col > 0.89:\n",
    "        return 1\n",
    "    else: \n",
    "        return 0\n",
    "data['tomato_price'] = data['tomato_price'].apply(transform)\n",
    "\n",
    "data.tomato_price.value_counts()"
   ]
  },
  {
   "cell_type": "code",
   "execution_count": 8,
   "metadata": {},
   "outputs": [
    {
     "data": {
      "text/plain": [
       "Index(['day', 'temperature_max', 'temperature_min', 'humidity',\n",
       "       'precip_intensity', 'precip_intensity_max', 'pressure', 'visibility',\n",
       "       'wind_speed', 'tomato_price', 'oil_price', 'lettuce_price',\n",
       "       'onion_price'],\n",
       "      dtype='object')"
      ]
     },
     "execution_count": 8,
     "metadata": {},
     "output_type": "execute_result"
    },
    {
     "data": {
      "image/png": "[encoded data removed]",
      "text/plain": [
       "<Figure size 432x288 with 1 Axes>"
      ]
     },
     "metadata": {
      "needs_background": "light"
     },
     "output_type": "display_data"
    }
   ],
   "source": [
    "data['tomato_price'].hist()\n",
    "data.columns"
   ]
  },
  {
   "cell_type": "code",
   "execution_count": 28,
   "metadata": {},
   "outputs": [
    {
     "data": {
      "text/plain": [
       "array([[-1.32747583e+00, -1.43002863e+00,  1.02501654e+00,\n",
       "         1.24367986e+00, -1.47184323e-01, -3.93953137e-01,\n",
       "         2.78325871e-02, -2.92250800e-01, -1.62999249e+00,\n",
       "        -8.24108995e-01, -5.65424800e-01, -2.97688405e-01],\n",
       "       [-1.45204266e+00, -1.51776556e+00,  5.24326647e-01,\n",
       "        -5.09044615e-01, -5.68654098e-01,  1.47859482e-01,\n",
       "         7.89789029e-01, -6.30621989e-01, -1.31177025e+00,\n",
       "         8.49734969e-02, -6.55742239e-01, -1.10224808e-01],\n",
       "       [-8.07380533e-01, -1.05975995e+00, -5.12027797e-01,\n",
       "        -5.12142819e-01, -5.69930805e-01,  1.02066816e+00,\n",
       "         2.87419514e-01, -4.53124308e-01,  1.27914558e+00,\n",
       "        -1.09406692e-01, -8.36377116e-01,  2.18023951e+00],\n",
       "       [ 8.89708501e-02, -8.59178832e-01, -1.04548342e+00,\n",
       "        -5.12788006e-01, -5.03614189e-01,  1.27585869e+00,\n",
       "         4.35865568e-01, -6.65578930e-01, -3.43562160e-01,\n",
       "         2.10639526e-01, -1.01701199e+00, -8.60079198e-01],\n",
       "       [ 1.89945262e-01,  9.77848388e-02, -7.43965026e-01,\n",
       "        -5.08815931e-01,  3.79827886e-02, -9.20975904e-02,\n",
       "         1.10286205e+00, -5.00096255e-01,  1.75410920e-02,\n",
       "         6.10888624e-01, -1.24280559e+00, -8.25994907e-01],\n",
       "       [ 1.21964261e+00,  6.87253029e-01, -1.74644927e+00,\n",
       "        -5.12707909e-01, -4.37038003e-01,  9.84748289e-01,\n",
       "         1.16151665e+00, -6.87074910e-01, -4.09012124e-01,\n",
       "         3.82450625e-01, -9.26694555e-01, -1.10224808e-01],\n",
       "       [ 1.27508876e+00,  1.01256510e+00, -1.01799457e+00,\n",
       "        -4.21855339e-01, -5.70248751e-01, -2.15706968e-01,\n",
       "         8.78118482e-01, -5.10258358e-01, -5.80536169e-01,\n",
       "        -4.99636554e-02, -1.12990879e+00, -8.25994907e-01],\n",
       "       [ 1.15454709e+00,  1.18695652e+00,  2.61096300e-01,\n",
       "         7.96199398e-02,  2.52805496e+00, -3.11555817e-01,\n",
       "         1.83773476e-01, -7.24197900e-01, -1.96863964e-01,\n",
       "        -9.33566537e-01, -1.07346039e+00, -8.08952762e-01],\n",
       "       [ 6.12420054e-01,  2.35590646e-01, -6.96290080e-02,\n",
       "        -5.11386569e-01, -5.56073282e-01,  5.37578706e-01,\n",
       "         7.16468911e-01, -8.08292838e-01,  7.39747595e-01,\n",
       "        -8.36098591e-01, -8.47666796e-01, -6.89657745e-01],\n",
       "       [-5.50817264e-02,  1.23634673e-01,  1.09864741e+00,\n",
       "        -5.08965086e-01, -5.68900086e-01,  3.53008710e-01,\n",
       "         1.79067888e-01, -9.89958107e-01,  7.10407956e-01,\n",
       "        -7.65136490e-01, -1.10732943e+00, -7.78276901e-01],\n",
       "       [-3.66278252e-01,  9.38863719e-02,  1.56595797e+00,\n",
       "        -4.06276687e-01, -3.84121402e-01,  2.11955218e-01,\n",
       "         1.66115423e-01, -3.08551725e-01, -6.97894725e-01,\n",
       "        -1.13123050e+00, -1.01701199e+00, -8.60079198e-01],\n",
       "       [-4.04674373e-01,  3.52344732e-01,  1.00243641e+00,\n",
       "        -5.06436453e-01, -9.35336070e-02,  6.00602607e-01,\n",
       "         6.41881127e-01,  1.11347179e-01, -1.75412174e+00,\n",
       "        -1.68200682e+00, -1.46859919e+00, -8.37356337e-01],\n",
       "       [-1.15375113e+00, -1.06095948e+00,  1.27904303e+00,\n",
       "         7.46750871e-01,  1.90501101e+00, -1.55093208e+00,\n",
       "         4.79514359e-01, -3.46149486e-01, -4.97783340e-01,\n",
       "        -2.32458764e+00, -1.89102138e-01, -3.60176271e-01],\n",
       "       [-1.17744903e+00, -1.22473793e+00, -4.99941103e-02,\n",
       "        -5.10668346e-01, -5.67773498e-01, -1.41005276e+00,\n",
       "         6.85056818e-01, -3.19957755e-01, -8.28794654e-01,\n",
       "        -2.19424126e+00,  1.11955992e-01,  7.24840307e-01],\n",
       "       [-8.22735625e-01, -1.09049787e+00, -5.24913198e-01,\n",
       "        -5.06299134e-01,  3.24263227e+00, -2.20114889e-01,\n",
       "         1.97751260e-01, -5.89039910e-01,  1.36039381e+00,\n",
       "        -1.66397645e+00, -3.39631202e-01, -4.51067712e-01],\n",
       "       [-4.78915822e-01, -9.48583674e-01, -1.19667214e+00,\n",
       "        -5.11123468e-01, -5.67390771e-01, -6.14858340e-01,\n",
       "         1.08706863e+00, -6.61215085e-01, -1.02074360e-01,\n",
       "        -1.36732155e+00, -2.94472483e-01, -4.37433996e-01],\n",
       "       [ 6.13972345e-01,  3.44437842e-01, -9.75902255e-01,\n",
       "        -5.10677795e-01, -5.68100698e-01, -3.93149260e-01,\n",
       "         8.16562712e-01, -7.79503580e-01, -4.27067287e-01,\n",
       "        -9.13567694e-01, -1.58996325e-01, -6.14672306e-01],\n",
       "       [ 8.97705912e-01,  1.08565636e+00,  2.87726130e-01,\n",
       "         2.03157894e-01, -5.64217746e-01, -4.19784361e-01,\n",
       "         6.46711396e-01, -7.82594637e-01, -8.40191976e-02,\n",
       "        -7.81207907e-01, -5.65424800e-01, -6.32850595e-01],\n",
       "       [ 1.42934450e+00,  1.38106019e+00, -6.05661715e-01,\n",
       "        -4.96964819e-01, -9.99074545e-02,  4.83558219e-01,\n",
       "         6.29540366e-01, -6.93539866e-01,  1.75523765e-01,\n",
       "        -1.07104550e+00, -8.47666796e-01, -8.08952762e-01],\n",
       "       [ 1.56900871e+00,  1.36058824e+00, -8.34162837e-01,\n",
       "        -2.88345998e-02, -5.68188327e-01,  6.66158718e-01,\n",
       "         1.03948748e+00, -7.20561362e-01, -2.08261285e-02,\n",
       "        -9.92667148e-01, -1.13837605e-01, -6.14672306e-01],\n",
       "       [ 1.15090550e+00,  1.05942667e+00,  2.19003988e-01,\n",
       "        -5.08878623e-01, -4.64909079e-01,  1.54933593e-01,\n",
       "         9.71902487e-01, -8.54678899e-01,  7.55545863e-01,\n",
       "        -9.28929014e-01, -1.13837605e-01,  4.89658703e-01],\n",
       "       [ 1.15821284e-01, -4.42992862e-02,  2.87726130e-01,\n",
       "        -5.12358345e-01, -5.71166664e-01,  1.38990194e+00,\n",
       "         3.10892129e-01, -1.03165707e+00,  7.17178642e-01,\n",
       "        -6.69058278e-01, -6.78321598e-01, -8.08952762e-01],\n",
       "       [-9.59404332e-01, -1.08868858e+00,  5.48870270e-01,\n",
       "        -8.61804577e-02, -5.61647822e-01, -4.37791190e-01,\n",
       "         6.49088329e-01, -7.10187128e-01, -1.04319971e+00,\n",
       "        -1.09020288e+00, -1.70286005e-01, -8.77121343e-01],\n",
       "       [-1.07123639e+00, -1.04774468e+00,  1.49723583e+00,\n",
       "        -5.01773837e-01, -5.58576723e-01,  2.62036858e+00,\n",
       "        -3.71469623e-01, -9.54239224e-01, -1.40204607e+00,\n",
       "        -3.36057645e-01,  6.67972725e-02,  2.03350664e-01],\n",
       "       [-1.51786818e+00, -1.67391843e+00,  1.40789704e+00,\n",
       "         1.47003822e-02, -5.66260818e-01,  1.59744940e+00,\n",
       "        -4.43880979e-02, -8.75417266e-01, -1.25760477e+00,\n",
       "        -2.24518548e-01,  1.01513038e+00, -5.56899434e-02],\n",
       "       [-1.14364625e+00, -8.91440431e-01,  1.15755210e+00,\n",
       "        -5.10932622e-01, -5.69435917e-01, -3.18388765e-01,\n",
       "        -6.25722396e-02, -4.72519176e-01, -1.13723702e+00,\n",
       "        -1.98762970e-01,  2.44515650e+00,  5.48738140e-01],\n",
       "       [-4.15322248e-01, -3.85325177e-01,  2.61096300e-01,\n",
       "        -5.11379972e-01, -2.78606023e-01, -2.76386229e-01,\n",
       "         3.30714700e-01, -3.92060776e-01,  1.77415795e+00,\n",
       "        -4.87281404e-01,  1.65487891e+00,  2.87783132e+00],\n",
       "       [-1.37109801e-01, -7.83048771e-01, -1.43032742e+00,\n",
       "        -5.12695709e-01, -5.71615718e-01,  1.47243324e+00,\n",
       "         9.68408369e-01, -8.96377866e-01,  2.27443642e+00,\n",
       "        -4.24063908e-01,  1.68404391e-01, -4.85152003e-01],\n",
       "       [ 5.23276614e-01,  4.11841335e-01, -8.33734364e-02,\n",
       "        -5.08450554e-01,  2.27207015e-01,  2.92985947e-01,\n",
       "         6.90954857e-01, -7.61745153e-01,  6.38187306e-01,\n",
       "        -5.98331661e-01, -4.14895735e-01, -6.55573455e-01],\n",
       "       [ 1.30502699e+00,  1.12052264e+00, -8.25572569e-01,\n",
       "        -5.10317191e-01, -5.68959040e-01, -5.50333870e-01,\n",
       "         5.33208915e-01, -6.88367901e-01, -4.81232774e-01,\n",
       "        -9.46479641e-01, -6.86788858e-02, -4.10166564e-01],\n",
       "       [ 1.43660251e+00,  1.49643482e+00, -6.40881813e-01,\n",
       "        -5.09675750e-01,  3.90127292e-01, -4.22691714e-01,\n",
       "         1.08731322e+00, -7.17076347e-01,  9.63180232e-01,\n",
       "        -7.60864485e-01, -7.00900958e-01, -6.01038590e-01],\n",
       "       [ 1.27817656e+00,  1.16162648e+00, -8.33734364e-02,\n",
       "        -5.09077541e-01,  1.92045569e-01,  8.74079847e-02,\n",
       "         6.38662811e-01, -9.14641367e-01, -1.17872627e-01,\n",
       "        -4.77147686e-01, -6.21873199e-01, -9.31826629e-02],\n",
       "       [ 6.59811070e-01,  6.11762715e-01,  5.48870270e-01,\n",
       "        -5.08245802e-01, -4.49892257e-01, -3.68765013e-01,\n",
       "         5.62402043e-01, -7.57704556e-01,  9.09014745e-01,\n",
       "        -8.58878236e-02, -4.52528001e-01, -7.57826326e-01],\n",
       "       [ 2.62827408e-01,  4.33912655e-01,  7.68781124e-01,\n",
       "        -5.12491487e-01, -5.09069429e-01,  8.22686829e-01,\n",
       "         6.28735321e-01, -5.93656293e-01,  3.59836883e-01,\n",
       "         3.32771061e-02,  6.01175453e-01, -1.21586238e-01],\n",
       "       [-7.14394125e-01, -8.88607259e-01,  7.41292267e-01,\n",
       "        -5.10508682e-01, -5.68807889e-01,  2.74979119e-01,\n",
       "         5.38568485e-02, -7.25703023e-01, -2.34478886e-01,\n",
       "         4.91192550e-01, -5.65424800e-01,  7.07798162e-01],\n",
       "       [-1.26513847e+00, -1.20985093e+00,  1.31769923e+00,\n",
       "         4.76831397e-01, -5.65011755e-01, -6.02760002e-01,\n",
       "         2.65925444e-01, -3.40088589e-01, -4.11269019e-01,\n",
       "         6.37158805e-01, -4.52528001e-01,  1.18497823e+00],\n",
       "       [-1.15850030e+00, -9.57860026e-01,  1.20860283e+00,\n",
       "        -5.08878093e-01, -5.66278388e-01, -8.78958497e-01,\n",
       "        -8.44930082e-02, -3.02086769e-01, -1.58861608e+00,\n",
       "         1.05085365e+00, -4.14895735e-01, -3.37453411e-01],\n",
       "       [-1.60192562e+00, -1.76778152e+00, -3.00339056e-01,\n",
       "         8.01178691e-01, -5.68461994e-01, -2.09545390e-02,\n",
       "         4.73067149e-01, -5.03689501e-01, -1.98883885e+00,\n",
       "         7.20170261e-01, -2.04155044e-01, -9.65910919e-02],\n",
       "       [-1.18785957e+00, -1.28047316e+00,  7.76512365e-01,\n",
       "        -5.07940199e-01, -1.25194671e-01, -3.17858060e+00,\n",
       "         2.42018859e-02, -4.76155714e-01, -2.05880261e+00,\n",
       "         7.81664086e-01,  5.55075926e-02, -3.14730551e-01],\n",
       "       [-7.75018385e-02, -1.38182366e-01,  5.90103555e-01,\n",
       "         6.72139545e-01, -5.68459256e-01, -1.26910646e+00,\n",
       "         4.09580479e-01, -5.05086393e-01,  1.55222991e+00,\n",
       "         1.31723939e+00, -6.21873199e-01,  8.44135324e-01],\n",
       "       [ 9.55937790e-01,  3.51035247e-01, -1.06610007e+00,\n",
       "        -3.15903124e-01,  9.94063901e-01,  2.35715682e-01,\n",
       "        -3.86787082e-02, -3.55240831e-01,  1.41681619e+00,\n",
       "         1.74550362e+00,  3.83755035e+00,  6.56671727e-01],\n",
       "       [ 1.60481208e+00,  9.72740760e-01, -3.20335868e+00,\n",
       "         8.77851571e-03,  1.63971831e-02,  2.71307455e-03,\n",
       "         8.94197018e-01,  3.97744738e-01,  7.84772657e-02,\n",
       "         1.51942246e+00, -5.65424800e-01,  2.85152961e-01],\n",
       "       [ 1.81223168e+00,  1.81880804e+00, -1.66398270e+00,\n",
       "         2.96116185e+00, -1.95802842e-01,  4.08285487e-01,\n",
       "        -1.98691058e+00,  3.43439106e-01,  2.22918566e-01,\n",
       "         1.50617049e+00,  9.24812942e-01,  6.70135021e-02],\n",
       "       [ 1.27197578e+00,  1.54561547e+00, -8.47048239e-01,\n",
       "         4.63795892e+00, -5.62586923e-01,  5.57836388e-01,\n",
       "        -1.95722757e+00,  9.14971537e-01, -1.74295010e-01,\n",
       "         1.35437851e+00,  1.52316597e+00, -7.23742036e-01],\n",
       "       [ 8.50717653e-01,  8.63983529e-01, -1.56777170e+00,\n",
       "        -5.09755980e-01, -5.61933214e-01,  1.29086438e+00,\n",
       "        -2.72211738e+00,  1.37702398e+00,  8.26261916e-01,\n",
       "         1.91400068e+00,  3.75381855e-01, -4.96513433e-01],\n",
       "       [ 2.80145938e-01,  3.96807247e-01, -4.95706288e-01,\n",
       "         5.53975931e-01, -1.00081076e-01,  4.25036026e-01,\n",
       "        -2.23774822e+00,  1.20085392e+00, -3.69892605e-01,\n",
       "         2.10232341e+00,  2.62485057e-01, -7.69187756e-01],\n",
       "       [-6.24445172e-01, -5.72541916e-02,  4.11425986e-01,\n",
       "        -4.92650707e-01, -5.65711888e-01, -6.73380534e-01,\n",
       "        -2.17967597e+00,  2.15362684e+00, -5.02786125e-03,\n",
       "         6.70097003e-01, -5.65424800e-01,  1.06568321e+00],\n",
       "       [-8.94157778e-01, -2.71569911e-01,  7.68781124e-01,\n",
       "         2.38297827e+00,  1.49775898e+00,  7.10144149e-01,\n",
       "        -3.12053302e-01,  2.02626720e+00,  5.13945218e-02,\n",
       "         2.04909935e-02,  2.82147916e+00,  2.00300120e+00],\n",
       "       [-1.45292369e+00, -1.38588170e+00,  6.21887545e-01,\n",
       "        -4.49985721e-01, -2.15048307e-01,  5.70497440e-01,\n",
       "        -1.42495801e+00,  1.65364329e+00, -7.15949888e-01,\n",
       "         2.00547773e-01,  1.19576526e+00,  1.77122802e+00],\n",
       "       [-9.38384278e-01, -5.50260315e-01,  1.21645679e+00,\n",
       "        -5.03965411e-01,  1.18797585e+00,  1.08839474e+00,\n",
       "        -2.82006878e-01,  1.74732743e+00, -7.00903919e-01,\n",
       "         6.00818003e-01,  7.89336784e-01,  4.88352139e-02],\n",
       "       [-5.86871346e-01, -4.64793925e-01, -1.64121953e-01,\n",
       "        -4.98590104e-01,  7.30445054e-01,  2.45530451e-01,\n",
       "        -6.04980547e-01,  2.20063919e+00,  1.55222991e+00,\n",
       "         7.92385979e-01, -5.08976400e-01,  3.94580575e+00],\n",
       "       [-2.22494180e-01, -2.55576201e-01, -1.36160528e+00,\n",
       "         1.75418349e+00, -3.21931159e-01, -3.74767289e-01,\n",
       "        -1.09256251e+00,  1.17984281e+00,  1.22498009e+00,\n",
       "         1.24048571e+00,  2.62485057e-01, -6.78296315e-01],\n",
       "       [ 1.72475699e-01,  2.09041087e-01, -9.90505710e-01,\n",
       "        -4.83568951e-01, -5.70211340e-01,  4.95562772e-01,\n",
       "        -4.54023997e-01,  6.89960757e-01,  4.30552936e-01,\n",
       "         1.24790841e+00, -5.20266080e-01, -5.32870009e-01],\n",
       "       [ 6.58468548e-01,  1.04407271e+00,  1.36537418e-01,\n",
       "        -7.84396676e-02,  2.86296691e+00, -1.07665995e-01,\n",
       "        -1.11310793e+00,  1.33128441e+00,  6.65270050e-01,\n",
       "         6.23685790e-01,  2.02273431e-01,  1.21548367e-01],\n",
       "       [ 1.26882925e+00,  1.63992839e+00, -4.73371592e-01,\n",
       "        -5.05559660e-01, -5.61777741e-01,  1.66750574e-01,\n",
       "        -1.45317302e+00,  8.65423709e-01,  1.05947443e+00,\n",
       "         5.97179424e-01, -2.64366670e-01, -6.32850595e-01],\n",
       "       [ 1.23232944e+00,  1.91716936e+00,  1.70898489e-01,\n",
       "        -5.12355163e-01, -5.71697606e-01, -1.39928230e-01,\n",
       "        -3.11244256e+00,  1.26695810e+00,  2.88255686e-02,\n",
       "         1.68205046e-01,  9.02233582e-01, -3.37453411e-01],\n",
       "       [            nan,             nan,             nan,\n",
       "                    nan,             nan,             nan,\n",
       "                    nan,             nan,  2.06003136e+00,\n",
       "         5.01093929e-01,  9.58681981e-01, -6.21489165e-01],\n",
       "       [ 1.09703404e-02,  4.31033788e-01,  3.83937129e-01,\n",
       "         1.92456044e+00,  3.41359969e+00, -9.55487520e-01,\n",
       "        -4.81129972e-01,  2.02271147e+00, -3.09708730e-01,\n",
       "         3.99361593e-01,  1.87220524e-01, -5.19236293e-01],\n",
       "       [-8.12129703e-01, -4.03997834e-01,  1.48349140e+00,\n",
       "         1.59611553e+00,  1.51684554e+00, -3.33989177e+00,\n",
       "         2.75445461e-01,  1.63109675e+00, -2.73598405e-01,\n",
       "         5.50640801e-01,  1.15060654e+00,  2.09843721e+00],\n",
       "       [-1.07488996e+00, -7.09454855e-01,  9.51385672e-01,\n",
       "        -5.02224602e-01, -5.49101439e-01, -1.65443116e+00,\n",
       "         9.47589337e-02,  2.17678523e+00, -6.88867144e-01,\n",
       "         7.92511626e-01,  7.89336784e-01,  2.61123536e-02]])"
      ]
     },
     "execution_count": 28,
     "metadata": {},
     "output_type": "execute_result"
    }
   ],
   "source": [
    "# I Scale/Normalize the numerical values\n",
    "\n",
    "num_features = ['temperature_max', 'temperature_min', 'humidity',\n",
    "       'precip_intensity', 'precip_intensity_max', 'pressure', 'visibility',\n",
    "       'wind_speed', 'tomato_price', 'oil_price', 'lettuce_price',\n",
    "       'onion_price']\n",
    "numerical_transformer = Pipeline([\n",
    "            ('payment_scaler', StandardScaler())\n",
    "        ])\n",
    "columns_transformer = ColumnTransformer([(\"numerical\", numerical_transformer, num_features)])\n",
    "columns_transformer.fit_transform(data)\n"
   ]
  },
  {
   "cell_type": "code",
   "execution_count": 14,
   "metadata": {},
   "outputs": [
    {
     "data": {
      "text/plain": [
       "(15, 11)"
      ]
     },
     "execution_count": 14,
     "metadata": {},
     "output_type": "execute_result"
    }
   ],
   "source": [
    "# I split the dataset into train and test.\n",
    "y = data['tomato_price']\n",
    "simplified_df = data.copy()\n",
    "del simplified_df['tomato_price']\n",
    "del simplified_df['day']\n",
    "X = simplified_df.copy()\n",
    "X_train, X_test, y_train, y_test = train_test_split(X,\n",
    "                                                    y,\n",
    "                                                    random_state=50)\n",
    "X_train.shape\n",
    "X_test.shape\n"
   ]
  },
  {
   "cell_type": "code",
   "execution_count": 15,
   "metadata": {},
   "outputs": [],
   "source": [
    "# Random Forest model\n",
    "rf_model = RandomForestClassifier(class_weight=\"balanced\", n_estimators=150, n_jobs=-1)"
   ]
  },
  {
   "cell_type": "code",
   "execution_count": 16,
   "metadata": {},
   "outputs": [
    {
     "name": "stderr",
     "output_type": "stream",
     "text": [
      "/Users/pola/miniconda3/envs/ads04/lib/python3.7/site-packages/sklearn/model_selection/_search.py:814: DeprecationWarning: The default of the `iid` parameter will change from True to False in version 0.22 and will be removed in 0.24. This will change numeric results when test-set sizes are unequal.\n",
      "  DeprecationWarning)\n"
     ]
    },
    {
     "data": {
      "text/plain": [
       "GridSearchCV(cv=5, error_score='raise-deprecating',\n",
       "             estimator=RandomForestClassifier(bootstrap=True,\n",
       "                                              class_weight='balanced',\n",
       "                                              criterion='gini', max_depth=None,\n",
       "                                              max_features='auto',\n",
       "                                              max_leaf_nodes=None,\n",
       "                                              min_impurity_decrease=0.0,\n",
       "                                              min_impurity_split=None,\n",
       "                                              min_samples_leaf=1,\n",
       "                                              min_samples_split=2,\n",
       "                                              min_weight_fraction_leaf=0.0,\n",
       "                                              n_estimators=150, n_jobs=-1,\n",
       "                                              oob_score=False,\n",
       "                                              random_state=None, verbose=0,\n",
       "                                              warm_start=False),\n",
       "             iid='warn', n_jobs=-1,\n",
       "             param_grid={'max_depth': [10, 15, 20],\n",
       "                         'min_samples_split': [0.005, 0.01, 0.05]},\n",
       "             pre_dispatch='2*n_jobs', refit=True, return_train_score=False,\n",
       "             scoring='balanced_accuracy', verbose=0)"
      ]
     },
     "execution_count": 16,
     "metadata": {},
     "output_type": "execute_result"
    }
   ],
   "source": [
    "#Use grid search to find the best parameters for your rf_model\n",
    "gs = GridSearchCV(rf_model, {\"max_depth\": [10, 15, 20],\n",
    "                             \"min_samples_split\": [.005, .01, .05]}, \n",
    "                  n_jobs=-1, cv=5, scoring=\"balanced_accuracy\")\n",
    "\n",
    "gs.fit(X_train, y_train)"
   ]
  },
  {
   "cell_type": "code",
   "execution_count": 17,
   "metadata": {},
   "outputs": [
    {
     "name": "stdout",
     "output_type": "stream",
     "text": [
      "{'max_depth': 10, 'min_samples_split': 0.05}\n"
     ]
    }
   ],
   "source": [
    "print(gs.best_params_)"
   ]
  },
  {
   "cell_type": "code",
   "execution_count": 21,
   "metadata": {},
   "outputs": [
    {
     "name": "stderr",
     "output_type": "stream",
     "text": [
      "/Users/pola/miniconda3/envs/ads04/lib/python3.7/site-packages/sklearn/model_selection/_search.py:814: DeprecationWarning: The default of the `iid` parameter will change from True to False in version 0.22 and will be removed in 0.24. This will change numeric results when test-set sizes are unequal.\n",
      "  DeprecationWarning)\n"
     ]
    },
    {
     "data": {
      "text/plain": [
       "GridSearchCV(cv=5, error_score='raise-deprecating',\n",
       "             estimator=RandomForestClassifier(bootstrap=True,\n",
       "                                              class_weight='balanced',\n",
       "                                              criterion='gini', max_depth=10,\n",
       "                                              max_features='auto',\n",
       "                                              max_leaf_nodes=None,\n",
       "                                              min_impurity_decrease=0.0,\n",
       "                                              min_impurity_split=None,\n",
       "                                              min_samples_leaf=1,\n",
       "                                              min_samples_split=0.05,\n",
       "                                              min_weight_fraction_leaf=0.0,\n",
       "                                              n_estimators=150, n_jobs=-1,\n",
       "                                              oob_score=False,\n",
       "                                              random_state=None, verbose=0,\n",
       "                                              warm_start=False),\n",
       "             iid='warn', n_jobs=-1,\n",
       "             param_grid={'max_depth': [10], 'min_samples_split': [0.05]},\n",
       "             pre_dispatch='2*n_jobs', refit=True, return_train_score=False,\n",
       "             scoring='balanced_accuracy', verbose=0)"
      ]
     },
     "execution_count": 21,
     "metadata": {},
     "output_type": "execute_result"
    }
   ],
   "source": [
    "# Random Forest model with the best parameters\n",
    "rf_model = gs.best_estimator_\n",
    "gs = GridSearchCV(rf_model, {\"max_depth\": [10],\n",
    "                             \"min_samples_split\": [.05]}, \n",
    "                  n_jobs=-1, cv=5, scoring=\"balanced_accuracy\")\n",
    "\n",
    "gs.fit(X_train, y_train)"
   ]
  },
  {
   "cell_type": "code",
   "execution_count": 22,
   "metadata": {},
   "outputs": [
    {
     "name": "stdout",
     "output_type": "stream",
     "text": [
      "0.6003703703703703\n"
     ]
    }
   ],
   "source": [
    "print(gs.best_score_)"
   ]
  },
  {
   "cell_type": "code",
   "execution_count": 25,
   "metadata": {},
   "outputs": [
    {
     "data": {
      "text/plain": [
       "0.5333333333333333"
      ]
     },
     "execution_count": 25,
     "metadata": {},
     "output_type": "execute_result"
    }
   ],
   "source": [
    "y_pred = rf_model.predict(X_test)\n",
    "metrics.accuracy_score(y_test, y_pred)"
   ]
  },
  {
   "cell_type": "code",
   "execution_count": null,
   "metadata": {},
   "outputs": [],
   "source": [
    "\n"
   ]
  },
  {
   "cell_type": "code",
   "execution_count": null,
   "metadata": {},
   "outputs": [],
   "source": []
  }
 ],
 "metadata": {
  "kernelspec": {
   "display_name": "Python 3",
   "language": "python",
   "name": "python3"
  },
  "language_info": {
   "codemirror_mode": {
    "name": "ipython",
    "version": 3
   },
   "file_extension": ".py",
   "mimetype": "text/x-python",
   "name": "python",
   "nbconvert_exporter": "python",
   "pygments_lexer": "ipython3",
   "version": "3.7.4"
  }
 },
 "nbformat": 4,
 "nbformat_minor": 2
}
