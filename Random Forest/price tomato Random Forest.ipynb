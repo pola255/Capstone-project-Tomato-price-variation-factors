{
 "cells": [
  {
   "cell_type": "markdown",
   "metadata": {},
   "source": [
    "Random Forest with time series:\n",
    "\n",
    "Can’t use Random Forest to forecast into more than 1 value or indefinitely into the future as one can with linear model. What this means is that when I’m trying to predict 6 months into the future, I’ll need to actually use 6 months of past data as the input.\n",
    "\n",
    "As an example, if my model is able to predict 6 months into the future; to predict the traffic at 1 July 2019 I will need to use the data points on for 1 Jan 2019 (for simplification, I assume all months have 30 days in a month). To predict for 2 July 2019, I’ll use 2 Jan 2019. And so on, until 30th June 2019, which gives me prediction for 30th Dec 2019."
   ]
  },
  {
   "cell_type": "code",
   "execution_count": 1,
   "metadata": {},
   "outputs": [],
   "source": [
    "import pandas as pd\n",
    "import numpy as np\n",
    "from sklearn.pipeline import Pipeline\n",
    "from sklearn.preprocessing import StandardScaler\n",
    "from sklearn.preprocessing import MinMaxScaler\n",
    "from sklearn.decomposition import PCA\n",
    "import matplotlib.pyplot as plt\n",
    "from sklearn import metrics\n",
    "from sklearn.compose import ColumnTransformer\n",
    "from sklearn.model_selection import train_test_split, GridSearchCV\n",
    "from sklearn.ensemble import RandomForestClassifier\n"
   ]
  },
  {
   "cell_type": "code",
   "execution_count": 2,
   "metadata": {},
   "outputs": [
    {
     "data": {
      "text/html": [
       "<div>\n",
       "<style scoped>\n",
       "    .dataframe tbody tr th:only-of-type {\n",
       "        vertical-align: middle;\n",
       "    }\n",
       "\n",
       "    .dataframe tbody tr th {\n",
       "        vertical-align: top;\n",
       "    }\n",
       "\n",
       "    .dataframe thead th {\n",
       "        text-align: right;\n",
       "    }\n",
       "</style>\n",
       "<table border=\"1\" class=\"dataframe\">\n",
       "  <thead>\n",
       "    <tr style=\"text-align: right;\">\n",
       "      <th></th>\n",
       "      <th>day</th>\n",
       "      <th>temperature_max</th>\n",
       "      <th>temperature_min</th>\n",
       "      <th>humidity</th>\n",
       "      <th>precip_intensity</th>\n",
       "      <th>precip_intensity_max</th>\n",
       "      <th>pressure</th>\n",
       "      <th>visibility</th>\n",
       "      <th>wind_speed</th>\n",
       "      <th>oil_price</th>\n",
       "      <th>lettuce_price</th>\n",
       "      <th>onion_price</th>\n",
       "      <th>tomato_price</th>\n",
       "    </tr>\n",
       "  </thead>\n",
       "  <tbody>\n",
       "    <tr>\n",
       "      <th>0</th>\n",
       "      <td>2015-01-31 00:00:00+00:00</td>\n",
       "      <td>8.573571</td>\n",
       "      <td>2.237857</td>\n",
       "      <td>0.866429</td>\n",
       "      <td>22.079243</td>\n",
       "      <td>24.485486</td>\n",
       "      <td>1014.221429</td>\n",
       "      <td>4503.658571</td>\n",
       "      <td>5.548571</td>\n",
       "      <td>47.759500</td>\n",
       "      <td>0.330</td>\n",
       "      <td>0.3125</td>\n",
       "      <td>0.4975</td>\n",
       "    </tr>\n",
       "    <tr>\n",
       "      <th>1</th>\n",
       "      <td>2015-02-28 00:00:00+00:00</td>\n",
       "      <td>7.955000</td>\n",
       "      <td>1.872143</td>\n",
       "      <td>0.842143</td>\n",
       "      <td>0.050907</td>\n",
       "      <td>0.226479</td>\n",
       "      <td>1016.628571</td>\n",
       "      <td>5594.000000</td>\n",
       "      <td>4.152857</td>\n",
       "      <td>58.095500</td>\n",
       "      <td>0.326</td>\n",
       "      <td>0.3400</td>\n",
       "      <td>0.5680</td>\n",
       "    </tr>\n",
       "    <tr>\n",
       "      <th>2</th>\n",
       "      <td>2015-03-31 00:00:00+00:00</td>\n",
       "      <td>11.156250</td>\n",
       "      <td>3.781250</td>\n",
       "      <td>0.791875</td>\n",
       "      <td>0.011969</td>\n",
       "      <td>0.152994</td>\n",
       "      <td>1020.506250</td>\n",
       "      <td>4875.121250</td>\n",
       "      <td>4.885000</td>\n",
       "      <td>55.885455</td>\n",
       "      <td>0.318</td>\n",
       "      <td>0.6760</td>\n",
       "      <td>1.1420</td>\n",
       "    </tr>\n",
       "    <tr>\n",
       "      <th>3</th>\n",
       "      <td>2015-04-30 00:00:00+00:00</td>\n",
       "      <td>15.607333</td>\n",
       "      <td>4.617333</td>\n",
       "      <td>0.766000</td>\n",
       "      <td>0.003860</td>\n",
       "      <td>3.970053</td>\n",
       "      <td>1021.640000</td>\n",
       "      <td>5087.544000</td>\n",
       "      <td>4.008667</td>\n",
       "      <td>59.524286</td>\n",
       "      <td>0.310</td>\n",
       "      <td>0.2300</td>\n",
       "      <td>0.7825</td>\n",
       "    </tr>\n",
       "    <tr>\n",
       "      <th>4</th>\n",
       "      <td>2015-05-31 00:00:00+00:00</td>\n",
       "      <td>16.108750</td>\n",
       "      <td>8.606250</td>\n",
       "      <td>0.780625</td>\n",
       "      <td>0.053781</td>\n",
       "      <td>35.143356</td>\n",
       "      <td>1015.562500</td>\n",
       "      <td>6042.000000</td>\n",
       "      <td>4.691250</td>\n",
       "      <td>64.075000</td>\n",
       "      <td>0.300</td>\n",
       "      <td>0.2350</td>\n",
       "      <td>0.8625</td>\n",
       "    </tr>\n",
       "  </tbody>\n",
       "</table>\n",
       "</div>"
      ],
      "text/plain": [
       "                         day  temperature_max  temperature_min  humidity  \\\n",
       "0  2015-01-31 00:00:00+00:00         8.573571         2.237857  0.866429   \n",
       "1  2015-02-28 00:00:00+00:00         7.955000         1.872143  0.842143   \n",
       "2  2015-03-31 00:00:00+00:00        11.156250         3.781250  0.791875   \n",
       "3  2015-04-30 00:00:00+00:00        15.607333         4.617333  0.766000   \n",
       "4  2015-05-31 00:00:00+00:00        16.108750         8.606250  0.780625   \n",
       "\n",
       "   precip_intensity  precip_intensity_max     pressure   visibility  \\\n",
       "0         22.079243             24.485486  1014.221429  4503.658571   \n",
       "1          0.050907              0.226479  1016.628571  5594.000000   \n",
       "2          0.011969              0.152994  1020.506250  4875.121250   \n",
       "3          0.003860              3.970053  1021.640000  5087.544000   \n",
       "4          0.053781             35.143356  1015.562500  6042.000000   \n",
       "\n",
       "   wind_speed  oil_price  lettuce_price  onion_price  tomato_price  \n",
       "0    5.548571  47.759500          0.330       0.3125        0.4975  \n",
       "1    4.152857  58.095500          0.326       0.3400        0.5680  \n",
       "2    4.885000  55.885455          0.318       0.6760        1.1420  \n",
       "3    4.008667  59.524286          0.310       0.2300        0.7825  \n",
       "4    4.691250  64.075000          0.300       0.2350        0.8625  "
      ]
     },
     "execution_count": 2,
     "metadata": {},
     "output_type": "execute_result"
    }
   ],
   "source": [
    "# Load data\n",
    "data = pd.read_csv(\"data/all_data.csv\")\n",
    "data.head()"
   ]
  },
  {
   "cell_type": "code",
   "execution_count": 3,
   "metadata": {},
   "outputs": [
    {
     "data": {
      "text/plain": [
       "(60, 13)"
      ]
     },
     "execution_count": 3,
     "metadata": {},
     "output_type": "execute_result"
    }
   ],
   "source": [
    "# I check the shape\n",
    "data.shape"
   ]
  },
  {
   "cell_type": "code",
   "execution_count": 4,
   "metadata": {},
   "outputs": [],
   "source": [
    "# round and reemplace missing values for mean\n",
    "data = data.round(2)\n",
    "data = data.fillna(value=round(data.mean(), 2))\n"
   ]
  },
  {
   "cell_type": "code",
   "execution_count": 5,
   "metadata": {},
   "outputs": [
    {
     "data": {
      "text/plain": [
       "<matplotlib.axes._subplots.AxesSubplot at 0x1a19e14b90>"
      ]
     },
     "execution_count": 5,
     "metadata": {},
     "output_type": "execute_result"
    },
    {
     "data": {
      "image/png": "[encoded data removed]",
      "text/plain": [
       "<Figure size 432x288 with 1 Axes>"
      ]
     },
     "metadata": {
      "needs_background": "light"
     },
     "output_type": "display_data"
    }
   ],
   "source": [
    "# Display histogram of the price scores\n",
    "data['tomato_price'].hist()"
   ]
  },
  {
   "cell_type": "code",
   "execution_count": 6,
   "metadata": {},
   "outputs": [],
   "source": [
    "# the histogram seem to be unbalanced\n"
   ]
  },
  {
   "cell_type": "code",
   "execution_count": 7,
   "metadata": {},
   "outputs": [
    {
     "data": {
      "text/plain": [
       "-1    37\n",
       " 1    23\n",
       "Name: tomato_price, dtype: int64"
      ]
     },
     "execution_count": 7,
     "metadata": {},
     "output_type": "execute_result"
    }
   ],
   "source": [
    "# I build a histogram to balance the tomato_price column\n",
    "\n",
    "def transform(col):\n",
    "    col = round(col, 2)\n",
    "    if col < 0.89:\n",
    "        return -1\n",
    "    elif col > 0.89:\n",
    "        return 1\n",
    "    else: \n",
    "        return 0\n",
    "data['tomato_price'] = data['tomato_price'].apply(transform)\n",
    "\n",
    "data.tomato_price.value_counts()"
   ]
  },
  {
   "cell_type": "code",
   "execution_count": 8,
   "metadata": {},
   "outputs": [
    {
     "data": {
      "text/plain": [
       "Index(['day', 'temperature_max', 'temperature_min', 'humidity',\n",
       "       'precip_intensity', 'precip_intensity_max', 'pressure', 'visibility',\n",
       "       'wind_speed', 'oil_price', 'lettuce_price', 'onion_price',\n",
       "       'tomato_price'],\n",
       "      dtype='object')"
      ]
     },
     "execution_count": 8,
     "metadata": {},
     "output_type": "execute_result"
    },
    {
     "data": {
      "image/png": "[encoded data removed]",
      "text/plain": [
       "<Figure size 432x288 with 1 Axes>"
      ]
     },
     "metadata": {
      "needs_background": "light"
     },
     "output_type": "display_data"
    }
   ],
   "source": [
    "data['tomato_price'].hist()\n",
    "data.columns"
   ]
  },
  {
   "cell_type": "code",
   "execution_count": 9,
   "metadata": {},
   "outputs": [
    {
     "data": {
      "text/plain": [
       "array([[-1.34213178e+00, -1.42803878e+00,  1.11650317e+00,\n",
       "         1.26008690e+00, -1.38362880e-01, -3.77446982e-01,\n",
       "         7.45843415e-02, -3.19386757e-01, -7.88429846e-01,\n",
       "        -8.24087048e-01, -5.79233881e-01, -3.17461134e-01],\n",
       "       [-1.46621484e+00, -1.51470015e+00,  4.90426624e-01,\n",
       "        -5.03629125e-01, -5.62257913e-01,  1.64978317e-01,\n",
       "         7.87565645e-01, -6.47082954e-01, -7.88429846e-01,\n",
       "         8.53433917e-02, -5.79233881e-01, -1.13378976e-01],\n",
       "       [-8.23784790e-01, -1.06734012e+00, -5.53034279e-01,\n",
       "        -5.06831515e-01, -5.63655753e-01,  1.03826054e+00,\n",
       "         3.17484753e-01, -4.76212794e-01,  1.26834366e+00,\n",
       "        -1.09031973e-01, -8.06384423e-01,  2.19955214e+00],\n",
       "       [ 6.68113914e-02, -8.70595400e-01, -9.70418640e-01,\n",
       "        -5.07632112e-01, -4.96908885e-01,  1.29259274e+00,\n",
       "         4.56387745e-01, -6.79852574e-01, -7.88429846e-01,\n",
       "         2.10236160e-01, -1.03353496e+00, -8.61680220e-01],\n",
       "       [ 1.66878378e-01,  6.39420350e-02, -7.61726459e-01,\n",
       "        -5.03629125e-01,  4.77245933e-02, -7.58495128e-02,\n",
       "         1.08051612e+00, -5.20685850e-01, -7.88429846e-01,\n",
       "         6.11300261e-01, -1.26068551e+00, -7.93652834e-01],\n",
       "       [ 1.18956298e+00,  6.37780811e-01, -1.80518736e+00,\n",
       "        -5.07632112e-01, -4.29987286e-01,  1.00224890e+00,\n",
       "         1.13539856e+00, -7.00918758e-01, -7.88429846e-01,\n",
       "         3.82623361e-01, -1.03353496e+00, -1.13378976e-01],\n",
       "       [ 1.24560049e+00,  9.56319887e-01, -9.70418640e-01,\n",
       "        -4.15563413e-01, -5.64005213e-01, -1.99639519e-01,\n",
       "         8.70219529e-01, -5.30048598e-01, -7.88429846e-01,\n",
       "        -5.01036951e-02, -1.26068551e+00, -7.93652834e-01],\n",
       "       [ 1.12552011e+00,  1.12730042e+00,  2.81734444e-01,\n",
       "         8.88129360e-02,  2.55213000e+00, -2.94170069e-01,\n",
       "         2.20503759e-01, -7.36029064e-01, -7.88429846e-01,\n",
       "        -9.33148339e-01, -1.03353496e+00, -7.93652834e-01],\n",
       "       [ 5.87159722e-01,  1.97447383e-01, -1.35649917e-01,\n",
       "        -5.06030917e-01, -5.49677351e-01,  5.54354154e-01,\n",
       "         7.18957689e-01, -8.17953114e-01,  1.26834366e+00,\n",
       "        -8.36400419e-01, -8.06384423e-01, -6.57598063e-01],\n",
       "       [-7.72850693e-02,  8.73640259e-02,  1.11650317e+00,\n",
       "        -5.03629125e-01, -5.62607373e-01,  3.69794509e-01,\n",
       "         2.16096424e-01, -9.93504647e-01,  1.26834366e+00,\n",
       "        -7.65158770e-01, -1.03353496e+00, -7.93652834e-01],\n",
       "       [-3.85491388e-01,  5.92576369e-02,  1.53388753e+00,\n",
       "        -4.00352063e-01, -3.76694630e-01,  2.27998684e-01,\n",
       "         2.03979521e-01, -3.35771567e-01, -7.88429846e-01,\n",
       "        -1.13104181e+00, -1.03353496e+00, -8.61680220e-01],\n",
       "       [-4.23516843e-01,  3.12215138e-01,  1.11650317e+00,\n",
       "        -5.01227333e-01, -8.45460332e-02,  6.17374521e-01,\n",
       "         6.49166161e-01,  6.91673044e-02, -7.88429846e-01,\n",
       "        -1.68162542e+00, -1.48783605e+00, -8.61680220e-01],\n",
       "       [-1.16801522e+00, -1.06734012e+00,  1.32519535e+00,\n",
       "         7.59713540e-01,  1.92554814e+00, -1.53432086e+00,\n",
       "         4.97230796e-01, -3.70881874e-01, -7.88429846e-01,\n",
       "        -2.32455932e+00, -1.24932798e-01, -3.85488519e-01],\n",
       "       [-1.19203130e+00, -1.22895186e+00, -1.35649917e-01,\n",
       "        -5.05230320e-01, -5.61384263e-01, -1.39252503e+00,\n",
       "         6.89564555e-01, -3.47475003e-01, -7.88429846e-01,\n",
       "        -2.19438939e+00,  1.02217744e-01,  7.02949653e-01],\n",
       "       [-8.39795508e-01, -1.09778871e+00, -5.53034279e-01,\n",
       "        -5.00426736e-01,  3.27079457e+00, -2.04140974e-01,\n",
       "         2.33581905e-01, -6.07291273e-01,  1.26834366e+00,\n",
       "        -1.66403489e+00, -3.52083339e-01, -4.53515905e-01],\n",
       "       [-4.97566413e-01, -9.59598965e-01, -1.17911082e+00,\n",
       "        -5.06030917e-01, -5.61034803e-01, -5.98018266e-01,\n",
       "         1.06573782e+00, -6.75171199e-01, -7.88429846e-01,\n",
       "        -1.36763445e+00, -3.52083339e-01, -4.53515905e-01],\n",
       "       [ 5.87159722e-01,  3.02846342e-01, -9.70418640e-01,\n",
       "        -5.05230320e-01, -5.61733723e-01, -3.77446982e-01,\n",
       "         8.12616834e-01, -7.89864868e-01, -7.88429846e-01,\n",
       "        -9.13798755e-01, -1.24932798e-01, -5.89570677e-01],\n",
       "       [ 8.69348624e-01,  1.02658586e+00,  2.81734444e-01,\n",
       "         2.12905530e-01, -5.57889662e-01, -4.02204983e-01,\n",
       "         6.53684661e-01, -7.92205555e-01, -7.88429846e-01,\n",
       "        -7.80990248e-01, -5.79233881e-01, -6.57598063e-01],\n",
       "       [ 1.39770231e+00,  1.31701855e+00, -5.53034279e-01,\n",
       "        -4.91620164e-01, -9.08363140e-02,  5.00336697e-01,\n",
       "         6.37618158e-01, -7.07940819e-01,  1.26834366e+00,\n",
       "        -1.07123400e+00, -8.06384423e-01, -7.93652834e-01],\n",
       "       [ 1.53779609e+00,  1.29593875e+00, -7.61726459e-01,\n",
       "        -2.00683077e-02, -5.61908453e-01,  6.82645615e-01,\n",
       "         1.02121327e+00, -7.33688377e-01, -7.88429846e-01,\n",
       "        -9.92956143e-01, -1.24932798e-01, -5.89570677e-01],\n",
       "       [ 1.12151743e+00,  1.00082167e+00,  2.81734444e-01,\n",
       "        -5.03629125e-01, -4.57944090e-01,  1.71730499e-01,\n",
       "         9.57973891e-01, -8.62426169e-01,  1.26834366e+00,\n",
       "        -9.28750706e-01, -1.24932798e-01,  4.98867496e-01],\n",
       "       [ 9.28288079e-02, -7.65899101e-02,  2.81734444e-01,\n",
       "        -5.06831515e-01, -5.64878863e-01,  1.40737983e+00,\n",
       "         3.39449500e-01, -1.03329633e+00,  1.26834366e+00,\n",
       "        -6.69290377e-01, -8.06384423e-01, -7.93652834e-01],\n",
       "       [-9.75886609e-01, -1.09544651e+00,  4.90426624e-01,\n",
       "        -7.77113190e-02, -5.55268712e-01, -4.20210802e-01,\n",
       "         6.55907946e-01, -7.24325629e-01, -7.88429846e-01,\n",
       "        -1.09058359e+00, -1.24932798e-01, -8.61680220e-01],\n",
       "       [-1.08596029e+00, -1.05562913e+00,  1.53388753e+00,\n",
       "        -4.96423749e-01, -5.52123571e-01,  2.63627698e+00,\n",
       "        -2.99051760e-01, -9.58394341e-01, -7.88429846e-01,\n",
       "        -3.35949820e-01,  1.02217744e-01,  2.26757953e-01],\n",
       "       [-1.53025772e+00, -1.66694309e+00,  1.32519535e+00,\n",
       "         2.31639509e-02, -5.59986422e-01,  1.61444675e+00,\n",
       "         7.00302040e-03, -8.83492353e-01, -7.88429846e-01,\n",
       "        -2.24249949e-01,  1.01081991e+00, -4.53515905e-02],\n",
       "       [-1.15800853e+00, -9.03386187e-01,  1.11650317e+00,\n",
       "        -5.05230320e-01, -5.63131563e-01, -3.00922251e-01,\n",
       "        -1.00116480e-02, -4.94938291e-01, -7.88429846e-01,\n",
       "        -1.98743680e-01,  2.37372316e+00,  5.66894881e-01],\n",
       "       [-4.35524882e-01, -4.09182180e-01,  2.81734444e-01,\n",
       "        -5.06030917e-01, -2.70633506e-01, -2.60409158e-01,\n",
       "         3.58000850e-01, -4.15354929e-01,  1.26834366e+00,\n",
       "        -4.87228384e-01,  1.69227153e+00,  2.87982600e+00],\n",
       "       [-1.59339998e-01, -7.97987228e-01, -1.38780300e+00,\n",
       "        -5.06831515e-01, -5.65228323e-01,  1.48840602e+00,\n",
       "         9.54704355e-01, -9.02217850e-01,  1.26834366e+00,\n",
       "        -4.23902473e-01,  1.02217744e-01, -4.53515905e-01],\n",
       "       [ 4.97099434e-01,  3.70770115e-01, -1.35649917e-01,\n",
       "        -5.02828528e-01,  2.38005587e-01,  3.09024870e-01,\n",
       "         6.95083533e-01, -7.73480058e-01,  1.26834366e+00,\n",
       "        -5.98048728e-01, -3.52083339e-01, -6.57598063e-01],\n",
       "       [ 1.27562059e+00,  1.06171885e+00, -7.61726459e-01,\n",
       "        -5.05230320e-01, -5.62607373e-01, -5.32747172e-01,\n",
       "         5.47477034e-01, -7.03259445e-01, -7.88429846e-01,\n",
       "        -9.46341237e-01, -1.24932798e-01, -3.85488519e-01],\n",
       "       [ 1.40570767e+00,  1.42944410e+00, -5.53034279e-01,\n",
       "        -5.04429723e-01,  4.01902347e-01, -4.06706438e-01,\n",
       "         1.06596668e+00, -7.29007003e-01,  1.26834366e+00,\n",
       "        -7.60761137e-01, -8.06384423e-01, -5.89570677e-01],\n",
       "       [ 1.24760183e+00,  1.10153623e+00, -1.35649917e-01,\n",
       "        -5.03629125e-01,  2.02710123e-01,  1.04208678e-01,\n",
       "         6.46151648e-01, -9.20943347e-01, -7.88429846e-01,\n",
       "        -4.77553592e-01, -5.79233881e-01, -1.13378976e-01],\n",
       "       [ 6.33190536e-01,  5.65172639e-01,  4.90426624e-01,\n",
       "        -5.02828528e-01, -4.42917308e-01, -3.52688981e-01,\n",
       "         5.74790743e-01, -7.68798684e-01,  1.26834366e+00,\n",
       "        -8.61642831e-02, -3.52083339e-01, -7.93652834e-01],\n",
       "       [ 2.38926608e-01,  3.91849907e-01,  6.99118805e-01,\n",
       "        -5.06831515e-01, -5.02325515e-01,  8.40196532e-01,\n",
       "         6.36866164e-01, -6.09631960e-01,  1.26834366e+00,\n",
       "         3.34513260e-02,  5.56518827e-01, -1.13378976e-01],\n",
       "       [-7.31723162e-01, -9.01043988e-01,  6.99118805e-01,\n",
       "        -5.05230320e-01, -5.62432643e-01,  2.91019051e-01,\n",
       "         9.89358500e-02, -7.38369752e-01, -7.88429846e-01,\n",
       "         4.90805125e-01, -5.79233881e-01,  7.02949653e-01],\n",
       "       [-1.28009025e+00, -1.21255647e+00,  1.32519535e+00,\n",
       "         4.88311029e-01, -5.58588582e-01, -5.86764629e-01,\n",
       "         2.97370564e-01, -3.66200500e-01, -7.88429846e-01,\n",
       "         6.36806531e-01, -3.52083339e-01,  1.17914135e+00],\n",
       "       [-1.17401924e+00, -9.66625563e-01,  1.32519535e+00,\n",
       "        -5.03629125e-01, -5.59986422e-01, -8.61353370e-01,\n",
       "        -3.05247205e-02, -3.28749506e-01, -7.88429846e-01,\n",
       "         1.05106353e+00, -3.52083339e-01, -3.17461134e-01],\n",
       "       [-1.61431398e+00, -1.75828885e+00, -3.44342098e-01,\n",
       "         8.14954760e-01, -5.62083183e-01, -3.82623655e-03,\n",
       "         4.91201771e-01, -5.23026537e-01, -7.88429846e-01,\n",
       "         7.20361552e-01, -1.24932798e-01, -1.13378976e-01],\n",
       "       [-1.20203800e+00, -1.28282244e+00,  6.99118805e-01,\n",
       "        -5.02828528e-01, -1.16346897e-01, -3.16159676e+00,\n",
       "         7.11840235e-02, -4.97278978e-01, -7.88429846e-01,\n",
       "         7.81928409e-01,  1.02217744e-01, -3.17461134e-01],\n",
       "       [-9.92998064e-02, -1.67935674e-01,  6.99118805e-01,\n",
       "         6.85257984e-01, -5.62083183e-01, -1.25297993e+00,\n",
       "         4.31794291e-01, -5.25367224e-01,  1.26834366e+00,\n",
       "         1.31756007e+00, -5.79233881e-01,  8.39004425e-01],\n",
       "       [ 9.27387476e-01,  3.09872939e-01, -1.17911082e+00,\n",
       "        -3.09083962e-01,  1.00908917e+00,  2.52756685e-01,\n",
       "         1.23454432e-02, -3.80244622e-01,  1.26834366e+00,\n",
       "         1.74588949e+00,  3.73662641e+00,  6.34922267e-01],\n",
       "       [ 1.57181887e+00,  9.16502502e-01, -3.26603263e+00,\n",
       "         1.67591718e-02,  2.53591505e-02,  1.86810373e-02,\n",
       "         8.85265937e-01,  3.45368384e-01, -7.88429846e-01,\n",
       "         1.51897165e+00, -5.79233881e-01,  2.94785338e-01],\n",
       "       [ 1.77795686e+00,  1.74329878e+00, -1.59649518e+00,\n",
       "         2.98777605e+00, -1.87462016e-01,  4.26062694e-01,\n",
       "        -1.81066315e+00,  2.93873268e-01,  1.26834366e+00,\n",
       "         1.50577875e+00,  1.01081991e+00,  9.07031810e-02],\n",
       "       [ 1.24159781e+00,  1.47628808e+00, -7.61726459e-01,\n",
       "         4.67543533e+00, -5.56142362e-01,  5.74610701e-01,\n",
       "        -1.78289170e+00,  8.46275428e-01, -7.88429846e-01,\n",
       "         1.35450019e+00,  1.46512099e+00, -7.25625448e-01],\n",
       "       [ 8.23317810e-01,  8.11103543e-01, -1.59649518e+00,\n",
       "        -5.04429723e-01, -5.55618172e-01,  1.30834783e+00,\n",
       "        -2.49861288e+00,  1.29100598e+00,  1.26834366e+00,\n",
       "         1.91387906e+00,  3.29368285e-01, -5.21543291e-01],\n",
       "       [ 2.56938666e-01,  3.54374722e-01, -5.53034279e-01,\n",
       "         5.65968974e-01, -9.10110440e-02,  4.41817785e-01,\n",
       "        -2.04537664e+00,  1.12247651e+00, -7.88429846e-01,\n",
       "         2.10209774e+00,  3.29368285e-01, -7.93652834e-01],\n",
       "       [-6.43664214e-01, -8.83009055e-02,  4.90426624e-01,\n",
       "        -4.86816580e-01, -5.59287502e-01, -6.56537178e-01,\n",
       "        -1.99103694e+00,  2.04236655e+00, -7.88429846e-01,\n",
       "         6.70228539e-01, -5.79233881e-01,  1.04308658e+00],\n",
       "       [-9.09842398e-01, -2.96756624e-01,  6.99118805e-01,\n",
       "         2.40654235e+00,  1.51598097e+00,  7.27660163e-01,\n",
       "        -2.43456560e-01,  1.91831013e+00, -7.88429846e-01,\n",
       "         2.02584279e-02,  2.82802424e+00,  1.99546998e+00],\n",
       "       [-1.46621484e+00, -1.38587920e+00,  6.99118805e-01,\n",
       "        -4.44384919e-01, -2.06682318e-01,  5.88115065e-01,\n",
       "        -1.28483012e+00,  1.56018500e+00, -7.88429846e-01,\n",
       "         2.00561368e-01,  1.23797045e+00,  1.79138783e+00],\n",
       "       [-9.53871872e-01, -5.70793917e-01,  1.32519535e+00,\n",
       "        -4.98825541e-01,  1.20426261e+00,  1.10578236e+00,\n",
       "        -2.15338545e-01,  1.64913111e+00, -7.88429846e-01,\n",
       "         6.00745943e-01,  7.83669368e-01,  2.26757953e-02],\n",
       "       [-6.05638759e-01, -4.86474750e-01, -1.35649917e-01,\n",
       "        -4.93221359e-01,  7.44198460e-01,  2.61759595e-01,\n",
       "        -5.17554890e-01,  2.08683960e+00,  1.26834366e+00,\n",
       "         7.92482728e-01, -5.79233881e-01,  3.96826417e+00],\n",
       "       [-2.43396267e-01, -2.82703430e-01, -1.38780300e+00,\n",
       "         1.77407042e+00, -3.14141282e-01, -3.57190436e-01,\n",
       "        -9.73799102e-01,  1.10141032e+00,  1.26834366e+00,\n",
       "         1.24016174e+00,  3.29368285e-01, -6.57598063e-01],\n",
       "       [ 1.48866320e-01,  1.71683193e-01, -9.70418640e-01,\n",
       "        -4.78010009e-01, -5.63830483e-01,  5.11590334e-01,\n",
       "        -3.76304370e-01,  6.28591526e-01,  1.26834366e+00,\n",
       "         1.24807747e+00, -5.79233881e-01, -5.21543291e-01],\n",
       "       [ 6.33190536e-01,  9.86768475e-01,  7.30422632e-02,\n",
       "        -7.05059426e-02,  2.88883475e+00, -9.16046045e-02,\n",
       "        -9.93023977e-01,  1.24887361e+00,  1.26834366e+00,\n",
       "         6.23613633e-01,  1.02217744e-01,  9.07031810e-02],\n",
       "       [ 1.23959647e+00,  1.56763385e+00, -5.53034279e-01,\n",
       "        -5.00426736e-01, -5.55443442e-01,  1.82984136e-01,\n",
       "        -1.31122836e+00,  7.97120998e-01,  1.26834366e+00,\n",
       "         5.97227836e-01, -3.52083339e-01, -6.57598063e-01],\n",
       "       [ 1.20157102e+00,  1.83932894e+00,  7.30422632e-02,\n",
       "        -5.06831515e-01, -5.65403053e-01, -1.23114788e-01,\n",
       "        -2.86385281e+00,  1.18567506e+00, -7.88429846e-01,\n",
       "         1.68018886e-01,  1.01081991e+00, -3.17461134e-01],\n",
       "       [ 1.30764203e+00,  1.92130591e+00, -1.35649917e-01,\n",
       "        -5.06030917e-01, -5.64529403e-01, -9.89644830e-01,\n",
       "        -2.86385281e+00,  2.21791808e+00,  1.26834366e+00,\n",
       "         5.01359444e-01,  1.01081991e+00, -6.57598063e-01],\n",
       "       [-1.12408582e-02,  3.89507708e-01,  4.90426624e-01,\n",
       "         1.94539826e+00,  3.44272892e+00, -9.37878101e-01,\n",
       "        -4.01662896e-01,  1.91596944e+00, -7.88429846e-01,\n",
       "         3.99334366e-01,  1.02217744e-01, -5.21543291e-01],\n",
       "       [-8.29788809e-01, -4.27919773e-01,  1.53388753e+00,\n",
       "         1.61475154e+00,  1.53502654e+00, -3.32364913e+00,\n",
       "         3.06283321e-01,  1.53677813e+00, -7.88429846e-01,\n",
       "         5.50612930e-01,  1.23797045e+00,  2.06349737e+00],\n",
       "       [-1.08996297e+00, -7.25379057e-01,  9.07810986e-01,\n",
       "        -4.96423749e-01, -5.42688150e-01, -1.63785432e+00,\n",
       "         1.37209045e-01,  2.06343273e+00, -7.88429846e-01,\n",
       "         7.92482728e-01,  7.83669368e-01,  2.26757953e-02]])"
      ]
     },
     "execution_count": 9,
     "metadata": {},
     "output_type": "execute_result"
    }
   ],
   "source": [
    "# I Scale/Normalize the numerical values\n",
    "\n",
    "num_features = ['temperature_max', 'temperature_min', 'humidity',\n",
    "       'precip_intensity', 'precip_intensity_max', 'pressure', 'visibility',\n",
    "       'wind_speed', 'tomato_price', 'oil_price', 'lettuce_price',\n",
    "       'onion_price']\n",
    "numerical_transformer = Pipeline([\n",
    "            ('payment_scaler', StandardScaler())\n",
    "        ])\n",
    "columns_transformer = ColumnTransformer([(\"numerical\", numerical_transformer, num_features)])\n",
    "columns_transformer.fit_transform(data)\n"
   ]
  },
  {
   "cell_type": "code",
   "execution_count": 10,
   "metadata": {},
   "outputs": [
    {
     "data": {
      "text/plain": [
       "(15, 11)"
      ]
     },
     "execution_count": 10,
     "metadata": {},
     "output_type": "execute_result"
    }
   ],
   "source": [
    "# I split the dataset into train and test.\n",
    "y = data['tomato_price']\n",
    "simplified_df = data.copy()\n",
    "del simplified_df['tomato_price']\n",
    "del simplified_df['day']\n",
    "X = simplified_df.copy()\n",
    "X_train, X_test, y_train, y_test = train_test_split(X,\n",
    "                                                    y,\n",
    "                                                    random_state=50)\n",
    "X_train.shape\n",
    "X_test.shape\n"
   ]
  },
  {
   "cell_type": "code",
   "execution_count": 11,
   "metadata": {},
   "outputs": [],
   "source": [
    "# Random Forest model\n",
    "rf_model = RandomForestClassifier(class_weight=\"balanced\", n_estimators=150, n_jobs=-1)"
   ]
  },
  {
   "cell_type": "code",
   "execution_count": 12,
   "metadata": {},
   "outputs": [
    {
     "name": "stderr",
     "output_type": "stream",
     "text": [
      "/Users/pola/miniconda3/envs/ads04/lib/python3.7/site-packages/sklearn/model_selection/_search.py:814: DeprecationWarning: The default of the `iid` parameter will change from True to False in version 0.22 and will be removed in 0.24. This will change numeric results when test-set sizes are unequal.\n",
      "  DeprecationWarning)\n"
     ]
    },
    {
     "data": {
      "text/plain": [
       "GridSearchCV(cv=5, error_score='raise-deprecating',\n",
       "             estimator=RandomForestClassifier(bootstrap=True,\n",
       "                                              class_weight='balanced',\n",
       "                                              criterion='gini', max_depth=None,\n",
       "                                              max_features='auto',\n",
       "                                              max_leaf_nodes=None,\n",
       "                                              min_impurity_decrease=0.0,\n",
       "                                              min_impurity_split=None,\n",
       "                                              min_samples_leaf=1,\n",
       "                                              min_samples_split=2,\n",
       "                                              min_weight_fraction_leaf=0.0,\n",
       "                                              n_estimators=150, n_jobs=-1,\n",
       "                                              oob_score=False,\n",
       "                                              random_state=None, verbose=0,\n",
       "                                              warm_start=False),\n",
       "             iid='warn', n_jobs=-1,\n",
       "             param_grid={'max_depth': [10, 15, 20],\n",
       "                         'min_samples_split': [0.005, 0.01, 0.05]},\n",
       "             pre_dispatch='2*n_jobs', refit=True, return_train_score=False,\n",
       "             scoring='balanced_accuracy', verbose=0)"
      ]
     },
     "execution_count": 12,
     "metadata": {},
     "output_type": "execute_result"
    }
   ],
   "source": [
    "#Use grid search to find the best parameters for your rf_model\n",
    "gs = GridSearchCV(rf_model, {\"max_depth\": [10, 15, 20],\n",
    "                             \"min_samples_split\": [.005, .01, .05]}, \n",
    "                  n_jobs=-1, cv=5, scoring=\"balanced_accuracy\")\n",
    "\n",
    "gs.fit(X_train, y_train)"
   ]
  },
  {
   "cell_type": "code",
   "execution_count": 13,
   "metadata": {},
   "outputs": [
    {
     "name": "stdout",
     "output_type": "stream",
     "text": [
      "{'max_depth': 20, 'min_samples_split': 0.005}\n"
     ]
    }
   ],
   "source": [
    "print(gs.best_params_)"
   ]
  },
  {
   "cell_type": "code",
   "execution_count": 14,
   "metadata": {},
   "outputs": [
    {
     "name": "stderr",
     "output_type": "stream",
     "text": [
      "/Users/pola/miniconda3/envs/ads04/lib/python3.7/site-packages/sklearn/model_selection/_search.py:814: DeprecationWarning: The default of the `iid` parameter will change from True to False in version 0.22 and will be removed in 0.24. This will change numeric results when test-set sizes are unequal.\n",
      "  DeprecationWarning)\n"
     ]
    },
    {
     "data": {
      "text/plain": [
       "GridSearchCV(cv=5, error_score='raise-deprecating',\n",
       "             estimator=RandomForestClassifier(bootstrap=True,\n",
       "                                              class_weight='balanced',\n",
       "                                              criterion='gini', max_depth=20,\n",
       "                                              max_features='auto',\n",
       "                                              max_leaf_nodes=None,\n",
       "                                              min_impurity_decrease=0.0,\n",
       "                                              min_impurity_split=None,\n",
       "                                              min_samples_leaf=1,\n",
       "                                              min_samples_split=0.005,\n",
       "                                              min_weight_fraction_leaf=0.0,\n",
       "                                              n_estimators=150, n_jobs=-1,\n",
       "                                              oob_score=False,\n",
       "                                              random_state=None, verbose=0,\n",
       "                                              warm_start=False),\n",
       "             iid='warn', n_jobs=-1,\n",
       "             param_grid={'max_depth': [10], 'min_samples_split': [0.05]},\n",
       "             pre_dispatch='2*n_jobs', refit=True, return_train_score=False,\n",
       "             scoring='balanced_accuracy', verbose=0)"
      ]
     },
     "execution_count": 14,
     "metadata": {},
     "output_type": "execute_result"
    }
   ],
   "source": [
    "# Random Forest model with the best parameters\n",
    "rf_model = gs.best_estimator_\n",
    "gs = GridSearchCV(rf_model, {\"max_depth\": [10],\n",
    "                             \"min_samples_split\": [.05]}, \n",
    "                  n_jobs=-1, cv=5, scoring=\"balanced_accuracy\")\n",
    "\n",
    "gs.fit(X_train, y_train)"
   ]
  },
  {
   "cell_type": "code",
   "execution_count": 15,
   "metadata": {},
   "outputs": [
    {
     "name": "stdout",
     "output_type": "stream",
     "text": [
      "0.6253703703703705\n"
     ]
    }
   ],
   "source": [
    "print(gs.best_score_)"
   ]
  },
  {
   "cell_type": "code",
   "execution_count": 16,
   "metadata": {},
   "outputs": [
    {
     "data": {
      "text/plain": [
       "0.6666666666666666"
      ]
     },
     "execution_count": 16,
     "metadata": {},
     "output_type": "execute_result"
    }
   ],
   "source": [
    "y_pred = rf_model.predict(X_test)\n",
    "metrics.accuracy_score(y_test, y_pred)"
   ]
  },
  {
   "cell_type": "code",
   "execution_count": null,
   "metadata": {},
   "outputs": [],
   "source": [
    "\n"
   ]
  },
  {
   "cell_type": "code",
   "execution_count": null,
   "metadata": {},
   "outputs": [],
   "source": []
  }
 ],
 "metadata": {
  "kernelspec": {
   "display_name": "Python 3",
   "language": "python",
   "name": "python3"
  },
  "language_info": {
   "codemirror_mode": {
    "name": "ipython",
    "version": 3
   },
   "file_extension": ".py",
   "mimetype": "text/x-python",
   "name": "python",
   "nbconvert_exporter": "python",
   "pygments_lexer": "ipython3",
   "version": "3.7.4"
  }
 },
 "nbformat": 4,
 "nbformat_minor": 2
}
