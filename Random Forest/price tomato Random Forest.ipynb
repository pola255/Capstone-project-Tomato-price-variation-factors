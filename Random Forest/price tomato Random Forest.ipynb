{
 "cells": [
  {
   "cell_type": "markdown",
   "metadata": {},
   "source": [
    "Random Forest with time series:\n",
    "\n",
    "Can’t use Random Forest to forecast into more than 1 value or indefinitely into the future as one can with linear model. What this means is that when I’m trying to predict 6 months into the future, I’ll need to actually use 6 months of past data as the input.\n",
    "\n",
    "As an example, if my model is able to predict 6 months into the future; to predict the traffic at 1 July 2019 I will need to use the data points on for 1 Jan 2019 (for simplification, I assume all months have 30 days in a month). To predict for 2 July 2019, I’ll use 2 Jan 2019. And so on, until 30th June 2019, which gives me prediction for 30th Dec 2019."
   ]
  },
  {
   "cell_type": "code",
   "execution_count": 1,
   "metadata": {},
   "outputs": [],
   "source": [
    "import pandas as pd\n",
    "import numpy as np\n",
    "from sklearn.pipeline import Pipeline\n",
    "from sklearn.preprocessing import StandardScaler\n",
    "from sklearn.preprocessing import MinMaxScaler\n",
    "from sklearn.decomposition import PCA\n",
    "import matplotlib.pyplot as plt\n",
    "from sklearn import metrics\n",
    "from sklearn.compose import ColumnTransformer\n",
    "from sklearn.model_selection import train_test_split, GridSearchCV\n",
    "from sklearn.ensemble import RandomForestClassifier\n"
   ]
  },
  {
   "cell_type": "code",
   "execution_count": 2,
   "metadata": {},
   "outputs": [
    {
     "data": {
      "text/html": [
       "<div>\n",
       "<style scoped>\n",
       "    .dataframe tbody tr th:only-of-type {\n",
       "        vertical-align: middle;\n",
       "    }\n",
       "\n",
       "    .dataframe tbody tr th {\n",
       "        vertical-align: top;\n",
       "    }\n",
       "\n",
       "    .dataframe thead th {\n",
       "        text-align: right;\n",
       "    }\n",
       "</style>\n",
       "<table border=\"1\" class=\"dataframe\">\n",
       "  <thead>\n",
       "    <tr style=\"text-align: right;\">\n",
       "      <th></th>\n",
       "      <th>day</th>\n",
       "      <th>temperature_max</th>\n",
       "      <th>temperature_min</th>\n",
       "      <th>humidity</th>\n",
       "      <th>precip_intensity</th>\n",
       "      <th>precip_intensity_max</th>\n",
       "      <th>pressure</th>\n",
       "      <th>visibility</th>\n",
       "      <th>wind_speed</th>\n",
       "      <th>tomato_price</th>\n",
       "      <th>oil_price</th>\n",
       "      <th>lettuce_price</th>\n",
       "      <th>onion_price</th>\n",
       "    </tr>\n",
       "  </thead>\n",
       "  <tbody>\n",
       "    <tr>\n",
       "      <th>0</th>\n",
       "      <td>2015-01-31 00:00:00+00:00</td>\n",
       "      <td>8.573571</td>\n",
       "      <td>2.237857</td>\n",
       "      <td>0.866429</td>\n",
       "      <td>22.079243</td>\n",
       "      <td>24.485486</td>\n",
       "      <td>1014.221429</td>\n",
       "      <td>4503.658571</td>\n",
       "      <td>5.548571</td>\n",
       "      <td>0.4975</td>\n",
       "      <td>47.759500</td>\n",
       "      <td>0.330</td>\n",
       "      <td>0.3125</td>\n",
       "    </tr>\n",
       "    <tr>\n",
       "      <th>1</th>\n",
       "      <td>2015-02-28 00:00:00+00:00</td>\n",
       "      <td>7.955000</td>\n",
       "      <td>1.872143</td>\n",
       "      <td>0.842143</td>\n",
       "      <td>0.050907</td>\n",
       "      <td>0.226479</td>\n",
       "      <td>1016.628571</td>\n",
       "      <td>5594.000000</td>\n",
       "      <td>4.152857</td>\n",
       "      <td>0.5680</td>\n",
       "      <td>58.095500</td>\n",
       "      <td>0.326</td>\n",
       "      <td>0.3400</td>\n",
       "    </tr>\n",
       "    <tr>\n",
       "      <th>2</th>\n",
       "      <td>2015-03-31 00:00:00+00:00</td>\n",
       "      <td>11.156250</td>\n",
       "      <td>3.781250</td>\n",
       "      <td>0.791875</td>\n",
       "      <td>0.011969</td>\n",
       "      <td>0.152994</td>\n",
       "      <td>1020.506250</td>\n",
       "      <td>4875.121250</td>\n",
       "      <td>4.885000</td>\n",
       "      <td>1.1420</td>\n",
       "      <td>55.885455</td>\n",
       "      <td>0.318</td>\n",
       "      <td>0.6760</td>\n",
       "    </tr>\n",
       "    <tr>\n",
       "      <th>3</th>\n",
       "      <td>2015-04-30 00:00:00+00:00</td>\n",
       "      <td>15.607333</td>\n",
       "      <td>4.617333</td>\n",
       "      <td>0.766000</td>\n",
       "      <td>0.003860</td>\n",
       "      <td>3.970053</td>\n",
       "      <td>1021.640000</td>\n",
       "      <td>5087.544000</td>\n",
       "      <td>4.008667</td>\n",
       "      <td>0.7825</td>\n",
       "      <td>59.524286</td>\n",
       "      <td>0.310</td>\n",
       "      <td>0.2300</td>\n",
       "    </tr>\n",
       "    <tr>\n",
       "      <th>4</th>\n",
       "      <td>2015-05-31 00:00:00+00:00</td>\n",
       "      <td>16.108750</td>\n",
       "      <td>8.606250</td>\n",
       "      <td>0.780625</td>\n",
       "      <td>0.053781</td>\n",
       "      <td>35.143356</td>\n",
       "      <td>1015.562500</td>\n",
       "      <td>6042.000000</td>\n",
       "      <td>4.691250</td>\n",
       "      <td>0.8625</td>\n",
       "      <td>64.075000</td>\n",
       "      <td>0.300</td>\n",
       "      <td>0.2350</td>\n",
       "    </tr>\n",
       "  </tbody>\n",
       "</table>\n",
       "</div>"
      ],
      "text/plain": [
       "                         day  temperature_max  temperature_min  humidity  \\\n",
       "0  2015-01-31 00:00:00+00:00         8.573571         2.237857  0.866429   \n",
       "1  2015-02-28 00:00:00+00:00         7.955000         1.872143  0.842143   \n",
       "2  2015-03-31 00:00:00+00:00        11.156250         3.781250  0.791875   \n",
       "3  2015-04-30 00:00:00+00:00        15.607333         4.617333  0.766000   \n",
       "4  2015-05-31 00:00:00+00:00        16.108750         8.606250  0.780625   \n",
       "\n",
       "   precip_intensity  precip_intensity_max     pressure   visibility  \\\n",
       "0         22.079243             24.485486  1014.221429  4503.658571   \n",
       "1          0.050907              0.226479  1016.628571  5594.000000   \n",
       "2          0.011969              0.152994  1020.506250  4875.121250   \n",
       "3          0.003860              3.970053  1021.640000  5087.544000   \n",
       "4          0.053781             35.143356  1015.562500  6042.000000   \n",
       "\n",
       "   wind_speed  tomato_price  oil_price  lettuce_price  onion_price  \n",
       "0    5.548571        0.4975  47.759500          0.330       0.3125  \n",
       "1    4.152857        0.5680  58.095500          0.326       0.3400  \n",
       "2    4.885000        1.1420  55.885455          0.318       0.6760  \n",
       "3    4.008667        0.7825  59.524286          0.310       0.2300  \n",
       "4    4.691250        0.8625  64.075000          0.300       0.2350  "
      ]
     },
     "execution_count": 2,
     "metadata": {},
     "output_type": "execute_result"
    }
   ],
   "source": [
    "# Load data\n",
    "data = pd.read_csv(\"data/all_data.csv\")\n",
    "data.head()"
   ]
  },
  {
   "cell_type": "code",
   "execution_count": 3,
   "metadata": {},
   "outputs": [
    {
     "data": {
      "text/plain": [
       "(60, 13)"
      ]
     },
     "execution_count": 3,
     "metadata": {},
     "output_type": "execute_result"
    }
   ],
   "source": [
    "# I check the shape\n",
    "data.shape"
   ]
  },
  {
   "cell_type": "code",
   "execution_count": 4,
   "metadata": {},
   "outputs": [],
   "source": [
    "# round and reemplace missing values for mean\n",
    "data = data.round(2)\n",
    "data = data.fillna(value=round(data.mean(), 2))\n"
   ]
  },
  {
   "cell_type": "code",
   "execution_count": 5,
   "metadata": {},
   "outputs": [
    {
     "data": {
      "text/plain": [
       "<matplotlib.axes._subplots.AxesSubplot at 0x1a1be3d110>"
      ]
     },
     "execution_count": 5,
     "metadata": {},
     "output_type": "execute_result"
    },
    {
     "data": {
      "image/png": "[encoded data removed]",
      "text/plain": [
       "<Figure size 432x288 with 1 Axes>"
      ]
     },
     "metadata": {
      "needs_background": "light"
     },
     "output_type": "display_data"
    }
   ],
   "source": [
    "# Display histogram of the price scores\n",
    "data['tomato_price'].hist()"
   ]
  },
  {
   "cell_type": "code",
   "execution_count": 6,
   "metadata": {},
   "outputs": [],
   "source": [
    "# the histogram seem to be unbalanced\n"
   ]
  },
  {
   "cell_type": "code",
   "execution_count": 7,
   "metadata": {},
   "outputs": [
    {
     "data": {
      "text/plain": [
       "-1    37\n",
       " 1    23\n",
       "Name: tomato_price, dtype: int64"
      ]
     },
     "execution_count": 7,
     "metadata": {},
     "output_type": "execute_result"
    }
   ],
   "source": [
    "# I build a histogram to balance the tomato_price column\n",
    "\n",
    "def transform(col):\n",
    "    col = round(col, 2)\n",
    "    if col < 0.89:\n",
    "        return -1\n",
    "    elif col > 0.89:\n",
    "        return 1\n",
    "    else: \n",
    "        return 0\n",
    "data['tomato_price'] = data['tomato_price'].apply(transform)\n",
    "\n",
    "data.tomato_price.value_counts()"
   ]
  },
  {
   "cell_type": "code",
   "execution_count": 8,
   "metadata": {},
   "outputs": [
    {
     "data": {
      "text/plain": [
       "Index(['day', 'temperature_max', 'temperature_min', 'humidity',\n",
       "       'precip_intensity', 'precip_intensity_max', 'pressure', 'visibility',\n",
       "       'wind_speed', 'tomato_price', 'oil_price', 'lettuce_price',\n",
       "       'onion_price'],\n",
       "      dtype='object')"
      ]
     },
     "execution_count": 8,
     "metadata": {},
     "output_type": "execute_result"
    },
    {
     "data": {
      "image/png": "[encoded data removed]",
      "text/plain": [
       "<Figure size 432x288 with 1 Axes>"
      ]
     },
     "metadata": {
      "needs_background": "light"
     },
     "output_type": "display_data"
    }
   ],
   "source": [
    "data['tomato_price'].hist()\n",
    "data.columns"
   ]
  },
  {
   "cell_type": "code",
   "execution_count": 9,
   "metadata": {},
   "outputs": [
    {
     "data": {
      "text/plain": [
       "array([[-1.33953745e+00, -1.44129886e+00,  1.11315291e+00,\n",
       "         1.25421837e+00, -1.48350565e-01, -3.97528182e-01,\n",
       "         2.80683455e-02, -2.94316100e-01, -7.88429846e-01,\n",
       "        -8.24087048e-01, -5.79233881e-01, -3.17461134e-01],\n",
       "       [-1.46545864e+00, -1.53080550e+00,  4.87004396e-01,\n",
       "        -5.13337330e-01, -5.73394029e-01,  1.49456071e-01,\n",
       "         7.96454192e-01, -6.36591504e-01, -7.88429846e-01,\n",
       "         8.53433917e-02, -5.79233881e-01, -1.13378976e-01],\n",
       "       [-8.13511827e-01, -1.06875770e+00, -5.56576453e-01,\n",
       "        -5.16546691e-01, -5.74795657e-01,  1.03007802e+00,\n",
       "         2.89844128e-01, -4.58119329e-01,  1.26834366e+00,\n",
       "        -1.09031973e-01, -8.06384423e-01,  2.19955214e+00],\n",
       "       [ 9.02773704e-02, -8.65553426e-01, -9.74008792e-01,\n",
       "        -5.17349031e-01, -5.07867955e-01,  1.28654782e+00,\n",
       "         4.39541031e-01, -6.70819044e-01, -7.88429846e-01,\n",
       "         2.10236160e-01, -1.03353496e+00, -8.61680220e-01],\n",
       "       [ 1.91826718e-01,  9.96668562e-02, -7.65292622e-01,\n",
       "        -5.13337330e-01,  3.82410636e-02, -9.33958589e-02,\n",
       "         1.11216934e+00, -5.04570991e-01, -7.88429846e-01,\n",
       "         6.11300261e-01, -1.26068551e+00, -7.93652834e-01],\n",
       "       [ 1.22966105e+00,  6.92345977e-01, -1.80887347e+00,\n",
       "        -5.17349031e-01, -4.40765051e-01,  9.93763713e-01,\n",
       "         1.17131660e+00, -6.92822463e-01, -7.88429846e-01,\n",
       "         3.82623361e-01, -1.03353496e+00, -1.13378976e-01],\n",
       "       [ 1.28652869e+00,  1.02134337e+00, -9.74008792e-01,\n",
       "        -4.25079896e-01, -5.75146064e-01, -2.18226290e-01,\n",
       "         8.85530967e-01, -5.14350288e-01, -7.88429846e-01,\n",
       "        -5.01036951e-02, -1.26068551e+00, -7.93652834e-01],\n",
       "       [ 1.16466947e+00,  1.19793755e+00,  2.78288226e-01,\n",
       "         8.03944990e-02,  2.54943149e+00, -3.13551346e-01,\n",
       "         1.85326909e-01, -7.29494828e-01, -7.88429846e-01,\n",
       "        -9.33148339e-01, -1.03353496e+00, -7.93652834e-01],\n",
       "       [ 6.18333980e-01,  2.37555468e-01, -1.39144113e-01,\n",
       "        -5.15744351e-01, -5.60779384e-01,  5.42104517e-01,\n",
       "         7.22514831e-01, -8.15063679e-01,  1.26834366e+00,\n",
       "        -8.36400419e-01, -8.06384423e-01, -6.57598063e-01],\n",
       "       [-5.59536907e-02,  1.23857841e-01,  1.11315291e+00,\n",
       "        -5.13337330e-01, -5.73744436e-01,  3.55993693e-01,\n",
       "         1.80577087e-01, -9.98425502e-01,  1.26834366e+00,\n",
       "        -7.65158770e-01, -1.03353496e+00, -7.93652834e-01],\n",
       "       [-3.68725683e-01,  9.48286593e-02,  1.53058524e+00,\n",
       "        -4.09835430e-01, -3.87328011e-01,  2.13006108e-01,\n",
       "         1.67518601e-01, -3.11429870e-01, -7.88429846e-01,\n",
       "        -1.13104181e+00, -1.03353496e+00, -8.61680220e-01],\n",
       "       [-4.07314435e-01,  3.56091292e-01,  1.11315291e+00,\n",
       "        -5.10930309e-01, -9.43879153e-02,  6.05654555e-01,\n",
       "         6.47299924e-01,  1.11524736e-01, -7.88429846e-01,\n",
       "        -1.68162542e+00, -1.48783605e+00, -8.61680220e-01],\n",
       "       [-1.16284158e+00, -1.06875770e+00,  1.32186907e+00,\n",
       "         7.52755678e-01,  1.92115208e+00, -1.56412530e+00,\n",
       "         4.83557925e-01, -3.48102235e-01, -7.88429846e-01,\n",
       "        -2.32455932e+00, -1.24932798e-01, -3.85488519e-01],\n",
       "       [-1.18721343e+00, -1.23567549e+00, -1.39144113e-01,\n",
       "        -5.14942010e-01, -5.72518012e-01, -1.42113772e+00,\n",
       "         6.90837607e-01, -3.23653992e-01, -7.88429846e-01,\n",
       "        -2.19438939e+00,  1.02217744e-01,  7.02949653e-01],\n",
       "       [-8.29759722e-01, -1.10020598e+00, -5.56576453e-01,\n",
       "        -5.10127969e-01,  3.27004310e+00, -2.22765578e-01,\n",
       "         1.99421335e-01, -5.95029491e-01,  1.26834366e+00,\n",
       "        -1.66403489e+00, -3.52083339e-01, -4.53515905e-01],\n",
       "       [-4.82460952e-01, -9.57479167e-01, -1.18272496e+00,\n",
       "        -5.15744351e-01, -5.72167606e-01, -6.19953314e-01,\n",
       "         1.09624264e+00, -6.65929396e-01, -7.88429846e-01,\n",
       "        -1.36763445e+00, -3.52083339e-01, -4.53515905e-01],\n",
       "       [ 6.18333980e-01,  3.46414898e-01, -9.74008792e-01,\n",
       "        -5.14942010e-01, -5.72868419e-01, -3.97528182e-01,\n",
       "         8.23452066e-01, -7.85725787e-01, -7.88429846e-01,\n",
       "        -9.13798755e-01, -1.24932798e-01, -5.89570677e-01],\n",
       "       [ 9.04703141e-01,  1.09391632e+00,  2.78288226e-01,\n",
       "         2.04757247e-01, -5.69013944e-01, -4.22494268e-01,\n",
       "         6.52169548e-01, -7.88170611e-01, -7.88429846e-01,\n",
       "        -7.80990248e-01, -5.79233881e-01, -6.57598063e-01],\n",
       "       [ 1.44088370e+00,  1.39388453e+00, -5.56576453e-01,\n",
       "        -5.01302225e-01, -1.00695238e-01,  4.87633057e-01,\n",
       "         6.34854545e-01, -7.00156936e-01,  1.26834366e+00,\n",
       "        -1.07123400e+00, -8.06384423e-01, -7.93652834e-01],\n",
       "       [ 1.58305279e+00,  1.37211264e+00, -7.65292622e-01,\n",
       "        -2.87237831e-02, -5.73043623e-01,  6.71474237e-01,\n",
       "         1.04825817e+00, -7.27050004e-01, -7.88429846e-01,\n",
       "        -9.92956143e-01, -1.24932798e-01, -5.89570677e-01],\n",
       "       [ 1.16060750e+00,  1.06730624e+00,  2.78288226e-01,\n",
       "        -5.13337330e-01, -4.68797596e-01,  1.56265003e-01,\n",
       "         9.80104568e-01, -8.61515341e-01,  1.26834366e+00,\n",
       "        -9.28750706e-01, -1.24932798e-01,  4.98867496e-01],\n",
       "       [ 1.16680201e-01, -4.54790509e-02,  2.78288226e-01,\n",
       "        -5.16546691e-01, -5.76022081e-01,  1.40229967e+00,\n",
       "         3.13515717e-01, -1.03998752e+00,  1.26834366e+00,\n",
       "        -6.69290377e-01, -8.06384423e-01, -7.93652834e-01],\n",
       "       [-9.67866836e-01, -1.09778688e+00,  4.87004396e-01,\n",
       "        -8.64922853e-02, -5.66385893e-01, -4.40651422e-01,\n",
       "         6.54565601e-01, -7.17270706e-01, -7.88429846e-01,\n",
       "        -1.09058359e+00, -1.24932798e-01, -8.61680220e-01],\n",
       "       [-1.07957112e+00, -1.05666220e+00,  1.53058524e+00,\n",
       "        -5.06116267e-01, -5.63232232e-01,  2.64152540e+00,\n",
       "        -3.74602371e-01, -9.61753138e-01, -7.88429846e-01,\n",
       "        -3.35949820e-01,  1.02217744e-01,  2.26757953e-01],\n",
       "       [-1.53045022e+00, -1.68804690e+00,  1.32186907e+00,\n",
       "         1.46025936e-02, -5.71116385e-01,  1.61110694e+00,\n",
       "        -4.47646031e-02, -8.83518760e-01, -7.88429846e-01,\n",
       "        -2.24249949e-01,  1.01081991e+00, -4.53515905e-02],\n",
       "       [-1.15268665e+00, -8.99420805e-01,  1.11315291e+00,\n",
       "        -5.14942010e-01, -5.74270046e-01, -3.20360279e-01,\n",
       "        -6.31014519e-02, -4.77677924e-01, -7.88429846e-01,\n",
       "        -1.98743680e-01,  2.37372316e+00,  5.66894881e-01],\n",
       "       [-4.19500357e-01, -3.88991031e-01,  2.78288226e-01,\n",
       "        -5.15744351e-01, -2.80979544e-01, -2.79506683e-01,\n",
       "         3.33508661e-01, -3.94553897e-01,  1.26834366e+00,\n",
       "        -4.87228384e-01,  1.69227153e+00,  2.87982600e+00],\n",
       "       [-1.39224156e-01, -7.90561374e-01, -1.39144113e+00,\n",
       "        -5.16546691e-01, -5.76372487e-01,  1.48400686e+00,\n",
       "         9.76580962e-01, -9.03077354e-01,  1.26834366e+00,\n",
       "        -4.23902473e-01,  1.02217744e-01, -4.53515905e-01],\n",
       "       [ 5.26939567e-01,  4.16568754e-01, -1.39144113e-01,\n",
       "        -5.12534989e-01,  2.29037574e-01,  2.94713300e-01,\n",
       "         6.96785455e-01, -7.68612017e-01,  1.26834366e+00,\n",
       "        -5.98048728e-01, -3.52083339e-01, -6.57598063e-01],\n",
       "       [ 1.31699349e+00,  1.13020280e+00, -7.65292622e-01,\n",
       "        -5.14942010e-01, -5.73744436e-01, -5.54133632e-01,\n",
       "         5.37708711e-01, -6.95267288e-01, -7.88429846e-01,\n",
       "        -9.46341237e-01, -1.24932798e-01, -3.85488519e-01],\n",
       "       [ 1.44900765e+00,  1.51000125e+00, -5.56576453e-01,\n",
       "        -5.14139670e-01,  3.93378369e-01, -4.27033556e-01,\n",
       "         1.09648929e+00, -7.22160355e-01,  1.26834366e+00,\n",
       "        -7.60761137e-01, -8.06384423e-01, -5.89570677e-01],\n",
       "       [ 1.28855968e+00,  1.17132747e+00, -1.39144113e-01,\n",
       "        -5.13337330e-01,  1.93646485e-01,  8.81756772e-02,\n",
       "         6.44051159e-01, -9.22635949e-01, -7.88429846e-01,\n",
       "        -4.77553592e-01, -5.79233881e-01, -1.13378976e-01],\n",
       "       [ 6.65046680e-01,  6.17353925e-01,  4.87004396e-01,\n",
       "        -5.12534989e-01, -4.53730103e-01, -3.72562096e-01,\n",
       "         5.67144921e-01, -7.63722368e-01,  1.26834366e+00,\n",
       "        -8.61642831e-02, -3.52083339e-01, -7.93652834e-01],\n",
       "       [ 2.64942249e-01,  4.38340640e-01,  6.95720566e-01,\n",
       "        -5.16546691e-01, -5.13299261e-01,  8.30349331e-01,\n",
       "         6.34044116e-01, -5.97474315e-01,  1.26834366e+00,\n",
       "         3.34513260e-02,  5.56518827e-01, -1.13378976e-01],\n",
       "       [-7.20086427e-01, -8.97001706e-01,  6.95720566e-01,\n",
       "        -5.14942010e-01, -5.73569233e-01,  2.76556146e-01,\n",
       "         5.43121676e-02, -7.31939652e-01, -7.88429846e-01,\n",
       "         4.90805125e-01, -5.79233881e-01,  7.02949653e-01],\n",
       "       [-1.27657685e+00, -1.21874180e+00,  1.32186907e+00,\n",
       "         4.80762313e-01, -5.69714758e-01, -6.08605093e-01,\n",
       "         2.68166900e-01, -3.43212586e-01, -7.88429846e-01,\n",
       "         6.36806531e-01, -3.52083339e-01,  1.17914135e+00],\n",
       "       [-1.16893454e+00, -9.64736463e-01,  1.32186907e+00,\n",
       "        -5.13337330e-01, -5.71116385e-01, -8.85501685e-01,\n",
       "        -8.52085598e-02, -3.04095397e-01, -7.88429846e-01,\n",
       "         1.05106353e+00, -3.52083339e-01, -3.17461134e-01],\n",
       "       [-1.61575168e+00, -1.78239174e+00, -3.47860283e-01,\n",
       "         8.08117159e-01, -5.73218826e-01, -2.07672444e-02,\n",
       "         4.77060394e-01, -5.07015815e-01, -7.88429846e-01,\n",
       "         7.20361552e-01, -1.24932798e-01, -1.13378976e-01],\n",
       "       [-1.19736836e+00, -1.29131475e+00,  6.95720566e-01,\n",
       "        -5.12534989e-01, -1.26274935e-01, -3.20507806e+00,\n",
       "         2.44037947e-02, -4.80122748e-01, -7.88429846e-01,\n",
       "         7.81928409e-01,  1.02217744e-01, -3.17461134e-01],\n",
       "       [-7.82945473e-02, -1.39823891e-01,  6.95720566e-01,\n",
       "         6.78138029e-01, -5.73218826e-01, -1.28041978e+00,\n",
       "         4.13036462e-01, -5.09460640e-01,  1.26834366e+00,\n",
       "         1.31756007e+00, -5.79233881e-01,  8.39004425e-01],\n",
       "       [ 9.63601763e-01,  3.53672194e-01, -1.18272496e+00,\n",
       "        -3.18368635e-01,  1.00238541e+00,  2.37972194e-01,\n",
       "        -3.90070299e-02, -3.57881532e-01,  1.26834366e+00,\n",
       "         1.74588949e+00,  3.73662641e+00,  6.34922267e-01],\n",
       "       [ 1.61757956e+00,  9.80218693e-01, -3.26988666e+00,\n",
       "         8.98621146e-03,  1.65158411e-02,  1.92919757e-03,\n",
       "         9.01746604e-01,  4.00014005e-01, -7.88429846e-01,\n",
       "         1.51897165e+00, -5.79233881e-01,  2.94785338e-01],\n",
       "       [ 1.82677122e+00,  1.83416045e+00, -1.60015730e+00,\n",
       "         2.98566876e+00, -1.97407519e-01,  4.12734798e-01,\n",
       "        -2.00367846e+00,  3.46227870e-01,  1.26834366e+00,\n",
       "         1.50577875e+00,  1.01081991e+00,  9.07031810e-02],\n",
       "       [ 1.28246672e+00,  1.55838322e+00, -7.65292622e-01,\n",
       "         4.67700213e+00, -5.67261910e-01,  5.62531315e-01,\n",
       "        -1.97374895e+00,  9.23206408e-01, -7.88429846e-01,\n",
       "         1.35450019e+00,  1.46512099e+00, -7.25625448e-01],\n",
       "       [ 8.57990441e-01,  8.71359263e-01, -1.60015730e+00,\n",
       "        -5.14139670e-01, -5.66736300e-01,  1.30243532e+00,\n",
       "        -2.74508758e+00,  1.38772303e+00,  1.26834366e+00,\n",
       "         1.91387906e+00,  3.29368285e-01, -5.21543291e-01],\n",
       "       [ 2.83221132e-01,  3.99635064e-01, -5.56576453e-01,\n",
       "         5.58589323e-01, -1.00870441e-01,  4.28622307e-01,\n",
       "        -2.25663113e+00,  1.21169568e+00, -7.88429846e-01,\n",
       "         2.10209774e+00,  3.29368285e-01, -7.93652834e-01],\n",
       "       [-6.30723000e-01, -5.75745432e-02,  4.87004396e-01,\n",
       "        -4.96488183e-01, -5.70415572e-01, -6.78964063e-01,\n",
       "        -2.19806879e+00,  2.17251163e+00, -7.88429846e-01,\n",
       "         6.70228539e-01, -5.79233881e-01,  1.04308658e+00],\n",
       "       [-9.00844266e-01, -2.72874305e-01,  6.95720566e-01,\n",
       "         2.40316969e+00,  1.51047529e+00,  7.16867121e-01,\n",
       "        -3.14686964e-01,  2.04293594e+00, -7.88429846e-01,\n",
       "         2.02584279e-02,  2.82802424e+00,  1.99546998e+00],\n",
       "       [-1.46545864e+00, -1.39775509e+00,  6.95720566e-01,\n",
       "        -4.53964147e-01, -2.16855097e-01,  5.76149180e-01,\n",
       "        -1.43698386e+00,  1.66887782e+00, -7.88429846e-01,\n",
       "         2.00561368e-01,  1.23797045e+00,  1.79138783e+00],\n",
       "       [-9.45525979e-01, -5.55908824e-01,  1.32186907e+00,\n",
       "        -5.08523288e-01,  1.19791241e+00,  1.09816735e+00,\n",
       "        -2.84383947e-01,  1.76178115e+00, -7.88429846e-01,\n",
       "         6.00745943e-01,  7.83669368e-01,  2.26757953e-02],\n",
       "       [-5.92134248e-01, -4.68821280e-01, -1.39144113e-01,\n",
       "        -5.02906906e-01,  7.36601843e-01,  2.47050771e-01,\n",
       "        -6.10085000e-01,  2.21896329e+00,  1.26834366e+00,\n",
       "         7.92482728e-01, -5.79233881e-01,  3.96826417e+00],\n",
       "       [-2.24525608e-01, -2.58359715e-01, -1.39144113e+00,\n",
       "         1.76932085e+00, -3.24605192e-01, -3.77101384e-01,\n",
       "        -1.10178316e+00,  1.18969226e+00,  1.26834366e+00,\n",
       "         1.24016174e+00,  3.29368285e-01, -6.57598063e-01],\n",
       "       [ 1.73547836e-01,  2.10945385e-01, -9.74008792e-01,\n",
       "        -4.87662440e-01, -5.74970860e-01,  4.98981278e-01,\n",
       "        -4.57858148e-01,  6.95837747e-01,  1.26834366e+00,\n",
       "         1.24807747e+00, -5.79233881e-01, -5.21543291e-01],\n",
       "       [ 6.65046680e-01,  1.05279165e+00,  6.95720566e-02,\n",
       "        -7.92712225e-02,  2.88704846e+00, -1.09283368e-01,\n",
       "        -1.12250197e+00,  1.34371619e+00,  1.26834366e+00,\n",
       "         6.23613633e-01,  1.02217744e-01,  9.07031810e-02],\n",
       "       [ 1.28043573e+00,  1.65272806e+00, -5.56576453e-01,\n",
       "        -5.10127969e-01, -5.66561097e-01,  1.67613224e-01,\n",
       "        -1.46543346e+00,  8.71865097e-01,  1.26834366e+00,\n",
       "         5.97227836e-01, -3.52083339e-01, -6.57598063e-01],\n",
       "       [ 1.24184698e+00,  1.93334348e+00,  6.95720566e-02,\n",
       "        -5.16546691e-01, -5.76547691e-01, -1.41058387e-01,\n",
       "        -3.13870967e+00,  1.27770593e+00, -7.88429846e-01,\n",
       "         1.68018886e-01,  1.01081991e+00, -3.17461134e-01],\n",
       "       [ 9.13944132e-04,  4.83819690e-04,  6.95720566e-02,\n",
       "         1.60468062e-04,  4.67209085e-05, -3.40446630e-04,\n",
       "        -7.04721322e-07, -9.37182653e-04,  1.26834366e+00,\n",
       "         5.01359444e-01,  1.01081991e+00, -6.57598063e-01],\n",
       "       [ 1.10688789e-02,  4.35921541e-01,  4.87004396e-01,\n",
       "         1.94102168e+00,  3.44244326e+00, -9.62669588e-01,\n",
       "        -4.85187240e-01,  2.04049112e+00, -7.88429846e-01,\n",
       "         3.99334366e-01,  1.02217744e-01, -5.21543291e-01],\n",
       "       [-8.19604788e-01, -4.08343819e-01,  1.53058524e+00,\n",
       "         1.60965513e+00,  1.52957246e+00, -3.36849244e+00,\n",
       "         2.77772252e-01,  1.64442958e+00, -7.88429846e-01,\n",
       "         5.50612930e-01,  1.23797045e+00,  2.06349737e+00],\n",
       "       [-1.08363309e+00, -7.15569322e-01,  9.04436735e-01,\n",
       "        -5.06116267e-01, -5.53771248e-01, -1.66852893e+00,\n",
       "         9.55595065e-02,  2.19451505e+00, -7.88429846e-01,\n",
       "         7.92482728e-01,  7.83669368e-01,  2.26757953e-02]])"
      ]
     },
     "execution_count": 9,
     "metadata": {},
     "output_type": "execute_result"
    }
   ],
   "source": [
    "# I Scale/Normalize the numerical values\n",
    "\n",
    "num_features = ['temperature_max', 'temperature_min', 'humidity',\n",
    "       'precip_intensity', 'precip_intensity_max', 'pressure', 'visibility',\n",
    "       'wind_speed', 'tomato_price', 'oil_price', 'lettuce_price',\n",
    "       'onion_price']\n",
    "numerical_transformer = Pipeline([\n",
    "            ('payment_scaler', StandardScaler())\n",
    "        ])\n",
    "columns_transformer = ColumnTransformer([(\"numerical\", numerical_transformer, num_features)])\n",
    "columns_transformer.fit_transform(data)\n"
   ]
  },
  {
   "cell_type": "code",
   "execution_count": 10,
   "metadata": {},
   "outputs": [
    {
     "data": {
      "text/plain": [
       "(15, 11)"
      ]
     },
     "execution_count": 10,
     "metadata": {},
     "output_type": "execute_result"
    }
   ],
   "source": [
    "# I split the dataset into train and test.\n",
    "y = data['tomato_price']\n",
    "simplified_df = data.copy()\n",
    "del simplified_df['tomato_price']\n",
    "del simplified_df['day']\n",
    "X = simplified_df.copy()\n",
    "X_train, X_test, y_train, y_test = train_test_split(X,\n",
    "                                                    y,\n",
    "                                                    random_state=50)\n",
    "X_train.shape\n",
    "X_test.shape\n"
   ]
  },
  {
   "cell_type": "code",
   "execution_count": 11,
   "metadata": {},
   "outputs": [],
   "source": [
    "# Random Forest model\n",
    "rf_model = RandomForestClassifier(class_weight=\"balanced\", n_estimators=150, n_jobs=-1)"
   ]
  },
  {
   "cell_type": "code",
   "execution_count": 12,
   "metadata": {},
   "outputs": [
    {
     "name": "stderr",
     "output_type": "stream",
     "text": [
      "/Users/pola/miniconda3/envs/ads04/lib/python3.7/site-packages/sklearn/model_selection/_search.py:814: DeprecationWarning: The default of the `iid` parameter will change from True to False in version 0.22 and will be removed in 0.24. This will change numeric results when test-set sizes are unequal.\n",
      "  DeprecationWarning)\n"
     ]
    },
    {
     "data": {
      "text/plain": [
       "GridSearchCV(cv=5, error_score='raise-deprecating',\n",
       "             estimator=RandomForestClassifier(bootstrap=True,\n",
       "                                              class_weight='balanced',\n",
       "                                              criterion='gini', max_depth=None,\n",
       "                                              max_features='auto',\n",
       "                                              max_leaf_nodes=None,\n",
       "                                              min_impurity_decrease=0.0,\n",
       "                                              min_impurity_split=None,\n",
       "                                              min_samples_leaf=1,\n",
       "                                              min_samples_split=2,\n",
       "                                              min_weight_fraction_leaf=0.0,\n",
       "                                              n_estimators=150, n_jobs=-1,\n",
       "                                              oob_score=False,\n",
       "                                              random_state=None, verbose=0,\n",
       "                                              warm_start=False),\n",
       "             iid='warn', n_jobs=-1,\n",
       "             param_grid={'max_depth': [10, 15, 20],\n",
       "                         'min_samples_split': [0.005, 0.01, 0.05]},\n",
       "             pre_dispatch='2*n_jobs', refit=True, return_train_score=False,\n",
       "             scoring='balanced_accuracy', verbose=0)"
      ]
     },
     "execution_count": 12,
     "metadata": {},
     "output_type": "execute_result"
    }
   ],
   "source": [
    "#Use grid search to find the best parameters for your rf_model\n",
    "gs = GridSearchCV(rf_model, {\"max_depth\": [10, 15, 20],\n",
    "                             \"min_samples_split\": [.005, .01, .05]}, \n",
    "                  n_jobs=-1, cv=5, scoring=\"balanced_accuracy\")\n",
    "\n",
    "gs.fit(X_train, y_train)"
   ]
  },
  {
   "cell_type": "code",
   "execution_count": 13,
   "metadata": {},
   "outputs": [
    {
     "name": "stdout",
     "output_type": "stream",
     "text": [
      "{'max_depth': 20, 'min_samples_split': 0.005}\n"
     ]
    }
   ],
   "source": [
    "print(gs.best_params_)"
   ]
  },
  {
   "cell_type": "code",
   "execution_count": 14,
   "metadata": {},
   "outputs": [
    {
     "name": "stderr",
     "output_type": "stream",
     "text": [
      "/Users/pola/miniconda3/envs/ads04/lib/python3.7/site-packages/sklearn/model_selection/_search.py:814: DeprecationWarning: The default of the `iid` parameter will change from True to False in version 0.22 and will be removed in 0.24. This will change numeric results when test-set sizes are unequal.\n",
      "  DeprecationWarning)\n"
     ]
    },
    {
     "data": {
      "text/plain": [
       "GridSearchCV(cv=5, error_score='raise-deprecating',\n",
       "             estimator=RandomForestClassifier(bootstrap=True,\n",
       "                                              class_weight='balanced',\n",
       "                                              criterion='gini', max_depth=20,\n",
       "                                              max_features='auto',\n",
       "                                              max_leaf_nodes=None,\n",
       "                                              min_impurity_decrease=0.0,\n",
       "                                              min_impurity_split=None,\n",
       "                                              min_samples_leaf=1,\n",
       "                                              min_samples_split=0.005,\n",
       "                                              min_weight_fraction_leaf=0.0,\n",
       "                                              n_estimators=150, n_jobs=-1,\n",
       "                                              oob_score=False,\n",
       "                                              random_state=None, verbose=0,\n",
       "                                              warm_start=False),\n",
       "             iid='warn', n_jobs=-1,\n",
       "             param_grid={'max_depth': [10], 'min_samples_split': [0.05]},\n",
       "             pre_dispatch='2*n_jobs', refit=True, return_train_score=False,\n",
       "             scoring='balanced_accuracy', verbose=0)"
      ]
     },
     "execution_count": 14,
     "metadata": {},
     "output_type": "execute_result"
    }
   ],
   "source": [
    "# Random Forest model with the best parameters\n",
    "rf_model = gs.best_estimator_\n",
    "gs = GridSearchCV(rf_model, {\"max_depth\": [10],\n",
    "                             \"min_samples_split\": [.05]}, \n",
    "                  n_jobs=-1, cv=5, scoring=\"balanced_accuracy\")\n",
    "\n",
    "gs.fit(X_train, y_train)"
   ]
  },
  {
   "cell_type": "code",
   "execution_count": 15,
   "metadata": {},
   "outputs": [
    {
     "name": "stdout",
     "output_type": "stream",
     "text": [
      "0.6353703703703704\n"
     ]
    }
   ],
   "source": [
    "print(gs.best_score_)"
   ]
  },
  {
   "cell_type": "code",
   "execution_count": 16,
   "metadata": {},
   "outputs": [
    {
     "data": {
      "text/plain": [
       "0.6"
      ]
     },
     "execution_count": 16,
     "metadata": {},
     "output_type": "execute_result"
    }
   ],
   "source": [
    "y_pred = rf_model.predict(X_test)\n",
    "metrics.accuracy_score(y_test, y_pred)"
   ]
  },
  {
   "cell_type": "code",
   "execution_count": null,
   "metadata": {},
   "outputs": [],
   "source": [
    "\n"
   ]
  },
  {
   "cell_type": "code",
   "execution_count": null,
   "metadata": {},
   "outputs": [],
   "source": []
  }
 ],
 "metadata": {
  "kernelspec": {
   "display_name": "Python 3",
   "language": "python",
   "name": "python3"
  },
  "language_info": {
   "codemirror_mode": {
    "name": "ipython",
    "version": 3
   },
   "file_extension": ".py",
   "mimetype": "text/x-python",
   "name": "python",
   "nbconvert_exporter": "python",
   "pygments_lexer": "ipython3",
   "version": "3.7.4"
  }
 },
 "nbformat": 4,
 "nbformat_minor": 2
}
